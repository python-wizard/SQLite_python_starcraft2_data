{
 "cells": [
  {
   "cell_type": "code",
   "execution_count": 1,
   "outputs": [],
   "source": [
    "import sqlite3\n",
    "import pandas as pd"
   ],
   "metadata": {
    "collapsed": false,
    "pycharm": {
     "name": "#%%\n"
    }
   }
  },
  {
   "cell_type": "code",
   "execution_count": 2,
   "outputs": [],
   "source": [
    "# Creating SQLite connection\n",
    "# Tworzenie połączenia z bazą danych\n",
    "\n",
    "conn = sqlite3.connect('data/sc2_data.db')"
   ],
   "metadata": {
    "collapsed": false,
    "pycharm": {
     "name": "#%%\n"
    }
   }
  },
  {
   "cell_type": "code",
   "execution_count": 3,
   "outputs": [],
   "source": [
    "# Creating a cursor\n",
    "# Tworzenie cursora. Połączenie i cursor są potrzebne do wykonywania poleceń na bazie danych\n",
    "\n",
    "c = conn.cursor()"
   ],
   "metadata": {
    "collapsed": false,
    "pycharm": {
     "name": "#%%\n"
    }
   }
  },
  {
   "cell_type": "code",
   "execution_count": 4,
   "outputs": [],
   "source": [
    "# getting into terran data and diplaying it using pandas\n",
    "terran_units = pd.read_sql(\"select * from terran_units\", conn)"
   ],
   "metadata": {
    "collapsed": false,
    "pycharm": {
     "name": "#%%\n"
    }
   }
  },
  {
   "cell_type": "code",
   "execution_count": 5,
   "outputs": [
    {
     "data": {
      "text/plain": "             Unit name Supply Minerals  Gas Game speed   Size Cargo   Armor  \\\n0                  SCV      1       50    0         12   0.75     1  0 (+1)   \n1                 MULE      -        -    -          -   0.75     -  0 (+1)   \n2               Marine      1       50    0         18   0.75     1  0 (+1)   \n3             Marauder      2      100   25         21  1.125     2  1 (+1)   \n4               Reaper      1       50   50         32   0.75     1  0 (+1)   \n5                Ghost      2      150  125         29   0.75     2  0 (+1)   \n6              Hellion      2      100    0         21   1.25     2  0 (+1)   \n7              Hellbat      2      100    0         21   1.25     4  0 (+1)   \n8           Widow Mine      2       75   25         21    1.0     2  0 (+1)   \n9        Siege Tank tm      3      150  125         32   1.75     4  1 (+1)   \n10       Siege Tank sm      3      150  125         32   1.75     8  1 (+1)   \n11             Cyclone      3      150  100         32    1.5     3  1 (+1)   \n12    Thor (Explosive)      6      300  200         43    2.0     8  1 (+1)   \n13  Thor (High Impact)      6      300  200         43    2.0     8  1 (+1)   \n14           Viking fm      2      150   75         30    1.5     -  0 (+1)   \n15           Viking am      2      150   75         30    1.5     2  0 (+1)   \n16             Medivac      2      100  100         30    1.5     -  1 (+1)   \n17        Liberator fm      3      150  150         43    1.5     -  0 (+1)   \n18        Liberator dm      3      150  150         43    1.5     -  0 (+1)   \n19             Banshee      3      150  100         43    1.5     -  0 (+1)   \n20               Raven      2      100  200         43   1.25     -  1 (+1)   \n21       Battlecruiser      6      400  300         64    2.5     -  3 (+1)   \n22  Planetary Fortress      -      150  150         36    5x5     -  3 (+2)   \n23      Missile Turret      -      100    0         18    2x2     -  0 (+2)   \n24         Auto-Turret      -        -    -          -    2x2     -  1 (+2)   \n\n   Hit Points Attributes  ...   Air Attack            Bonus  \\\n0          45    L, B, M  ...            -                -   \n1          60       L, M  ...            -                -   \n2    45 (+10)       L, B  ...       6 (+1)                -   \n3         125       A, B  ...            -             +5 A   \n4          60       L, B  ...            -                -   \n5         100       B, P  ...      10 (+1)       +10 (+1) L   \n6          90       L, M  ...            -   +6 (+1), +11 L   \n7         135    L, B, M  ...            -   +0 (+1), +12 L   \n8          90       L, M  ...            -       +35 Shield   \n9         175       A, M  ...            -       +10 (+1) A   \n10        175       A, M  ...            -        30 (+1) A   \n11        120       A, M  ...      18 (+2)                -   \n12        400   A, M, Ma  ...  6 (+1) (x4)    +6 (+1) L Air   \n13        400   A, M, Ma  ...      25 (+4)  +10 (+1) Ma Air   \n14        125       A, M  ...   10 (+1) x2             +4 A   \n15        125       A, M  ...            -        +8 (+1) M   \n16        150       A, M  ...            -                -   \n17        180       A, M  ...    5 (+1) x2                -   \n18        180       A, M  ...            -                -   \n19        140       L, M  ...            -                -   \n20        140       L, M  ...            -                -   \n21        550   A, M, Ma  ...       5 (+1)                -   \n22       1500    A, M, S  ...            -                -   \n23        250    A, M, S  ...        12 x2                -   \n24        150    A, M, S  ...           18                -   \n\n                   Ground DPS                 Air DPS  \\\n0                         4.7                       -   \n1                           -                       -   \n2      9.8 (+1.64), 15 (+2.5)  9.8 (+1.64), 15 (+2.5)   \n3   9.3 (+1.87), 14.1 (+2.82)                       -   \n4                10.1 (+2.53)                       -   \n5                 9.3 (+0.93)             9.3 (+0.93)   \n6                 4.5 (+0.56)                       -   \n7                 12.6 (+1.4)                       -   \n8                           -                       -   \n9                 20.3 (+2.7)                       -   \n10               18.69 (+2.6)                       -   \n11                25.2 (+2.8)             25.2 (+2.8)   \n12               65.9 (+6.59)            11.2 (+1.87)   \n13               65.9 (+6.59)             27.5 (+3.3)   \n14                          -               14 (+1.4)   \n15               16.9 (+1.41)                       -   \n16                          -                       -   \n17                          -            7.75 (+1.55)   \n18               65.8 (+4.39)                       -   \n19                 27 (+2.25)                       -   \n20                          -                       -   \n21                 50 (+6.25)           31.25 (+6.25)   \n22                         28                       -   \n23                          -                    39.3   \n24                      31.58                   31.58   \n\n                       Bonus DPS  Attack Mod     Cooldown               Speed  \\\n0                              -           -         1.07                3.94   \n1                              -           -            -                3.94   \n2                              -           -  0.61 (0.40)        3.15 (+1.57)   \n3                  +9.3, +14.1 A           P  1.07 (0.71)        3.15 (+1.57)   \n4                              -           -         0.79                5.25   \n5                 +9.3 (+0.93) L           -         1.07                3.94   \n6   +3.4 (+0.56), 6.16 (+0.56) L           L         1.79                5.95   \n7        +0 (+0.7), 8.4 (+0.7) L           S         1.43                3.15   \n8                              -           S           29                3.94   \n9                +13.5 (+1.35) A           -         0.74                3.15   \n10              +14.02 (+0.87) A           S         2.14                   -   \n11                             -           P         0.71                4.72   \n12           +11.2 (+1.87) L Air  S, P (Air)   0.91, 2.14                2.62   \n13           +11.0 (+1.1) Ma Air     P (Air)         0.91                2.62   \n14                       +5.59 A           P         1.43                3.85   \n15               +11.3 (+1.41) M           -         0.71                3.15   \n16                             -           -            -  3.5 (0.63) (+2.44)   \n17                             -           P         1.29                4.72   \n18                             -           -         1.14                   -   \n19                             -           P         0.89         3.85 (+1.4)   \n20                             -           -            -                4.13   \n21                             -           -         0.16                2.62   \n22                             -           S         1.43                   -   \n23                             -           -         0.61                   -   \n24                             -           -         0.57                   -   \n\n        Range    Sight  \n0           M        8  \n1           -        8  \n2           5        9  \n3           6       10  \n4           5        9  \n5           6       11  \n6           5       10  \n7           2       10  \n8           5        7  \n9           7       11  \n10         13       11  \n11          5       11  \n12  7, 10 Air       11  \n13  7, 11 Air       11  \n14          9       10  \n15          6       10  \n16          -       11  \n17          5       10  \n18    10 (+3)  10 (+3)  \n19          6       10  \n20          -       11  \n21          6       12  \n22     6 (+1)       11  \n23     7 (+1)       11  \n24     6 (+1)        7  \n\n[25 rows x 21 columns]",
      "text/html": "<div>\n<style scoped>\n    .dataframe tbody tr th:only-of-type {\n        vertical-align: middle;\n    }\n\n    .dataframe tbody tr th {\n        vertical-align: top;\n    }\n\n    .dataframe thead th {\n        text-align: right;\n    }\n</style>\n<table border=\"1\" class=\"dataframe\">\n  <thead>\n    <tr style=\"text-align: right;\">\n      <th></th>\n      <th>Unit name</th>\n      <th>Supply</th>\n      <th>Minerals</th>\n      <th>Gas</th>\n      <th>Game speed</th>\n      <th>Size</th>\n      <th>Cargo</th>\n      <th>Armor</th>\n      <th>Hit Points</th>\n      <th>Attributes</th>\n      <th>...</th>\n      <th>Air Attack</th>\n      <th>Bonus</th>\n      <th>Ground DPS</th>\n      <th>Air DPS</th>\n      <th>Bonus DPS</th>\n      <th>Attack Mod</th>\n      <th>Cooldown</th>\n      <th>Speed</th>\n      <th>Range</th>\n      <th>Sight</th>\n    </tr>\n  </thead>\n  <tbody>\n    <tr>\n      <th>0</th>\n      <td>SCV</td>\n      <td>1</td>\n      <td>50</td>\n      <td>0</td>\n      <td>12</td>\n      <td>0.75</td>\n      <td>1</td>\n      <td>0 (+1)</td>\n      <td>45</td>\n      <td>L, B, M</td>\n      <td>...</td>\n      <td>-</td>\n      <td>-</td>\n      <td>4.7</td>\n      <td>-</td>\n      <td>-</td>\n      <td>-</td>\n      <td>1.07</td>\n      <td>3.94</td>\n      <td>M</td>\n      <td>8</td>\n    </tr>\n    <tr>\n      <th>1</th>\n      <td>MULE</td>\n      <td>-</td>\n      <td>-</td>\n      <td>-</td>\n      <td>-</td>\n      <td>0.75</td>\n      <td>-</td>\n      <td>0 (+1)</td>\n      <td>60</td>\n      <td>L, M</td>\n      <td>...</td>\n      <td>-</td>\n      <td>-</td>\n      <td>-</td>\n      <td>-</td>\n      <td>-</td>\n      <td>-</td>\n      <td>-</td>\n      <td>3.94</td>\n      <td>-</td>\n      <td>8</td>\n    </tr>\n    <tr>\n      <th>2</th>\n      <td>Marine</td>\n      <td>1</td>\n      <td>50</td>\n      <td>0</td>\n      <td>18</td>\n      <td>0.75</td>\n      <td>1</td>\n      <td>0 (+1)</td>\n      <td>45 (+10)</td>\n      <td>L, B</td>\n      <td>...</td>\n      <td>6 (+1)</td>\n      <td>-</td>\n      <td>9.8 (+1.64), 15 (+2.5)</td>\n      <td>9.8 (+1.64), 15 (+2.5)</td>\n      <td>-</td>\n      <td>-</td>\n      <td>0.61 (0.40)</td>\n      <td>3.15 (+1.57)</td>\n      <td>5</td>\n      <td>9</td>\n    </tr>\n    <tr>\n      <th>3</th>\n      <td>Marauder</td>\n      <td>2</td>\n      <td>100</td>\n      <td>25</td>\n      <td>21</td>\n      <td>1.125</td>\n      <td>2</td>\n      <td>1 (+1)</td>\n      <td>125</td>\n      <td>A, B</td>\n      <td>...</td>\n      <td>-</td>\n      <td>+5 A</td>\n      <td>9.3 (+1.87), 14.1 (+2.82)</td>\n      <td>-</td>\n      <td>+9.3, +14.1 A</td>\n      <td>P</td>\n      <td>1.07 (0.71)</td>\n      <td>3.15 (+1.57)</td>\n      <td>6</td>\n      <td>10</td>\n    </tr>\n    <tr>\n      <th>4</th>\n      <td>Reaper</td>\n      <td>1</td>\n      <td>50</td>\n      <td>50</td>\n      <td>32</td>\n      <td>0.75</td>\n      <td>1</td>\n      <td>0 (+1)</td>\n      <td>60</td>\n      <td>L, B</td>\n      <td>...</td>\n      <td>-</td>\n      <td>-</td>\n      <td>10.1 (+2.53)</td>\n      <td>-</td>\n      <td>-</td>\n      <td>-</td>\n      <td>0.79</td>\n      <td>5.25</td>\n      <td>5</td>\n      <td>9</td>\n    </tr>\n    <tr>\n      <th>5</th>\n      <td>Ghost</td>\n      <td>2</td>\n      <td>150</td>\n      <td>125</td>\n      <td>29</td>\n      <td>0.75</td>\n      <td>2</td>\n      <td>0 (+1)</td>\n      <td>100</td>\n      <td>B, P</td>\n      <td>...</td>\n      <td>10 (+1)</td>\n      <td>+10 (+1) L</td>\n      <td>9.3 (+0.93)</td>\n      <td>9.3 (+0.93)</td>\n      <td>+9.3 (+0.93) L</td>\n      <td>-</td>\n      <td>1.07</td>\n      <td>3.94</td>\n      <td>6</td>\n      <td>11</td>\n    </tr>\n    <tr>\n      <th>6</th>\n      <td>Hellion</td>\n      <td>2</td>\n      <td>100</td>\n      <td>0</td>\n      <td>21</td>\n      <td>1.25</td>\n      <td>2</td>\n      <td>0 (+1)</td>\n      <td>90</td>\n      <td>L, M</td>\n      <td>...</td>\n      <td>-</td>\n      <td>+6 (+1), +11 L</td>\n      <td>4.5 (+0.56)</td>\n      <td>-</td>\n      <td>+3.4 (+0.56), 6.16 (+0.56) L</td>\n      <td>L</td>\n      <td>1.79</td>\n      <td>5.95</td>\n      <td>5</td>\n      <td>10</td>\n    </tr>\n    <tr>\n      <th>7</th>\n      <td>Hellbat</td>\n      <td>2</td>\n      <td>100</td>\n      <td>0</td>\n      <td>21</td>\n      <td>1.25</td>\n      <td>4</td>\n      <td>0 (+1)</td>\n      <td>135</td>\n      <td>L, B, M</td>\n      <td>...</td>\n      <td>-</td>\n      <td>+0 (+1), +12 L</td>\n      <td>12.6 (+1.4)</td>\n      <td>-</td>\n      <td>+0 (+0.7), 8.4 (+0.7) L</td>\n      <td>S</td>\n      <td>1.43</td>\n      <td>3.15</td>\n      <td>2</td>\n      <td>10</td>\n    </tr>\n    <tr>\n      <th>8</th>\n      <td>Widow Mine</td>\n      <td>2</td>\n      <td>75</td>\n      <td>25</td>\n      <td>21</td>\n      <td>1.0</td>\n      <td>2</td>\n      <td>0 (+1)</td>\n      <td>90</td>\n      <td>L, M</td>\n      <td>...</td>\n      <td>-</td>\n      <td>+35 Shield</td>\n      <td>-</td>\n      <td>-</td>\n      <td>-</td>\n      <td>S</td>\n      <td>29</td>\n      <td>3.94</td>\n      <td>5</td>\n      <td>7</td>\n    </tr>\n    <tr>\n      <th>9</th>\n      <td>Siege Tank tm</td>\n      <td>3</td>\n      <td>150</td>\n      <td>125</td>\n      <td>32</td>\n      <td>1.75</td>\n      <td>4</td>\n      <td>1 (+1)</td>\n      <td>175</td>\n      <td>A, M</td>\n      <td>...</td>\n      <td>-</td>\n      <td>+10 (+1) A</td>\n      <td>20.3 (+2.7)</td>\n      <td>-</td>\n      <td>+13.5 (+1.35) A</td>\n      <td>-</td>\n      <td>0.74</td>\n      <td>3.15</td>\n      <td>7</td>\n      <td>11</td>\n    </tr>\n    <tr>\n      <th>10</th>\n      <td>Siege Tank sm</td>\n      <td>3</td>\n      <td>150</td>\n      <td>125</td>\n      <td>32</td>\n      <td>1.75</td>\n      <td>8</td>\n      <td>1 (+1)</td>\n      <td>175</td>\n      <td>A, M</td>\n      <td>...</td>\n      <td>-</td>\n      <td>30 (+1) A</td>\n      <td>18.69 (+2.6)</td>\n      <td>-</td>\n      <td>+14.02 (+0.87) A</td>\n      <td>S</td>\n      <td>2.14</td>\n      <td>-</td>\n      <td>13</td>\n      <td>11</td>\n    </tr>\n    <tr>\n      <th>11</th>\n      <td>Cyclone</td>\n      <td>3</td>\n      <td>150</td>\n      <td>100</td>\n      <td>32</td>\n      <td>1.5</td>\n      <td>3</td>\n      <td>1 (+1)</td>\n      <td>120</td>\n      <td>A, M</td>\n      <td>...</td>\n      <td>18 (+2)</td>\n      <td>-</td>\n      <td>25.2 (+2.8)</td>\n      <td>25.2 (+2.8)</td>\n      <td>-</td>\n      <td>P</td>\n      <td>0.71</td>\n      <td>4.72</td>\n      <td>5</td>\n      <td>11</td>\n    </tr>\n    <tr>\n      <th>12</th>\n      <td>Thor (Explosive)</td>\n      <td>6</td>\n      <td>300</td>\n      <td>200</td>\n      <td>43</td>\n      <td>2.0</td>\n      <td>8</td>\n      <td>1 (+1)</td>\n      <td>400</td>\n      <td>A, M, Ma</td>\n      <td>...</td>\n      <td>6 (+1) (x4)</td>\n      <td>+6 (+1) L Air</td>\n      <td>65.9 (+6.59)</td>\n      <td>11.2 (+1.87)</td>\n      <td>+11.2 (+1.87) L Air</td>\n      <td>S, P (Air)</td>\n      <td>0.91, 2.14</td>\n      <td>2.62</td>\n      <td>7, 10 Air</td>\n      <td>11</td>\n    </tr>\n    <tr>\n      <th>13</th>\n      <td>Thor (High Impact)</td>\n      <td>6</td>\n      <td>300</td>\n      <td>200</td>\n      <td>43</td>\n      <td>2.0</td>\n      <td>8</td>\n      <td>1 (+1)</td>\n      <td>400</td>\n      <td>A, M, Ma</td>\n      <td>...</td>\n      <td>25 (+4)</td>\n      <td>+10 (+1) Ma Air</td>\n      <td>65.9 (+6.59)</td>\n      <td>27.5 (+3.3)</td>\n      <td>+11.0 (+1.1) Ma Air</td>\n      <td>P (Air)</td>\n      <td>0.91</td>\n      <td>2.62</td>\n      <td>7, 11 Air</td>\n      <td>11</td>\n    </tr>\n    <tr>\n      <th>14</th>\n      <td>Viking fm</td>\n      <td>2</td>\n      <td>150</td>\n      <td>75</td>\n      <td>30</td>\n      <td>1.5</td>\n      <td>-</td>\n      <td>0 (+1)</td>\n      <td>125</td>\n      <td>A, M</td>\n      <td>...</td>\n      <td>10 (+1) x2</td>\n      <td>+4 A</td>\n      <td>-</td>\n      <td>14 (+1.4)</td>\n      <td>+5.59 A</td>\n      <td>P</td>\n      <td>1.43</td>\n      <td>3.85</td>\n      <td>9</td>\n      <td>10</td>\n    </tr>\n    <tr>\n      <th>15</th>\n      <td>Viking am</td>\n      <td>2</td>\n      <td>150</td>\n      <td>75</td>\n      <td>30</td>\n      <td>1.5</td>\n      <td>2</td>\n      <td>0 (+1)</td>\n      <td>125</td>\n      <td>A, M</td>\n      <td>...</td>\n      <td>-</td>\n      <td>+8 (+1) M</td>\n      <td>16.9 (+1.41)</td>\n      <td>-</td>\n      <td>+11.3 (+1.41) M</td>\n      <td>-</td>\n      <td>0.71</td>\n      <td>3.15</td>\n      <td>6</td>\n      <td>10</td>\n    </tr>\n    <tr>\n      <th>16</th>\n      <td>Medivac</td>\n      <td>2</td>\n      <td>100</td>\n      <td>100</td>\n      <td>30</td>\n      <td>1.5</td>\n      <td>-</td>\n      <td>1 (+1)</td>\n      <td>150</td>\n      <td>A, M</td>\n      <td>...</td>\n      <td>-</td>\n      <td>-</td>\n      <td>-</td>\n      <td>-</td>\n      <td>-</td>\n      <td>-</td>\n      <td>-</td>\n      <td>3.5 (0.63) (+2.44)</td>\n      <td>-</td>\n      <td>11</td>\n    </tr>\n    <tr>\n      <th>17</th>\n      <td>Liberator fm</td>\n      <td>3</td>\n      <td>150</td>\n      <td>150</td>\n      <td>43</td>\n      <td>1.5</td>\n      <td>-</td>\n      <td>0 (+1)</td>\n      <td>180</td>\n      <td>A, M</td>\n      <td>...</td>\n      <td>5 (+1) x2</td>\n      <td>-</td>\n      <td>-</td>\n      <td>7.75 (+1.55)</td>\n      <td>-</td>\n      <td>P</td>\n      <td>1.29</td>\n      <td>4.72</td>\n      <td>5</td>\n      <td>10</td>\n    </tr>\n    <tr>\n      <th>18</th>\n      <td>Liberator dm</td>\n      <td>3</td>\n      <td>150</td>\n      <td>150</td>\n      <td>43</td>\n      <td>1.5</td>\n      <td>-</td>\n      <td>0 (+1)</td>\n      <td>180</td>\n      <td>A, M</td>\n      <td>...</td>\n      <td>-</td>\n      <td>-</td>\n      <td>65.8 (+4.39)</td>\n      <td>-</td>\n      <td>-</td>\n      <td>-</td>\n      <td>1.14</td>\n      <td>-</td>\n      <td>10 (+3)</td>\n      <td>10 (+3)</td>\n    </tr>\n    <tr>\n      <th>19</th>\n      <td>Banshee</td>\n      <td>3</td>\n      <td>150</td>\n      <td>100</td>\n      <td>43</td>\n      <td>1.5</td>\n      <td>-</td>\n      <td>0 (+1)</td>\n      <td>140</td>\n      <td>L, M</td>\n      <td>...</td>\n      <td>-</td>\n      <td>-</td>\n      <td>27 (+2.25)</td>\n      <td>-</td>\n      <td>-</td>\n      <td>P</td>\n      <td>0.89</td>\n      <td>3.85 (+1.4)</td>\n      <td>6</td>\n      <td>10</td>\n    </tr>\n    <tr>\n      <th>20</th>\n      <td>Raven</td>\n      <td>2</td>\n      <td>100</td>\n      <td>200</td>\n      <td>43</td>\n      <td>1.25</td>\n      <td>-</td>\n      <td>1 (+1)</td>\n      <td>140</td>\n      <td>L, M</td>\n      <td>...</td>\n      <td>-</td>\n      <td>-</td>\n      <td>-</td>\n      <td>-</td>\n      <td>-</td>\n      <td>-</td>\n      <td>-</td>\n      <td>4.13</td>\n      <td>-</td>\n      <td>11</td>\n    </tr>\n    <tr>\n      <th>21</th>\n      <td>Battlecruiser</td>\n      <td>6</td>\n      <td>400</td>\n      <td>300</td>\n      <td>64</td>\n      <td>2.5</td>\n      <td>-</td>\n      <td>3 (+1)</td>\n      <td>550</td>\n      <td>A, M, Ma</td>\n      <td>...</td>\n      <td>5 (+1)</td>\n      <td>-</td>\n      <td>50 (+6.25)</td>\n      <td>31.25 (+6.25)</td>\n      <td>-</td>\n      <td>-</td>\n      <td>0.16</td>\n      <td>2.62</td>\n      <td>6</td>\n      <td>12</td>\n    </tr>\n    <tr>\n      <th>22</th>\n      <td>Planetary Fortress</td>\n      <td>-</td>\n      <td>150</td>\n      <td>150</td>\n      <td>36</td>\n      <td>5x5</td>\n      <td>-</td>\n      <td>3 (+2)</td>\n      <td>1500</td>\n      <td>A, M, S</td>\n      <td>...</td>\n      <td>-</td>\n      <td>-</td>\n      <td>28</td>\n      <td>-</td>\n      <td>-</td>\n      <td>S</td>\n      <td>1.43</td>\n      <td>-</td>\n      <td>6 (+1)</td>\n      <td>11</td>\n    </tr>\n    <tr>\n      <th>23</th>\n      <td>Missile Turret</td>\n      <td>-</td>\n      <td>100</td>\n      <td>0</td>\n      <td>18</td>\n      <td>2x2</td>\n      <td>-</td>\n      <td>0 (+2)</td>\n      <td>250</td>\n      <td>A, M, S</td>\n      <td>...</td>\n      <td>12 x2</td>\n      <td>-</td>\n      <td>-</td>\n      <td>39.3</td>\n      <td>-</td>\n      <td>-</td>\n      <td>0.61</td>\n      <td>-</td>\n      <td>7 (+1)</td>\n      <td>11</td>\n    </tr>\n    <tr>\n      <th>24</th>\n      <td>Auto-Turret</td>\n      <td>-</td>\n      <td>-</td>\n      <td>-</td>\n      <td>-</td>\n      <td>2x2</td>\n      <td>-</td>\n      <td>1 (+2)</td>\n      <td>150</td>\n      <td>A, M, S</td>\n      <td>...</td>\n      <td>18</td>\n      <td>-</td>\n      <td>31.58</td>\n      <td>31.58</td>\n      <td>-</td>\n      <td>-</td>\n      <td>0.57</td>\n      <td>-</td>\n      <td>6 (+1)</td>\n      <td>7</td>\n    </tr>\n  </tbody>\n</table>\n<p>25 rows × 21 columns</p>\n</div>"
     },
     "execution_count": 5,
     "metadata": {},
     "output_type": "execute_result"
    }
   ],
   "source": [
    "terran_units"
   ],
   "metadata": {
    "collapsed": false,
    "pycharm": {
     "name": "#%%\n"
    }
   }
  },
  {
   "cell_type": "code",
   "execution_count": 6,
   "outputs": [],
   "source": [
    "# getting into zerg data and diplaying it using pandas\n",
    "zerg_units = pd.read_sql(\"select * from zerg_units\", conn)"
   ],
   "metadata": {
    "collapsed": false,
    "pycharm": {
     "name": "#%%\n"
    }
   }
  },
  {
   "cell_type": "code",
   "execution_count": 7,
   "outputs": [
    {
     "data": {
      "text/plain": "        Unit name Supply Minerals  Gas Game speed   Size Cargo          Armor  \\\n0           Larva      -        -    -         11   0.25     -             10   \n1           Drone      1       50    0         12   0.75     1         0 (+1)   \n2           Queen      2      150    0         36   1.75     2         1 (+1)   \n3        Zergling    0.5       25    0         17   0.75     1         0 (+1)   \n4        Baneling    0.5       25   25         14   0.75     2         0 (+1)   \n5           Roach      2       75   25         19    1.0     2         1 (+1)   \n6         Ravager      3       25   75          9    1.5     4         1 (+1)   \n7       Hydralisk      2      100   50         24   1.25     2         0 (+1)   \n8          Lurker      3       50  100         18    1.5     4         1 (+1)   \n9        Infestor      2      100  150         36    1.5     2         0 (+1)   \n10     Swarm Host      3      100   75         29  1.625     4         1 (+1)   \n11         Locust      -        -    -          3   0.75     -         0 (+1)   \n12      Ultralisk      6      300  200         39    2.0     8  2 (+1) ((+2))   \n13       Overlord      -      100    0         18    2.0     -         0 (+1)   \n14       Overseer      -       50   50         12    2.0     -         1 (+1)   \n15     Changeling      -        -    -          1   0.75     -              0   \n16       Mutalisk      2      100  100         24    1.0     -         0 (+1)   \n17      Corruptor      2      150  100         29   1.25     -         2 (+1)   \n18          Viper      3      100  200         29    2.0     -         1 (+1)   \n19     Brood Lord      4      150  150         24    2.0     -         1 (+1)   \n20      Broodling      -        -    -          1   0.75     -         0 (+1)   \n21  Spine Crawler      -      100    -         36    2x2     -              2   \n22  Spore Crawler      -       75    -         21    2x2     -              1   \n\n   Hit Points Attributes  ...                    Bonus             Ground DPS  \\\n0          25       L, B  ...                        -                      -   \n1          40       L, B  ...                        -                    4.7   \n2         175       B, P  ...                        -           11.3 (+2.82)   \n3          35       L, B  ...                        -  10 (+2), 14.1 (+2.82)   \n4     30 (+5)          B  ...  +19 (+2) L / +64 (+5) S                      -   \n5         145       A, B  ...                        -            11.2 (+1.4)   \n6         120          B  ...                        -             14 (+1.75)   \n7          90       L, B  ...                        -           22.2 (+1.85)   \n8         200       A, B  ...               +10 (+1) A           13.99 (+1.4)   \n9          90    A, B, P  ...                        -                      -   \n10        160       A, B  ...                        -      46.6 (+4.66)[z 1]   \n11         50       L, B  ...                        -           23.3 (+2.33)   \n12        500   A, B, Ma  ...                        -           57.4 (+4.92)   \n13        200       A, B  ...                        -                      -   \n14        200       A, B  ...                        -                      -   \n15          5       L, B  ...                        -                      -   \n16        120       L, B  ...                        -            8.3 (+0.92)   \n17        200       A, B  ...               +6 (+1) Ma                      -   \n18        150    A, B, P  ...                        -                      -   \n19        225   A, B, Ma  ...                        -           22.4 (+2.24)   \n20         30       L, B  ...                        -            8.7 (+2.17)   \n21        300    A, B, S  ...                     +5 A                   18.9   \n22        400    A, B, S  ...                    +15 B                      -   \n\n         Air DPS        Bonus DPS Attack Mod       Cooldown           Speed  \\\n0              -                -          -              -          (0.79)   \n1              -                -          -           1.07            3.94   \n2   12.7 (+1.41)                -          P           0.71            1.31   \n3              -                -          -  0.497 (0.354)    4.13 (+2.45)   \n4              -                -          S              -     3.5 (+0.63)   \n5              -                -          -           1.43    3.15 (+1.05)   \n6              -                -       None           1.14            3.85   \n7   22.2 (+1.85)                -          P           0.54    3.15 (+0.79)   \n8              -   +6.99 (+0.7) A          L           1.43   4.13 (+0.413)   \n9              -                -          -              -            3.15   \n10             -                -          -              -            3.15   \n11             -                -          P           0.43            2.62   \n12             -                -          S           0.61    4.13 (+0.82)   \n13             -                -          -              -  0.902 (+1.728)   \n14             -                -          -              -     2.62 (+2.1)   \n15             -                -          -              -            3.15   \n16   8.3 (+0.92)                -       B, P           1.09             5.6   \n17  10.3 (+0.74)  +4.4 (+0.74) Ma          P           1.36           4.725   \n18             -                -          -              -            4.13   \n19             -                -          -           1.79            1.97   \n20             -                -          -           0.46            5.37   \n21             -           +3.8 A          -           1.32          0, 1.4   \n22          24.6          +24.6 B          P           0.61          0, 1.4   \n\n   Creep Bonus   Range Sight  \n0         x1.0       -     5  \n1         x1.0       M     8  \n2         x2.7    5, 7     9  \n3         x1.3       M     8  \n4         x1.3       M     8  \n5         x1.3       4     9  \n6         x1.3       6     9  \n7         x1.3  5 (+1)     9  \n8         x1.3  8 (+2)    10  \n9         x1.3       -    10  \n10        x1.3       -    10  \n11        x1.4       3     6  \n12        x1.3       1     9  \n13           -       -    11  \n14           -       -    11  \n15        x1.0       -     8  \n16           -       3    11  \n17           -       6    10  \n18           -       -    11  \n19           -      10    12  \n20        x1.0       M     7  \n21        x2.5       7    11  \n22        x2.6       7    11  \n\n[23 rows x 22 columns]",
      "text/html": "<div>\n<style scoped>\n    .dataframe tbody tr th:only-of-type {\n        vertical-align: middle;\n    }\n\n    .dataframe tbody tr th {\n        vertical-align: top;\n    }\n\n    .dataframe thead th {\n        text-align: right;\n    }\n</style>\n<table border=\"1\" class=\"dataframe\">\n  <thead>\n    <tr style=\"text-align: right;\">\n      <th></th>\n      <th>Unit name</th>\n      <th>Supply</th>\n      <th>Minerals</th>\n      <th>Gas</th>\n      <th>Game speed</th>\n      <th>Size</th>\n      <th>Cargo</th>\n      <th>Armor</th>\n      <th>Hit Points</th>\n      <th>Attributes</th>\n      <th>...</th>\n      <th>Bonus</th>\n      <th>Ground DPS</th>\n      <th>Air DPS</th>\n      <th>Bonus DPS</th>\n      <th>Attack Mod</th>\n      <th>Cooldown</th>\n      <th>Speed</th>\n      <th>Creep Bonus</th>\n      <th>Range</th>\n      <th>Sight</th>\n    </tr>\n  </thead>\n  <tbody>\n    <tr>\n      <th>0</th>\n      <td>Larva</td>\n      <td>-</td>\n      <td>-</td>\n      <td>-</td>\n      <td>11</td>\n      <td>0.25</td>\n      <td>-</td>\n      <td>10</td>\n      <td>25</td>\n      <td>L, B</td>\n      <td>...</td>\n      <td>-</td>\n      <td>-</td>\n      <td>-</td>\n      <td>-</td>\n      <td>-</td>\n      <td>-</td>\n      <td>(0.79)</td>\n      <td>x1.0</td>\n      <td>-</td>\n      <td>5</td>\n    </tr>\n    <tr>\n      <th>1</th>\n      <td>Drone</td>\n      <td>1</td>\n      <td>50</td>\n      <td>0</td>\n      <td>12</td>\n      <td>0.75</td>\n      <td>1</td>\n      <td>0 (+1)</td>\n      <td>40</td>\n      <td>L, B</td>\n      <td>...</td>\n      <td>-</td>\n      <td>4.7</td>\n      <td>-</td>\n      <td>-</td>\n      <td>-</td>\n      <td>1.07</td>\n      <td>3.94</td>\n      <td>x1.0</td>\n      <td>M</td>\n      <td>8</td>\n    </tr>\n    <tr>\n      <th>2</th>\n      <td>Queen</td>\n      <td>2</td>\n      <td>150</td>\n      <td>0</td>\n      <td>36</td>\n      <td>1.75</td>\n      <td>2</td>\n      <td>1 (+1)</td>\n      <td>175</td>\n      <td>B, P</td>\n      <td>...</td>\n      <td>-</td>\n      <td>11.3 (+2.82)</td>\n      <td>12.7 (+1.41)</td>\n      <td>-</td>\n      <td>P</td>\n      <td>0.71</td>\n      <td>1.31</td>\n      <td>x2.7</td>\n      <td>5, 7</td>\n      <td>9</td>\n    </tr>\n    <tr>\n      <th>3</th>\n      <td>Zergling</td>\n      <td>0.5</td>\n      <td>25</td>\n      <td>0</td>\n      <td>17</td>\n      <td>0.75</td>\n      <td>1</td>\n      <td>0 (+1)</td>\n      <td>35</td>\n      <td>L, B</td>\n      <td>...</td>\n      <td>-</td>\n      <td>10 (+2), 14.1 (+2.82)</td>\n      <td>-</td>\n      <td>-</td>\n      <td>-</td>\n      <td>0.497 (0.354)</td>\n      <td>4.13 (+2.45)</td>\n      <td>x1.3</td>\n      <td>M</td>\n      <td>8</td>\n    </tr>\n    <tr>\n      <th>4</th>\n      <td>Baneling</td>\n      <td>0.5</td>\n      <td>25</td>\n      <td>25</td>\n      <td>14</td>\n      <td>0.75</td>\n      <td>2</td>\n      <td>0 (+1)</td>\n      <td>30 (+5)</td>\n      <td>B</td>\n      <td>...</td>\n      <td>+19 (+2) L / +64 (+5) S</td>\n      <td>-</td>\n      <td>-</td>\n      <td>-</td>\n      <td>S</td>\n      <td>-</td>\n      <td>3.5 (+0.63)</td>\n      <td>x1.3</td>\n      <td>M</td>\n      <td>8</td>\n    </tr>\n    <tr>\n      <th>5</th>\n      <td>Roach</td>\n      <td>2</td>\n      <td>75</td>\n      <td>25</td>\n      <td>19</td>\n      <td>1.0</td>\n      <td>2</td>\n      <td>1 (+1)</td>\n      <td>145</td>\n      <td>A, B</td>\n      <td>...</td>\n      <td>-</td>\n      <td>11.2 (+1.4)</td>\n      <td>-</td>\n      <td>-</td>\n      <td>-</td>\n      <td>1.43</td>\n      <td>3.15 (+1.05)</td>\n      <td>x1.3</td>\n      <td>4</td>\n      <td>9</td>\n    </tr>\n    <tr>\n      <th>6</th>\n      <td>Ravager</td>\n      <td>3</td>\n      <td>25</td>\n      <td>75</td>\n      <td>9</td>\n      <td>1.5</td>\n      <td>4</td>\n      <td>1 (+1)</td>\n      <td>120</td>\n      <td>B</td>\n      <td>...</td>\n      <td>-</td>\n      <td>14 (+1.75)</td>\n      <td>-</td>\n      <td>-</td>\n      <td>None</td>\n      <td>1.14</td>\n      <td>3.85</td>\n      <td>x1.3</td>\n      <td>6</td>\n      <td>9</td>\n    </tr>\n    <tr>\n      <th>7</th>\n      <td>Hydralisk</td>\n      <td>2</td>\n      <td>100</td>\n      <td>50</td>\n      <td>24</td>\n      <td>1.25</td>\n      <td>2</td>\n      <td>0 (+1)</td>\n      <td>90</td>\n      <td>L, B</td>\n      <td>...</td>\n      <td>-</td>\n      <td>22.2 (+1.85)</td>\n      <td>22.2 (+1.85)</td>\n      <td>-</td>\n      <td>P</td>\n      <td>0.54</td>\n      <td>3.15 (+0.79)</td>\n      <td>x1.3</td>\n      <td>5 (+1)</td>\n      <td>9</td>\n    </tr>\n    <tr>\n      <th>8</th>\n      <td>Lurker</td>\n      <td>3</td>\n      <td>50</td>\n      <td>100</td>\n      <td>18</td>\n      <td>1.5</td>\n      <td>4</td>\n      <td>1 (+1)</td>\n      <td>200</td>\n      <td>A, B</td>\n      <td>...</td>\n      <td>+10 (+1) A</td>\n      <td>13.99 (+1.4)</td>\n      <td>-</td>\n      <td>+6.99 (+0.7) A</td>\n      <td>L</td>\n      <td>1.43</td>\n      <td>4.13 (+0.413)</td>\n      <td>x1.3</td>\n      <td>8 (+2)</td>\n      <td>10</td>\n    </tr>\n    <tr>\n      <th>9</th>\n      <td>Infestor</td>\n      <td>2</td>\n      <td>100</td>\n      <td>150</td>\n      <td>36</td>\n      <td>1.5</td>\n      <td>2</td>\n      <td>0 (+1)</td>\n      <td>90</td>\n      <td>A, B, P</td>\n      <td>...</td>\n      <td>-</td>\n      <td>-</td>\n      <td>-</td>\n      <td>-</td>\n      <td>-</td>\n      <td>-</td>\n      <td>3.15</td>\n      <td>x1.3</td>\n      <td>-</td>\n      <td>10</td>\n    </tr>\n    <tr>\n      <th>10</th>\n      <td>Swarm Host</td>\n      <td>3</td>\n      <td>100</td>\n      <td>75</td>\n      <td>29</td>\n      <td>1.625</td>\n      <td>4</td>\n      <td>1 (+1)</td>\n      <td>160</td>\n      <td>A, B</td>\n      <td>...</td>\n      <td>-</td>\n      <td>46.6 (+4.66)[z 1]</td>\n      <td>-</td>\n      <td>-</td>\n      <td>-</td>\n      <td>-</td>\n      <td>3.15</td>\n      <td>x1.3</td>\n      <td>-</td>\n      <td>10</td>\n    </tr>\n    <tr>\n      <th>11</th>\n      <td>Locust</td>\n      <td>-</td>\n      <td>-</td>\n      <td>-</td>\n      <td>3</td>\n      <td>0.75</td>\n      <td>-</td>\n      <td>0 (+1)</td>\n      <td>50</td>\n      <td>L, B</td>\n      <td>...</td>\n      <td>-</td>\n      <td>23.3 (+2.33)</td>\n      <td>-</td>\n      <td>-</td>\n      <td>P</td>\n      <td>0.43</td>\n      <td>2.62</td>\n      <td>x1.4</td>\n      <td>3</td>\n      <td>6</td>\n    </tr>\n    <tr>\n      <th>12</th>\n      <td>Ultralisk</td>\n      <td>6</td>\n      <td>300</td>\n      <td>200</td>\n      <td>39</td>\n      <td>2.0</td>\n      <td>8</td>\n      <td>2 (+1) ((+2))</td>\n      <td>500</td>\n      <td>A, B, Ma</td>\n      <td>...</td>\n      <td>-</td>\n      <td>57.4 (+4.92)</td>\n      <td>-</td>\n      <td>-</td>\n      <td>S</td>\n      <td>0.61</td>\n      <td>4.13 (+0.82)</td>\n      <td>x1.3</td>\n      <td>1</td>\n      <td>9</td>\n    </tr>\n    <tr>\n      <th>13</th>\n      <td>Overlord</td>\n      <td>-</td>\n      <td>100</td>\n      <td>0</td>\n      <td>18</td>\n      <td>2.0</td>\n      <td>-</td>\n      <td>0 (+1)</td>\n      <td>200</td>\n      <td>A, B</td>\n      <td>...</td>\n      <td>-</td>\n      <td>-</td>\n      <td>-</td>\n      <td>-</td>\n      <td>-</td>\n      <td>-</td>\n      <td>0.902 (+1.728)</td>\n      <td>-</td>\n      <td>-</td>\n      <td>11</td>\n    </tr>\n    <tr>\n      <th>14</th>\n      <td>Overseer</td>\n      <td>-</td>\n      <td>50</td>\n      <td>50</td>\n      <td>12</td>\n      <td>2.0</td>\n      <td>-</td>\n      <td>1 (+1)</td>\n      <td>200</td>\n      <td>A, B</td>\n      <td>...</td>\n      <td>-</td>\n      <td>-</td>\n      <td>-</td>\n      <td>-</td>\n      <td>-</td>\n      <td>-</td>\n      <td>2.62 (+2.1)</td>\n      <td>-</td>\n      <td>-</td>\n      <td>11</td>\n    </tr>\n    <tr>\n      <th>15</th>\n      <td>Changeling</td>\n      <td>-</td>\n      <td>-</td>\n      <td>-</td>\n      <td>1</td>\n      <td>0.75</td>\n      <td>-</td>\n      <td>0</td>\n      <td>5</td>\n      <td>L, B</td>\n      <td>...</td>\n      <td>-</td>\n      <td>-</td>\n      <td>-</td>\n      <td>-</td>\n      <td>-</td>\n      <td>-</td>\n      <td>3.15</td>\n      <td>x1.0</td>\n      <td>-</td>\n      <td>8</td>\n    </tr>\n    <tr>\n      <th>16</th>\n      <td>Mutalisk</td>\n      <td>2</td>\n      <td>100</td>\n      <td>100</td>\n      <td>24</td>\n      <td>1.0</td>\n      <td>-</td>\n      <td>0 (+1)</td>\n      <td>120</td>\n      <td>L, B</td>\n      <td>...</td>\n      <td>-</td>\n      <td>8.3 (+0.92)</td>\n      <td>8.3 (+0.92)</td>\n      <td>-</td>\n      <td>B, P</td>\n      <td>1.09</td>\n      <td>5.6</td>\n      <td>-</td>\n      <td>3</td>\n      <td>11</td>\n    </tr>\n    <tr>\n      <th>17</th>\n      <td>Corruptor</td>\n      <td>2</td>\n      <td>150</td>\n      <td>100</td>\n      <td>29</td>\n      <td>1.25</td>\n      <td>-</td>\n      <td>2 (+1)</td>\n      <td>200</td>\n      <td>A, B</td>\n      <td>...</td>\n      <td>+6 (+1) Ma</td>\n      <td>-</td>\n      <td>10.3 (+0.74)</td>\n      <td>+4.4 (+0.74) Ma</td>\n      <td>P</td>\n      <td>1.36</td>\n      <td>4.725</td>\n      <td>-</td>\n      <td>6</td>\n      <td>10</td>\n    </tr>\n    <tr>\n      <th>18</th>\n      <td>Viper</td>\n      <td>3</td>\n      <td>100</td>\n      <td>200</td>\n      <td>29</td>\n      <td>2.0</td>\n      <td>-</td>\n      <td>1 (+1)</td>\n      <td>150</td>\n      <td>A, B, P</td>\n      <td>...</td>\n      <td>-</td>\n      <td>-</td>\n      <td>-</td>\n      <td>-</td>\n      <td>-</td>\n      <td>-</td>\n      <td>4.13</td>\n      <td>-</td>\n      <td>-</td>\n      <td>11</td>\n    </tr>\n    <tr>\n      <th>19</th>\n      <td>Brood Lord</td>\n      <td>4</td>\n      <td>150</td>\n      <td>150</td>\n      <td>24</td>\n      <td>2.0</td>\n      <td>-</td>\n      <td>1 (+1)</td>\n      <td>225</td>\n      <td>A, B, Ma</td>\n      <td>...</td>\n      <td>-</td>\n      <td>22.4 (+2.24)</td>\n      <td>-</td>\n      <td>-</td>\n      <td>-</td>\n      <td>1.79</td>\n      <td>1.97</td>\n      <td>-</td>\n      <td>10</td>\n      <td>12</td>\n    </tr>\n    <tr>\n      <th>20</th>\n      <td>Broodling</td>\n      <td>-</td>\n      <td>-</td>\n      <td>-</td>\n      <td>1</td>\n      <td>0.75</td>\n      <td>-</td>\n      <td>0 (+1)</td>\n      <td>30</td>\n      <td>L, B</td>\n      <td>...</td>\n      <td>-</td>\n      <td>8.7 (+2.17)</td>\n      <td>-</td>\n      <td>-</td>\n      <td>-</td>\n      <td>0.46</td>\n      <td>5.37</td>\n      <td>x1.0</td>\n      <td>M</td>\n      <td>7</td>\n    </tr>\n    <tr>\n      <th>21</th>\n      <td>Spine Crawler</td>\n      <td>-</td>\n      <td>100</td>\n      <td>-</td>\n      <td>36</td>\n      <td>2x2</td>\n      <td>-</td>\n      <td>2</td>\n      <td>300</td>\n      <td>A, B, S</td>\n      <td>...</td>\n      <td>+5 A</td>\n      <td>18.9</td>\n      <td>-</td>\n      <td>+3.8 A</td>\n      <td>-</td>\n      <td>1.32</td>\n      <td>0, 1.4</td>\n      <td>x2.5</td>\n      <td>7</td>\n      <td>11</td>\n    </tr>\n    <tr>\n      <th>22</th>\n      <td>Spore Crawler</td>\n      <td>-</td>\n      <td>75</td>\n      <td>-</td>\n      <td>21</td>\n      <td>2x2</td>\n      <td>-</td>\n      <td>1</td>\n      <td>400</td>\n      <td>A, B, S</td>\n      <td>...</td>\n      <td>+15 B</td>\n      <td>-</td>\n      <td>24.6</td>\n      <td>+24.6 B</td>\n      <td>P</td>\n      <td>0.61</td>\n      <td>0, 1.4</td>\n      <td>x2.6</td>\n      <td>7</td>\n      <td>11</td>\n    </tr>\n  </tbody>\n</table>\n<p>23 rows × 22 columns</p>\n</div>"
     },
     "execution_count": 7,
     "metadata": {},
     "output_type": "execute_result"
    }
   ],
   "source": [
    "zerg_units"
   ],
   "metadata": {
    "collapsed": false,
    "pycharm": {
     "name": "#%%\n"
    }
   }
  },
  {
   "cell_type": "code",
   "execution_count": 8,
   "outputs": [],
   "source": [
    "# getting into protoss data and diplaying it using pandas\n",
    "protoss_units = pd.read_sql(\"select * from protoss_units\", conn)"
   ],
   "metadata": {
    "collapsed": false,
    "pycharm": {
     "name": "#%%\n"
    }
   }
  },
  {
   "cell_type": "code",
   "execution_count": 9,
   "outputs": [
    {
     "data": {
      "text/plain": "        Unit name Supply  Minerals  Gas Game speed / Warp Gate  Size Cargo  \\\n0           Probe      1        50    0                     12  0.75     1   \n1          Zealot      2       100    0                  27/20   1.0     2   \n2          Sentry      2        50  100                  26/23   1.0     2   \n3         Stalker      2       125   50                  30/23  1.25     2   \n4           Adept      2       100   25                  30/20   1.0     2   \n5    High Templar      2        50  150                  39/32  0.75     2   \n6    Dark Templar      2       125  125                  39/32  0.75     2   \n7          Archon      4         0    0                   8.57   2.0     4   \n8        Observer      1        25   75                     21   1.0     -   \n9      Warp Prism      2       250    0                     36  1.75     -   \n10       Immortal      4       275  100                     39   1.5     4   \n11       Colossus      6       300  200                     54   2.0     8   \n12      Disruptor      3       150  150                     36   1.0     4   \n13        Phoenix      2       150  100                     25   1.5     -   \n14       Void Ray      4       200  150                     37   2.0     -   \n15         Oracle      3       150  150                     37   1.5     -   \n16        Tempest      5       250  175                     43   2.5     -   \n17        Carrier      6       350  250                     64   2.5     -   \n18    Interceptor      0        15    0                     11   0.5     -   \n19     Mothership      8       400  400                    114  2.75     -   \n20  Photon Cannon      -       150    0                     29   2x2     -   \n\n     Armor  Hit Points  Plasma Shield  ... Air Attack  \\\n0   0 (+1)          20             20  ...          -   \n1   1 (+1)         100             50  ...          -   \n2   1 (+1)          40             40  ...     6 (+1)   \n3   1 (+1)          80             80  ...    13 (+1)   \n4   1 (+1)          70             70  ...          -   \n5   0 (+1)          40             40  ...          -   \n6   1 (+1)          40             80  ...          -   \n7   0 (+1)          10            350  ...    25 (+3)   \n8   0 (+1)          40             20  ...          -   \n9   0 (+1)          80            100  ...          -   \n10  1 (+1)         200            100  ...          -   \n11  1 (+1)         200            150  ...          -   \n12  1 (+1)         100            100  ...          -   \n13  0 (+1)         120             60  ...  5 (+1) x2   \n14  0 (+1)         150            100  ...     6 (+1)   \n15  0 (+1)         100             60  ...          -   \n16  2 (+1)         200            100  ...    30 (+3)   \n17  2 (+1)         300            150  ...          -   \n18  0 (+1)          40             40  ...  5 (+1) x2   \n19  2 (+1)         350            350  ...  6 (+1) x6   \n20       1         150            150  ...         20   \n\n                          Bonus        Ground DPS       Air DPS  \\\n0                             -               4.7             -   \n1                             -      18.6 (+2.33)             -   \n2                             -       8.5 (+1.41)   8.5 (+1.41)   \n3                     +5 (+1) A       9.7 (+0.75)   9.7 (+0.75)   \n4                    +12 (+1) L       6.2 (+0.62)             -   \n5                             -        3.2 (+0.8)             -   \n6                             -      37.2 (+4.13)             -   \n7                    +10 (+1) B         20 (+2.4)     20 (+2.4)   \n8                             -                 -             -   \n9                             -                 -             -   \n10                   +30 (+3) A      19.2 (+1.92)             -   \n11                    +5 (+1) L      18.7 (+1.87)             -   \n12                            -                 -             -   \n13                         +5 L                 -  12.6 (+2.52)   \n14                    +4, +10 A       16.8 (+2.8)   16.8 (+2.8)   \n15                         +7 L              24.4             -   \n16  +22 (+2) Ma Air, +0 (+40) S    16.97 (+1.697)  12.7 (+1.27)   \n17                            -  37.3 (+7.5)[p 3]   37.3 (+7.5)   \n18                            -       4.7 (+0.93)   4.7 (+0.93)   \n19                            -      22.8 (+3.78)  22.8 (+3.78)   \n20                            -              22.5          22.5   \n\n                               Bonus DPS Attack Mod                Cooldown  \\\n0                                      -          -                    1.07   \n1                                      -          -                    0.86   \n2                                      -          -                    0.71   \n3                         +3.7 (+0.75) A          P                    1.34   \n4                        +7.45 (+0.62) L          -             1.61 (1.11)   \n5                                      -          -                    1.25   \n6                                      -          -                    1.21   \n7                            +8 (+0.8) B          S                    1.25   \n8                                      -          -                       -   \n9                                      -          -                       -   \n10                       +28.8 (+2.88) A          -                    1.04   \n11                        +9.3 (+1.87) L          L                    1.07   \n12                                     -          -                       -   \n13                               +12.6 L          P                    0.79   \n14                          +11.2, +28 A          -                    0.36   \n15                               +11.5 L          -                    0.61   \n16  +9.32 (+0.847) Ma Air, +0 (+16.97) S          P                    2.36   \n17                                     -          -  0.36 (0.09/ 0.18)[p 4]   \n18                                     -          -                    2.14   \n19                                     -          -                    1.58   \n20                                     -          -                    0.89   \n\n                                    Speed   Range Sight  \n0                                    3.94       M     8  \n1                    3.15 (4.725 +5.67 C)       M     9  \n2                                    3.15       5    10  \n3                                    4.13       6    10  \n4                              3.5 (4.78)       4     9  \n5                                    2.62       6    10  \n6                                    3.94       M     8  \n7                                    3.94       3     9  \n8                            2.63 (+1.31)       -    11  \n9                             4.13 (5.36)       -    10  \n10                                   3.15       6     9  \n11                                   3.15  7 (+2)    10  \n12                                   3.15       -     9  \n13                                   5.95  5 (+2)    10  \n14  3.85 (+0.798), (2.888 (-0.264)) [p 1]       6    10  \n15                                    5.6       4    10  \n16                                   3.15  10, 14    12  \n17                                   2.62       8    12  \n18                                   10.5       2     7  \n19                                   2.62       7    14  \n20                                      -       7    11  \n\n[21 rows x 22 columns]",
      "text/html": "<div>\n<style scoped>\n    .dataframe tbody tr th:only-of-type {\n        vertical-align: middle;\n    }\n\n    .dataframe tbody tr th {\n        vertical-align: top;\n    }\n\n    .dataframe thead th {\n        text-align: right;\n    }\n</style>\n<table border=\"1\" class=\"dataframe\">\n  <thead>\n    <tr style=\"text-align: right;\">\n      <th></th>\n      <th>Unit name</th>\n      <th>Supply</th>\n      <th>Minerals</th>\n      <th>Gas</th>\n      <th>Game speed / Warp Gate</th>\n      <th>Size</th>\n      <th>Cargo</th>\n      <th>Armor</th>\n      <th>Hit Points</th>\n      <th>Plasma Shield</th>\n      <th>...</th>\n      <th>Air Attack</th>\n      <th>Bonus</th>\n      <th>Ground DPS</th>\n      <th>Air DPS</th>\n      <th>Bonus DPS</th>\n      <th>Attack Mod</th>\n      <th>Cooldown</th>\n      <th>Speed</th>\n      <th>Range</th>\n      <th>Sight</th>\n    </tr>\n  </thead>\n  <tbody>\n    <tr>\n      <th>0</th>\n      <td>Probe</td>\n      <td>1</td>\n      <td>50</td>\n      <td>0</td>\n      <td>12</td>\n      <td>0.75</td>\n      <td>1</td>\n      <td>0 (+1)</td>\n      <td>20</td>\n      <td>20</td>\n      <td>...</td>\n      <td>-</td>\n      <td>-</td>\n      <td>4.7</td>\n      <td>-</td>\n      <td>-</td>\n      <td>-</td>\n      <td>1.07</td>\n      <td>3.94</td>\n      <td>M</td>\n      <td>8</td>\n    </tr>\n    <tr>\n      <th>1</th>\n      <td>Zealot</td>\n      <td>2</td>\n      <td>100</td>\n      <td>0</td>\n      <td>27/20</td>\n      <td>1.0</td>\n      <td>2</td>\n      <td>1 (+1)</td>\n      <td>100</td>\n      <td>50</td>\n      <td>...</td>\n      <td>-</td>\n      <td>-</td>\n      <td>18.6 (+2.33)</td>\n      <td>-</td>\n      <td>-</td>\n      <td>-</td>\n      <td>0.86</td>\n      <td>3.15 (4.725 +5.67 C)</td>\n      <td>M</td>\n      <td>9</td>\n    </tr>\n    <tr>\n      <th>2</th>\n      <td>Sentry</td>\n      <td>2</td>\n      <td>50</td>\n      <td>100</td>\n      <td>26/23</td>\n      <td>1.0</td>\n      <td>2</td>\n      <td>1 (+1)</td>\n      <td>40</td>\n      <td>40</td>\n      <td>...</td>\n      <td>6 (+1)</td>\n      <td>-</td>\n      <td>8.5 (+1.41)</td>\n      <td>8.5 (+1.41)</td>\n      <td>-</td>\n      <td>-</td>\n      <td>0.71</td>\n      <td>3.15</td>\n      <td>5</td>\n      <td>10</td>\n    </tr>\n    <tr>\n      <th>3</th>\n      <td>Stalker</td>\n      <td>2</td>\n      <td>125</td>\n      <td>50</td>\n      <td>30/23</td>\n      <td>1.25</td>\n      <td>2</td>\n      <td>1 (+1)</td>\n      <td>80</td>\n      <td>80</td>\n      <td>...</td>\n      <td>13 (+1)</td>\n      <td>+5 (+1) A</td>\n      <td>9.7 (+0.75)</td>\n      <td>9.7 (+0.75)</td>\n      <td>+3.7 (+0.75) A</td>\n      <td>P</td>\n      <td>1.34</td>\n      <td>4.13</td>\n      <td>6</td>\n      <td>10</td>\n    </tr>\n    <tr>\n      <th>4</th>\n      <td>Adept</td>\n      <td>2</td>\n      <td>100</td>\n      <td>25</td>\n      <td>30/20</td>\n      <td>1.0</td>\n      <td>2</td>\n      <td>1 (+1)</td>\n      <td>70</td>\n      <td>70</td>\n      <td>...</td>\n      <td>-</td>\n      <td>+12 (+1) L</td>\n      <td>6.2 (+0.62)</td>\n      <td>-</td>\n      <td>+7.45 (+0.62) L</td>\n      <td>-</td>\n      <td>1.61 (1.11)</td>\n      <td>3.5 (4.78)</td>\n      <td>4</td>\n      <td>9</td>\n    </tr>\n    <tr>\n      <th>5</th>\n      <td>High Templar</td>\n      <td>2</td>\n      <td>50</td>\n      <td>150</td>\n      <td>39/32</td>\n      <td>0.75</td>\n      <td>2</td>\n      <td>0 (+1)</td>\n      <td>40</td>\n      <td>40</td>\n      <td>...</td>\n      <td>-</td>\n      <td>-</td>\n      <td>3.2 (+0.8)</td>\n      <td>-</td>\n      <td>-</td>\n      <td>-</td>\n      <td>1.25</td>\n      <td>2.62</td>\n      <td>6</td>\n      <td>10</td>\n    </tr>\n    <tr>\n      <th>6</th>\n      <td>Dark Templar</td>\n      <td>2</td>\n      <td>125</td>\n      <td>125</td>\n      <td>39/32</td>\n      <td>0.75</td>\n      <td>2</td>\n      <td>1 (+1)</td>\n      <td>40</td>\n      <td>80</td>\n      <td>...</td>\n      <td>-</td>\n      <td>-</td>\n      <td>37.2 (+4.13)</td>\n      <td>-</td>\n      <td>-</td>\n      <td>-</td>\n      <td>1.21</td>\n      <td>3.94</td>\n      <td>M</td>\n      <td>8</td>\n    </tr>\n    <tr>\n      <th>7</th>\n      <td>Archon</td>\n      <td>4</td>\n      <td>0</td>\n      <td>0</td>\n      <td>8.57</td>\n      <td>2.0</td>\n      <td>4</td>\n      <td>0 (+1)</td>\n      <td>10</td>\n      <td>350</td>\n      <td>...</td>\n      <td>25 (+3)</td>\n      <td>+10 (+1) B</td>\n      <td>20 (+2.4)</td>\n      <td>20 (+2.4)</td>\n      <td>+8 (+0.8) B</td>\n      <td>S</td>\n      <td>1.25</td>\n      <td>3.94</td>\n      <td>3</td>\n      <td>9</td>\n    </tr>\n    <tr>\n      <th>8</th>\n      <td>Observer</td>\n      <td>1</td>\n      <td>25</td>\n      <td>75</td>\n      <td>21</td>\n      <td>1.0</td>\n      <td>-</td>\n      <td>0 (+1)</td>\n      <td>40</td>\n      <td>20</td>\n      <td>...</td>\n      <td>-</td>\n      <td>-</td>\n      <td>-</td>\n      <td>-</td>\n      <td>-</td>\n      <td>-</td>\n      <td>-</td>\n      <td>2.63 (+1.31)</td>\n      <td>-</td>\n      <td>11</td>\n    </tr>\n    <tr>\n      <th>9</th>\n      <td>Warp Prism</td>\n      <td>2</td>\n      <td>250</td>\n      <td>0</td>\n      <td>36</td>\n      <td>1.75</td>\n      <td>-</td>\n      <td>0 (+1)</td>\n      <td>80</td>\n      <td>100</td>\n      <td>...</td>\n      <td>-</td>\n      <td>-</td>\n      <td>-</td>\n      <td>-</td>\n      <td>-</td>\n      <td>-</td>\n      <td>-</td>\n      <td>4.13 (5.36)</td>\n      <td>-</td>\n      <td>10</td>\n    </tr>\n    <tr>\n      <th>10</th>\n      <td>Immortal</td>\n      <td>4</td>\n      <td>275</td>\n      <td>100</td>\n      <td>39</td>\n      <td>1.5</td>\n      <td>4</td>\n      <td>1 (+1)</td>\n      <td>200</td>\n      <td>100</td>\n      <td>...</td>\n      <td>-</td>\n      <td>+30 (+3) A</td>\n      <td>19.2 (+1.92)</td>\n      <td>-</td>\n      <td>+28.8 (+2.88) A</td>\n      <td>-</td>\n      <td>1.04</td>\n      <td>3.15</td>\n      <td>6</td>\n      <td>9</td>\n    </tr>\n    <tr>\n      <th>11</th>\n      <td>Colossus</td>\n      <td>6</td>\n      <td>300</td>\n      <td>200</td>\n      <td>54</td>\n      <td>2.0</td>\n      <td>8</td>\n      <td>1 (+1)</td>\n      <td>200</td>\n      <td>150</td>\n      <td>...</td>\n      <td>-</td>\n      <td>+5 (+1) L</td>\n      <td>18.7 (+1.87)</td>\n      <td>-</td>\n      <td>+9.3 (+1.87) L</td>\n      <td>L</td>\n      <td>1.07</td>\n      <td>3.15</td>\n      <td>7 (+2)</td>\n      <td>10</td>\n    </tr>\n    <tr>\n      <th>12</th>\n      <td>Disruptor</td>\n      <td>3</td>\n      <td>150</td>\n      <td>150</td>\n      <td>36</td>\n      <td>1.0</td>\n      <td>4</td>\n      <td>1 (+1)</td>\n      <td>100</td>\n      <td>100</td>\n      <td>...</td>\n      <td>-</td>\n      <td>-</td>\n      <td>-</td>\n      <td>-</td>\n      <td>-</td>\n      <td>-</td>\n      <td>-</td>\n      <td>3.15</td>\n      <td>-</td>\n      <td>9</td>\n    </tr>\n    <tr>\n      <th>13</th>\n      <td>Phoenix</td>\n      <td>2</td>\n      <td>150</td>\n      <td>100</td>\n      <td>25</td>\n      <td>1.5</td>\n      <td>-</td>\n      <td>0 (+1)</td>\n      <td>120</td>\n      <td>60</td>\n      <td>...</td>\n      <td>5 (+1) x2</td>\n      <td>+5 L</td>\n      <td>-</td>\n      <td>12.6 (+2.52)</td>\n      <td>+12.6 L</td>\n      <td>P</td>\n      <td>0.79</td>\n      <td>5.95</td>\n      <td>5 (+2)</td>\n      <td>10</td>\n    </tr>\n    <tr>\n      <th>14</th>\n      <td>Void Ray</td>\n      <td>4</td>\n      <td>200</td>\n      <td>150</td>\n      <td>37</td>\n      <td>2.0</td>\n      <td>-</td>\n      <td>0 (+1)</td>\n      <td>150</td>\n      <td>100</td>\n      <td>...</td>\n      <td>6 (+1)</td>\n      <td>+4, +10 A</td>\n      <td>16.8 (+2.8)</td>\n      <td>16.8 (+2.8)</td>\n      <td>+11.2, +28 A</td>\n      <td>-</td>\n      <td>0.36</td>\n      <td>3.85 (+0.798), (2.888 (-0.264)) [p 1]</td>\n      <td>6</td>\n      <td>10</td>\n    </tr>\n    <tr>\n      <th>15</th>\n      <td>Oracle</td>\n      <td>3</td>\n      <td>150</td>\n      <td>150</td>\n      <td>37</td>\n      <td>1.5</td>\n      <td>-</td>\n      <td>0 (+1)</td>\n      <td>100</td>\n      <td>60</td>\n      <td>...</td>\n      <td>-</td>\n      <td>+7 L</td>\n      <td>24.4</td>\n      <td>-</td>\n      <td>+11.5 L</td>\n      <td>-</td>\n      <td>0.61</td>\n      <td>5.6</td>\n      <td>4</td>\n      <td>10</td>\n    </tr>\n    <tr>\n      <th>16</th>\n      <td>Tempest</td>\n      <td>5</td>\n      <td>250</td>\n      <td>175</td>\n      <td>43</td>\n      <td>2.5</td>\n      <td>-</td>\n      <td>2 (+1)</td>\n      <td>200</td>\n      <td>100</td>\n      <td>...</td>\n      <td>30 (+3)</td>\n      <td>+22 (+2) Ma Air, +0 (+40) S</td>\n      <td>16.97 (+1.697)</td>\n      <td>12.7 (+1.27)</td>\n      <td>+9.32 (+0.847) Ma Air, +0 (+16.97) S</td>\n      <td>P</td>\n      <td>2.36</td>\n      <td>3.15</td>\n      <td>10, 14</td>\n      <td>12</td>\n    </tr>\n    <tr>\n      <th>17</th>\n      <td>Carrier</td>\n      <td>6</td>\n      <td>350</td>\n      <td>250</td>\n      <td>64</td>\n      <td>2.5</td>\n      <td>-</td>\n      <td>2 (+1)</td>\n      <td>300</td>\n      <td>150</td>\n      <td>...</td>\n      <td>-</td>\n      <td>-</td>\n      <td>37.3 (+7.5)[p 3]</td>\n      <td>37.3 (+7.5)</td>\n      <td>-</td>\n      <td>-</td>\n      <td>0.36 (0.09/ 0.18)[p 4]</td>\n      <td>2.62</td>\n      <td>8</td>\n      <td>12</td>\n    </tr>\n    <tr>\n      <th>18</th>\n      <td>Interceptor</td>\n      <td>0</td>\n      <td>15</td>\n      <td>0</td>\n      <td>11</td>\n      <td>0.5</td>\n      <td>-</td>\n      <td>0 (+1)</td>\n      <td>40</td>\n      <td>40</td>\n      <td>...</td>\n      <td>5 (+1) x2</td>\n      <td>-</td>\n      <td>4.7 (+0.93)</td>\n      <td>4.7 (+0.93)</td>\n      <td>-</td>\n      <td>-</td>\n      <td>2.14</td>\n      <td>10.5</td>\n      <td>2</td>\n      <td>7</td>\n    </tr>\n    <tr>\n      <th>19</th>\n      <td>Mothership</td>\n      <td>8</td>\n      <td>400</td>\n      <td>400</td>\n      <td>114</td>\n      <td>2.75</td>\n      <td>-</td>\n      <td>2 (+1)</td>\n      <td>350</td>\n      <td>350</td>\n      <td>...</td>\n      <td>6 (+1) x6</td>\n      <td>-</td>\n      <td>22.8 (+3.78)</td>\n      <td>22.8 (+3.78)</td>\n      <td>-</td>\n      <td>-</td>\n      <td>1.58</td>\n      <td>2.62</td>\n      <td>7</td>\n      <td>14</td>\n    </tr>\n    <tr>\n      <th>20</th>\n      <td>Photon Cannon</td>\n      <td>-</td>\n      <td>150</td>\n      <td>0</td>\n      <td>29</td>\n      <td>2x2</td>\n      <td>-</td>\n      <td>1</td>\n      <td>150</td>\n      <td>150</td>\n      <td>...</td>\n      <td>20</td>\n      <td>-</td>\n      <td>22.5</td>\n      <td>22.5</td>\n      <td>-</td>\n      <td>-</td>\n      <td>0.89</td>\n      <td>-</td>\n      <td>7</td>\n      <td>11</td>\n    </tr>\n  </tbody>\n</table>\n<p>21 rows × 22 columns</p>\n</div>"
     },
     "execution_count": 9,
     "metadata": {},
     "output_type": "execute_result"
    }
   ],
   "source": [
    "protoss_units"
   ],
   "metadata": {
    "collapsed": false,
    "pycharm": {
     "name": "#%%\n"
    }
   }
  },
  {
   "cell_type": "markdown",
   "source": [
    "### Union of all units\n",
    "Trying to combine all units from three different races, which are stored in threee differrent tables in the database.\n",
    "\n",
    "While most columns are the same, a few columns are unique for Zerg and Protoss, we will see whether it will work."
   ],
   "metadata": {
    "collapsed": false
   }
  },
  {
   "cell_type": "code",
   "execution_count": 10,
   "outputs": [
    {
     "ename": "DatabaseError",
     "evalue": "Execution failed on sql 'select * from terran_units union select * from protoss_units': SELECTs to the left and right of UNION do not have the same number of result columns",
     "output_type": "error",
     "traceback": [
      "\u001B[0;31m---------------------------------------------------------------------------\u001B[0m",
      "\u001B[0;31mOperationalError\u001B[0m                          Traceback (most recent call last)",
      "\u001B[0;32m~/mambaforge/envs/nlp/lib/python3.9/site-packages/pandas/io/sql.py\u001B[0m in \u001B[0;36mexecute\u001B[0;34m(self, *args, **kwargs)\u001B[0m\n\u001B[1;32m   2055\u001B[0m         \u001B[0;32mtry\u001B[0m\u001B[0;34m:\u001B[0m\u001B[0;34m\u001B[0m\u001B[0;34m\u001B[0m\u001B[0m\n\u001B[0;32m-> 2056\u001B[0;31m             \u001B[0mcur\u001B[0m\u001B[0;34m.\u001B[0m\u001B[0mexecute\u001B[0m\u001B[0;34m(\u001B[0m\u001B[0;34m*\u001B[0m\u001B[0margs\u001B[0m\u001B[0;34m,\u001B[0m \u001B[0;34m**\u001B[0m\u001B[0mkwargs\u001B[0m\u001B[0;34m)\u001B[0m\u001B[0;34m\u001B[0m\u001B[0;34m\u001B[0m\u001B[0m\n\u001B[0m\u001B[1;32m   2057\u001B[0m             \u001B[0;32mreturn\u001B[0m \u001B[0mcur\u001B[0m\u001B[0;34m\u001B[0m\u001B[0;34m\u001B[0m\u001B[0m\n",
      "\u001B[0;31mOperationalError\u001B[0m: SELECTs to the left and right of UNION do not have the same number of result columns",
      "\nThe above exception was the direct cause of the following exception:\n",
      "\u001B[0;31mDatabaseError\u001B[0m                             Traceback (most recent call last)",
      "\u001B[0;32m/tmp/ipykernel_157873/902893285.py\u001B[0m in \u001B[0;36m<module>\u001B[0;34m\u001B[0m\n\u001B[0;32m----> 1\u001B[0;31m \u001B[0munion_all_units\u001B[0m \u001B[0;34m=\u001B[0m \u001B[0mpd\u001B[0m\u001B[0;34m.\u001B[0m\u001B[0mread_sql\u001B[0m\u001B[0;34m(\u001B[0m\u001B[0;34m\"select * from terran_units union select * from protoss_units\"\u001B[0m\u001B[0;34m,\u001B[0m \u001B[0mconn\u001B[0m\u001B[0;34m)\u001B[0m\u001B[0;34m\u001B[0m\u001B[0;34m\u001B[0m\u001B[0m\n\u001B[0m",
      "\u001B[0;32m~/mambaforge/envs/nlp/lib/python3.9/site-packages/pandas/io/sql.py\u001B[0m in \u001B[0;36mread_sql\u001B[0;34m(sql, con, index_col, coerce_float, params, parse_dates, columns, chunksize)\u001B[0m\n\u001B[1;32m    600\u001B[0m \u001B[0;34m\u001B[0m\u001B[0m\n\u001B[1;32m    601\u001B[0m     \u001B[0;32mif\u001B[0m \u001B[0misinstance\u001B[0m\u001B[0;34m(\u001B[0m\u001B[0mpandas_sql\u001B[0m\u001B[0;34m,\u001B[0m \u001B[0mSQLiteDatabase\u001B[0m\u001B[0;34m)\u001B[0m\u001B[0;34m:\u001B[0m\u001B[0;34m\u001B[0m\u001B[0;34m\u001B[0m\u001B[0m\n\u001B[0;32m--> 602\u001B[0;31m         return pandas_sql.read_query(\n\u001B[0m\u001B[1;32m    603\u001B[0m             \u001B[0msql\u001B[0m\u001B[0;34m,\u001B[0m\u001B[0;34m\u001B[0m\u001B[0;34m\u001B[0m\u001B[0m\n\u001B[1;32m    604\u001B[0m             \u001B[0mindex_col\u001B[0m\u001B[0;34m=\u001B[0m\u001B[0mindex_col\u001B[0m\u001B[0;34m,\u001B[0m\u001B[0;34m\u001B[0m\u001B[0;34m\u001B[0m\u001B[0m\n",
      "\u001B[0;32m~/mambaforge/envs/nlp/lib/python3.9/site-packages/pandas/io/sql.py\u001B[0m in \u001B[0;36mread_query\u001B[0;34m(self, sql, index_col, coerce_float, params, parse_dates, chunksize, dtype)\u001B[0m\n\u001B[1;32m   2114\u001B[0m \u001B[0;34m\u001B[0m\u001B[0m\n\u001B[1;32m   2115\u001B[0m         \u001B[0margs\u001B[0m \u001B[0;34m=\u001B[0m \u001B[0m_convert_params\u001B[0m\u001B[0;34m(\u001B[0m\u001B[0msql\u001B[0m\u001B[0;34m,\u001B[0m \u001B[0mparams\u001B[0m\u001B[0;34m)\u001B[0m\u001B[0;34m\u001B[0m\u001B[0;34m\u001B[0m\u001B[0m\n\u001B[0;32m-> 2116\u001B[0;31m         \u001B[0mcursor\u001B[0m \u001B[0;34m=\u001B[0m \u001B[0mself\u001B[0m\u001B[0;34m.\u001B[0m\u001B[0mexecute\u001B[0m\u001B[0;34m(\u001B[0m\u001B[0;34m*\u001B[0m\u001B[0margs\u001B[0m\u001B[0;34m)\u001B[0m\u001B[0;34m\u001B[0m\u001B[0;34m\u001B[0m\u001B[0m\n\u001B[0m\u001B[1;32m   2117\u001B[0m         \u001B[0mcolumns\u001B[0m \u001B[0;34m=\u001B[0m \u001B[0;34m[\u001B[0m\u001B[0mcol_desc\u001B[0m\u001B[0;34m[\u001B[0m\u001B[0;36m0\u001B[0m\u001B[0;34m]\u001B[0m \u001B[0;32mfor\u001B[0m \u001B[0mcol_desc\u001B[0m \u001B[0;32min\u001B[0m \u001B[0mcursor\u001B[0m\u001B[0;34m.\u001B[0m\u001B[0mdescription\u001B[0m\u001B[0;34m]\u001B[0m\u001B[0;34m\u001B[0m\u001B[0;34m\u001B[0m\u001B[0m\n\u001B[1;32m   2118\u001B[0m \u001B[0;34m\u001B[0m\u001B[0m\n",
      "\u001B[0;32m~/mambaforge/envs/nlp/lib/python3.9/site-packages/pandas/io/sql.py\u001B[0m in \u001B[0;36mexecute\u001B[0;34m(self, *args, **kwargs)\u001B[0m\n\u001B[1;32m   2066\u001B[0m \u001B[0;34m\u001B[0m\u001B[0m\n\u001B[1;32m   2067\u001B[0m             \u001B[0mex\u001B[0m \u001B[0;34m=\u001B[0m \u001B[0mDatabaseError\u001B[0m\u001B[0;34m(\u001B[0m\u001B[0;34mf\"Execution failed on sql '{args[0]}': {exc}\"\u001B[0m\u001B[0;34m)\u001B[0m\u001B[0;34m\u001B[0m\u001B[0;34m\u001B[0m\u001B[0m\n\u001B[0;32m-> 2068\u001B[0;31m             \u001B[0;32mraise\u001B[0m \u001B[0mex\u001B[0m \u001B[0;32mfrom\u001B[0m \u001B[0mexc\u001B[0m\u001B[0;34m\u001B[0m\u001B[0;34m\u001B[0m\u001B[0m\n\u001B[0m\u001B[1;32m   2069\u001B[0m \u001B[0;34m\u001B[0m\u001B[0m\n\u001B[1;32m   2070\u001B[0m     \u001B[0;34m@\u001B[0m\u001B[0mstaticmethod\u001B[0m\u001B[0;34m\u001B[0m\u001B[0;34m\u001B[0m\u001B[0m\n",
      "\u001B[0;31mDatabaseError\u001B[0m: Execution failed on sql 'select * from terran_units union select * from protoss_units': SELECTs to the left and right of UNION do not have the same number of result columns"
     ]
    }
   ],
   "source": [
    "union_all_units = pd.read_sql(\"select * from terran_units union select * from protoss_units\", conn)"
   ],
   "metadata": {
    "collapsed": false,
    "pycharm": {
     "name": "#%%\n"
    }
   }
  },
  {
   "cell_type": "markdown",
   "source": [
    "Let's list columns and select relevant columns from each table, that also are common between tables to do a UNION."
   ],
   "metadata": {
    "collapsed": false
   }
  },
  {
   "cell_type": "markdown",
   "source": [
    "#### Functions creating building queries\n",
    "They help us create a query returning desired columns from provided tablenames."
   ],
   "metadata": {
    "collapsed": false,
    "pycharm": {
     "name": "#%% md\n"
    }
   }
  },
  {
   "cell_type": "code",
   "execution_count": 11,
   "outputs": [],
   "source": [
    "def sel_query(column_list, table_name):\n",
    "    qry = \"SELECT \"\n",
    "    for col in column_list:\n",
    "        qry = qry + '\"' + col + '\", '\n",
    "\n",
    "    qry = qry[:-2]\n",
    "    qry = qry + ' FROM ' + table_name\n",
    "\n",
    "    return qry"
   ],
   "metadata": {
    "collapsed": false,
    "pycharm": {
     "name": "#%%\n"
    }
   }
  },
  {
   "cell_type": "code",
   "execution_count": 12,
   "outputs": [],
   "source": [
    "def union_sel_query(column_list, table_list):\n",
    "    qry = ''\n",
    "    for t in table_list:\n",
    "        qry += \"SELECT \"\n",
    "        for col in column_list:\n",
    "            qry = qry + '\"' + col + '\", '\n",
    "\n",
    "        qry = qry[:-2]\n",
    "        qry = qry + ' FROM ' + t\n",
    "        qry = qry + '\\n UNION '\n",
    "\n",
    "    qry = qry[:-8]\n",
    "    return qry"
   ],
   "metadata": {
    "collapsed": false,
    "pycharm": {
     "name": "#%%\n"
    }
   }
  },
  {
   "cell_type": "code",
   "execution_count": 13,
   "outputs": [],
   "source": [
    "intersection = list(set(terran_units) & set(zerg_units) & set(protoss_units))"
   ],
   "metadata": {
    "collapsed": false,
    "pycharm": {
     "name": "#%%\n"
    }
   }
  },
  {
   "cell_type": "code",
   "execution_count": 14,
   "outputs": [
    {
     "data": {
      "text/plain": "['Supply', 'Unit name', 'Ground DPS', 'Size', 'Gas']"
     },
     "execution_count": 14,
     "metadata": {},
     "output_type": "execute_result"
    }
   ],
   "source": [
    "intersection[:5]"
   ],
   "metadata": {
    "collapsed": false,
    "pycharm": {
     "name": "#%%\n"
    }
   }
  },
  {
   "cell_type": "code",
   "execution_count": 15,
   "outputs": [],
   "source": [
    "union_columns = []\n",
    "for col in terran_units.columns:\n",
    "    if col in intersection:\n",
    "        union_columns.append(col)"
   ],
   "metadata": {
    "collapsed": false,
    "pycharm": {
     "name": "#%%\n"
    }
   }
  },
  {
   "cell_type": "code",
   "execution_count": 16,
   "outputs": [
    {
     "data": {
      "text/plain": "['Unit name', 'Supply', 'Minerals']"
     },
     "execution_count": 16,
     "metadata": {},
     "output_type": "execute_result"
    }
   ],
   "source": [
    "union_columns[:3]"
   ],
   "metadata": {
    "collapsed": false,
    "pycharm": {
     "name": "#%%\n"
    }
   }
  },
  {
   "cell_type": "code",
   "execution_count": 17,
   "outputs": [],
   "source": [
    "qry_union_intersection = union_sel_query(union_columns, ['terran_units', 'protoss_units', 'zerg_units'])"
   ],
   "metadata": {
    "collapsed": false,
    "pycharm": {
     "name": "#%%\n"
    }
   }
  },
  {
   "cell_type": "code",
   "execution_count": 18,
   "outputs": [
    {
     "data": {
      "text/plain": "'SELECT \"Unit name\", \"Supply\", \"Minerals\", \"Gas\", \"Size\", \"Cargo\", \"Armor\", \"Hit Points\", \"Attributes\", \"Ground Attack\", \"Air Attack\", \"Bonus\", \"Ground DPS\", \"Air DPS\", \"Bonus DPS\", \"Attack Mod\", \"Cooldown\", \"Speed\", \"Range\", \"Sight\" FROM terran_units\\n UNION SELECT \"Unit name\", \"Supply\", \"Minerals\", \"Gas\", \"Size\", \"Cargo\", \"Armor\", \"Hit Points\", \"Attributes\", \"Ground Attack\", \"Air Attack\", \"Bonus\", \"Ground DPS\", \"Air DPS\", \"Bonus DPS\", \"Attack Mod\", \"Cooldown\", \"Speed\", \"Range\", \"Sight\" FROM protoss_units\\n UNION SELECT \"Unit name\", \"Supply\", \"Minerals\", \"Gas\", \"Size\", \"Cargo\", \"Armor\", \"Hit Points\", \"Attributes\", \"Ground Attack\", \"Air Attack\", \"Bonus\", \"Ground DPS\", \"Air DPS\", \"Bonus DPS\", \"Attack Mod\", \"Cooldown\", \"Speed\", \"Range\", \"Sight\" FROM zerg_units'"
     },
     "execution_count": 18,
     "metadata": {},
     "output_type": "execute_result"
    }
   ],
   "source": [
    "qry_union_intersection"
   ],
   "metadata": {
    "collapsed": false,
    "pycharm": {
     "name": "#%%\n"
    }
   }
  },
  {
   "cell_type": "code",
   "execution_count": 19,
   "outputs": [
    {
     "data": {
      "text/plain": "<sqlite3.Cursor at 0x7fa96c725490>"
     },
     "execution_count": 19,
     "metadata": {},
     "output_type": "execute_result"
    }
   ],
   "source": [
    "c.execute(qry_union_intersection)"
   ],
   "metadata": {
    "collapsed": false,
    "pycharm": {
     "name": "#%%\n"
    }
   }
  },
  {
   "cell_type": "code",
   "execution_count": 20,
   "outputs": [
    {
     "data": {
      "text/plain": "[('Adept',\n  2,\n  100,\n  25,\n  1.0,\n  2,\n  '1 (+1)',\n  70,\n  'L, B',\n  '10 (+1)',\n  '-',\n  '+12 (+1) L',\n  '6.2 (+0.62)',\n  '-',\n  '+7.45 (+0.62) L',\n  '-',\n  '1.61 (1.11)',\n  '3.5 (4.78)',\n  '4',\n  9),\n ('Archon',\n  4,\n  0,\n  0,\n  2.0,\n  4,\n  '0 (+1)',\n  10,\n  'P, Ma',\n  '25 (+3)',\n  '25 (+3)',\n  '+10 (+1) B',\n  '20 (+2.4)',\n  '20 (+2.4)',\n  '+8 (+0.8) B',\n  'S',\n  '1.25',\n  '3.94',\n  '3',\n  9),\n ('Auto-Turret',\n  '-',\n  '-',\n  '-',\n  '2x2',\n  '-',\n  '1 (+2)',\n  150,\n  'A, M, S',\n  '18',\n  '18',\n  '-',\n  '31.58',\n  '31.58',\n  '-',\n  '-',\n  '0.57',\n  '-',\n  '6 (+1)',\n  7),\n ('Baneling',\n  0.5,\n  25,\n  25,\n  0.75,\n  2,\n  '0 (+1)',\n  '30 (+5)',\n  'B',\n  '16 (+2)',\n  '-',\n  '+19 (+2) L / +64 (+5) S',\n  '-',\n  '-',\n  '-',\n  'S',\n  '-',\n  '3.5 (+0.63)',\n  'M',\n  8),\n ('Banshee',\n  3,\n  150,\n  100,\n  1.5,\n  '-',\n  '0 (+1)',\n  140,\n  'L, M',\n  '12 (+1) x2',\n  '-',\n  '-',\n  '27 (+2.25)',\n  '-',\n  '-',\n  'P',\n  '0.89',\n  '3.85 (+1.4)',\n  '6',\n  10),\n ('Battlecruiser',\n  6,\n  400,\n  300,\n  2.5,\n  '-',\n  '3 (+1)',\n  550,\n  'A, M, Ma',\n  '8 (+1)',\n  '5 (+1)',\n  '-',\n  '50 (+6.25)',\n  '31.25 (+6.25)',\n  '-',\n  '-',\n  '0.16',\n  '2.62',\n  '6',\n  12),\n ('Brood Lord',\n  4,\n  150,\n  150,\n  2.0,\n  '-',\n  '1 (+1)',\n  225,\n  'A, B, Ma',\n  '20 (+2) (x2)',\n  '-',\n  '-',\n  '22.4 (+2.24)',\n  '-',\n  '-',\n  '-',\n  '1.79',\n  '1.97',\n  '10',\n  12),\n ('Broodling',\n  '-',\n  '-',\n  '-',\n  0.75,\n  '-',\n  '0 (+1)',\n  30,\n  'L, B',\n  '4 (+1)',\n  '-',\n  '-',\n  '8.7 (+2.17)',\n  '-',\n  '-',\n  '-',\n  '0.46',\n  '5.37',\n  'M',\n  7),\n ('Carrier',\n  6,\n  350,\n  250,\n  2.5,\n  '-',\n  '2 (+1)',\n  300,\n  'A, M, Ma',\n  '-',\n  '-',\n  '-',\n  '37.3 (+7.5)[p 3]',\n  '37.3 (+7.5)',\n  '-',\n  '-',\n  '0.36 (0.09/ 0.18)[p 4]',\n  '2.62',\n  '8',\n  12),\n ('Changeling',\n  '-',\n  '-',\n  '-',\n  0.75,\n  '-',\n  '0',\n  5,\n  'L, B',\n  '-',\n  '-',\n  '-',\n  '-',\n  '-',\n  '-',\n  '-',\n  '-',\n  '3.15',\n  '-',\n  8),\n ('Colossus',\n  6,\n  300,\n  200,\n  2.0,\n  8,\n  '1 (+1)',\n  200,\n  'A, M, Ma',\n  '10 (+1) x2',\n  '-',\n  '+5 (+1) L',\n  '18.7 (+1.87)',\n  '-',\n  '+9.3 (+1.87) L',\n  'L',\n  '1.07',\n  '3.15',\n  '7 (+2)',\n  10),\n ('Corruptor',\n  2,\n  150,\n  100,\n  1.25,\n  '-',\n  '2 (+1)',\n  200,\n  'A, B',\n  '-',\n  '14 (+1)',\n  '+6 (+1) Ma',\n  '-',\n  '10.3 (+0.74)',\n  '+4.4 (+0.74) Ma',\n  'P',\n  '1.36',\n  '4.725',\n  '6',\n  10),\n ('Cyclone',\n  3,\n  150,\n  100,\n  1.5,\n  3,\n  '1 (+1)',\n  120,\n  'A, M',\n  '18 (+2)',\n  '18 (+2)',\n  '-',\n  '25.2 (+2.8)',\n  '25.2 (+2.8)',\n  '-',\n  'P',\n  '0.71',\n  '4.72',\n  '5',\n  11),\n ('Dark Templar',\n  2,\n  125,\n  125,\n  0.75,\n  2,\n  '1 (+1)',\n  40,\n  'L, B, P',\n  '45 (+5)',\n  '-',\n  '-',\n  '37.2 (+4.13)',\n  '-',\n  '-',\n  '-',\n  '1.21',\n  '3.94',\n  'M',\n  8),\n ('Disruptor',\n  3,\n  150,\n  150,\n  1.0,\n  4,\n  '1 (+1)',\n  100,\n  'A, M',\n  '-',\n  '-',\n  '-',\n  '-',\n  '-',\n  '-',\n  '-',\n  '-',\n  '3.15',\n  '-',\n  9),\n ('Drone',\n  1,\n  50,\n  0,\n  0.75,\n  1,\n  '0 (+1)',\n  40,\n  'L, B',\n  '5 (+0)',\n  '-',\n  '-',\n  '4.7',\n  '-',\n  '-',\n  '-',\n  '1.07',\n  '3.94',\n  'M',\n  8),\n ('Ghost',\n  2,\n  150,\n  125,\n  0.75,\n  2,\n  '0 (+1)',\n  100,\n  'B, P',\n  '10 (+1)',\n  '10 (+1)',\n  '+10 (+1) L',\n  '9.3 (+0.93)',\n  '9.3 (+0.93)',\n  '+9.3 (+0.93) L',\n  '-',\n  '1.07',\n  '3.94',\n  '6',\n  11),\n ('Hellbat',\n  2,\n  100,\n  0,\n  1.25,\n  4,\n  '0 (+1)',\n  135,\n  'L, B, M',\n  '18 (+2)',\n  '-',\n  '+0 (+1), +12 L',\n  '12.6 (+1.4)',\n  '-',\n  '+0 (+0.7), 8.4 (+0.7) L',\n  'S',\n  '1.43',\n  '3.15',\n  '2',\n  10),\n ('Hellion',\n  2,\n  100,\n  0,\n  1.25,\n  2,\n  '0 (+1)',\n  90,\n  'L, M',\n  '8 (+1)',\n  '-',\n  '+6 (+1), +11 L',\n  '4.5 (+0.56)',\n  '-',\n  '+3.4 (+0.56), 6.16 (+0.56) L',\n  'L',\n  '1.79',\n  '5.95',\n  '5',\n  10),\n ('High Templar',\n  2,\n  50,\n  150,\n  0.75,\n  2,\n  '0 (+1)',\n  40,\n  'L, B, P',\n  '4 (+1)',\n  '-',\n  '-',\n  '3.2 (+0.8)',\n  '-',\n  '-',\n  '-',\n  '1.25',\n  '2.62',\n  '6',\n  10),\n ('Hydralisk',\n  2,\n  100,\n  50,\n  1.25,\n  2,\n  '0 (+1)',\n  90,\n  'L, B',\n  '12 (+1)',\n  '12 (+1)',\n  '-',\n  '22.2 (+1.85)',\n  '22.2 (+1.85)',\n  '-',\n  'P',\n  '0.54',\n  '3.15 (+0.79)',\n  '5 (+1)',\n  9),\n ('Immortal',\n  4,\n  275,\n  100,\n  1.5,\n  4,\n  '1 (+1)',\n  200,\n  'A, M',\n  '20 (+2)',\n  '-',\n  '+30 (+3) A',\n  '19.2 (+1.92)',\n  '-',\n  '+28.8 (+2.88) A',\n  '-',\n  '1.04',\n  '3.15',\n  '6',\n  9),\n ('Infestor',\n  2,\n  100,\n  150,\n  1.5,\n  2,\n  '0 (+1)',\n  90,\n  'A, B, P',\n  '-',\n  '-',\n  '-',\n  '-',\n  '-',\n  '-',\n  '-',\n  '-',\n  '3.15',\n  '-',\n  10),\n ('Interceptor',\n  0,\n  15,\n  0,\n  0.5,\n  '-',\n  '0 (+1)',\n  40,\n  'L, M',\n  '5 (+1) x2',\n  '5 (+1) x2',\n  '-',\n  '4.7 (+0.93)',\n  '4.7 (+0.93)',\n  '-',\n  '-',\n  '2.14',\n  '10.5',\n  '2',\n  7),\n ('Larva',\n  '-',\n  '-',\n  '-',\n  0.25,\n  '-',\n  '10',\n  25,\n  'L, B',\n  '-',\n  '-',\n  '-',\n  '-',\n  '-',\n  '-',\n  '-',\n  '-',\n  '(0.79)',\n  '-',\n  5),\n ('Liberator dm',\n  3,\n  150,\n  150,\n  1.5,\n  '-',\n  '0 (+1)',\n  180,\n  'A, M',\n  '75 (+5)',\n  '-',\n  '-',\n  '65.8 (+4.39)',\n  '-',\n  '-',\n  '-',\n  '1.14',\n  '-',\n  '10 (+3)',\n  '10 (+3)'),\n ('Liberator fm',\n  3,\n  150,\n  150,\n  1.5,\n  '-',\n  '0 (+1)',\n  180,\n  'A, M',\n  '-',\n  '5 (+1) x2',\n  '-',\n  '-',\n  '7.75 (+1.55)',\n  '-',\n  'P',\n  '1.29',\n  '4.72',\n  '5',\n  10),\n ('Locust',\n  '-',\n  '-',\n  '-',\n  0.75,\n  '-',\n  '0 (+1)',\n  50,\n  'L, B',\n  '10 (+1)',\n  '-',\n  '-',\n  '23.3 (+2.33)',\n  '-',\n  '-',\n  'P',\n  '0.43',\n  '2.62',\n  '3',\n  6),\n ('Lurker',\n  3,\n  50,\n  100,\n  1.5,\n  4,\n  '1 (+1)',\n  200,\n  'A, B',\n  '20 (+2)',\n  '-',\n  '+10 (+1) A',\n  '13.99 (+1.4)',\n  '-',\n  '+6.99 (+0.7) A',\n  'L',\n  '1.43',\n  '4.13 (+0.413)',\n  '8 (+2)',\n  10),\n ('MULE',\n  '-',\n  '-',\n  '-',\n  0.75,\n  '-',\n  '0 (+1)',\n  60,\n  'L, M',\n  '-',\n  '-',\n  '-',\n  '-',\n  '-',\n  '-',\n  '-',\n  '-',\n  '3.94',\n  '-',\n  8),\n ('Marauder',\n  2,\n  100,\n  25,\n  1.125,\n  2,\n  '1 (+1)',\n  125,\n  'A, B',\n  '10 (+1)',\n  '-',\n  '+5 A',\n  '9.3 (+1.87), 14.1 (+2.82)',\n  '-',\n  '+9.3, +14.1 A',\n  'P',\n  '1.07 (0.71)',\n  '3.15 (+1.57)',\n  '6',\n  10),\n ('Marine',\n  1,\n  50,\n  0,\n  0.75,\n  1,\n  '0 (+1)',\n  '45 (+10)',\n  'L, B',\n  '6 (+1)',\n  '6 (+1)',\n  '-',\n  '9.8 (+1.64), 15 (+2.5)',\n  '9.8 (+1.64), 15 (+2.5)',\n  '-',\n  '-',\n  '0.61 (0.40)',\n  '3.15 (+1.57)',\n  '5',\n  9),\n ('Medivac',\n  2,\n  100,\n  100,\n  1.5,\n  '-',\n  '1 (+1)',\n  150,\n  'A, M',\n  '-',\n  '-',\n  '-',\n  '-',\n  '-',\n  '-',\n  '-',\n  '-',\n  '3.5 (0.63) (+2.44)',\n  '-',\n  11),\n ('Missile Turret',\n  '-',\n  100,\n  0,\n  '2x2',\n  '-',\n  '0 (+2)',\n  250,\n  'A, M, S',\n  '-',\n  '12 x2',\n  '-',\n  '-',\n  '39.3',\n  '-',\n  '-',\n  '0.61',\n  '-',\n  '7 (+1)',\n  11),\n ('Mothership',\n  8,\n  400,\n  400,\n  2.75,\n  '-',\n  '2 (+1)',\n  350,\n  'A, M, P, Ma, H',\n  '6 (+1) x6',\n  '6 (+1) x6',\n  '-',\n  '22.8 (+3.78)',\n  '22.8 (+3.78)',\n  '-',\n  '-',\n  '1.58',\n  '2.62',\n  '7',\n  14),\n ('Mutalisk',\n  2,\n  100,\n  100,\n  1.0,\n  '-',\n  '0 (+1)',\n  120,\n  'L, B',\n  '9 (+1)',\n  '9 (+1)',\n  '-',\n  '8.3 (+0.92)',\n  '8.3 (+0.92)',\n  '-',\n  'B, P',\n  '1.09',\n  '5.6',\n  '3',\n  11),\n ('Observer',\n  1,\n  25,\n  75,\n  1.0,\n  '-',\n  '0 (+1)',\n  40,\n  'L, M',\n  '-',\n  '-',\n  '-',\n  '-',\n  '-',\n  '-',\n  '-',\n  '-',\n  '2.63 (+1.31)',\n  '-',\n  11),\n ('Oracle',\n  3,\n  150,\n  150,\n  1.5,\n  '-',\n  '0 (+1)',\n  100,\n  'A, M, P',\n  '15[p 2]',\n  '-',\n  '+7 L',\n  '24.4',\n  '-',\n  '+11.5 L',\n  '-',\n  '0.61',\n  '5.6',\n  '4',\n  10),\n ('Overlord',\n  '-',\n  100,\n  0,\n  2.0,\n  '-',\n  '0 (+1)',\n  200,\n  'A, B',\n  '-',\n  '-',\n  '-',\n  '-',\n  '-',\n  '-',\n  '-',\n  '-',\n  '0.902 (+1.728)',\n  '-',\n  11),\n ('Overseer',\n  '-',\n  50,\n  50,\n  2.0,\n  '-',\n  '1 (+1)',\n  200,\n  'A, B',\n  '-',\n  '-',\n  '-',\n  '-',\n  '-',\n  '-',\n  '-',\n  '-',\n  '2.62 (+2.1)',\n  '-',\n  11),\n ('Phoenix',\n  2,\n  150,\n  100,\n  1.5,\n  '-',\n  '0 (+1)',\n  120,\n  'L, M',\n  '-',\n  '5 (+1) x2',\n  '+5 L',\n  '-',\n  '12.6 (+2.52)',\n  '+12.6 L',\n  'P',\n  '0.79',\n  '5.95',\n  '5 (+2)',\n  10),\n ('Photon Cannon',\n  '-',\n  150,\n  0,\n  '2x2',\n  '-',\n  '1',\n  150,\n  'A, S',\n  '20',\n  '20',\n  '-',\n  '22.5',\n  '22.5',\n  '-',\n  '-',\n  '0.89',\n  '-',\n  '7',\n  11),\n ('Planetary Fortress',\n  '-',\n  150,\n  150,\n  '5x5',\n  '-',\n  '3 (+2)',\n  1500,\n  'A, M, S',\n  '40',\n  '-',\n  '-',\n  '28',\n  '-',\n  '-',\n  'S',\n  '1.43',\n  '-',\n  '6 (+1)',\n  11),\n ('Probe',\n  1,\n  50,\n  0,\n  0.75,\n  1,\n  '0 (+1)',\n  20,\n  'L, M',\n  '5 (+0)',\n  '-',\n  '-',\n  '4.7',\n  '-',\n  '-',\n  '-',\n  '1.07',\n  '3.94',\n  'M',\n  8),\n ('Queen',\n  2,\n  150,\n  0,\n  1.75,\n  2,\n  '1 (+1)',\n  175,\n  'B, P',\n  '4 (+1) x2',\n  '9 (+1)',\n  '-',\n  '11.3 (+2.82)',\n  '12.7 (+1.41)',\n  '-',\n  'P',\n  '0.71',\n  '1.31',\n  '5, 7',\n  9),\n ('Ravager',\n  3,\n  25,\n  75,\n  1.5,\n  4,\n  '1 (+1)',\n  120,\n  'B',\n  '16 (+2)',\n  '-',\n  '-',\n  '14 (+1.75)',\n  '-',\n  '-',\n  None,\n  '1.14',\n  '3.85',\n  '6',\n  9),\n ('Raven',\n  2,\n  100,\n  200,\n  1.25,\n  '-',\n  '1 (+1)',\n  140,\n  'L, M',\n  '-',\n  '-',\n  '-',\n  '-',\n  '-',\n  '-',\n  '-',\n  '-',\n  '4.13',\n  '-',\n  11),\n ('Reaper',\n  1,\n  50,\n  50,\n  0.75,\n  1,\n  '0 (+1)',\n  60,\n  'L, B',\n  '4 (+1) x2',\n  '-',\n  '-',\n  '10.1 (+2.53)',\n  '-',\n  '-',\n  '-',\n  '0.79',\n  '5.25',\n  '5',\n  9),\n ('Roach',\n  2,\n  75,\n  25,\n  1.0,\n  2,\n  '1 (+1)',\n  145,\n  'A, B',\n  '16 (+2)',\n  '-',\n  '-',\n  '11.2 (+1.4)',\n  '-',\n  '-',\n  '-',\n  '1.43',\n  '3.15 (+1.05)',\n  '4',\n  9),\n ('SCV',\n  1,\n  50,\n  0,\n  0.75,\n  1,\n  '0 (+1)',\n  45,\n  'L, B, M',\n  '5 (+0)',\n  '-',\n  '-',\n  '4.7',\n  '-',\n  '-',\n  '-',\n  '1.07',\n  '3.94',\n  'M',\n  8),\n ('Sentry',\n  2,\n  50,\n  100,\n  1.0,\n  2,\n  '1 (+1)',\n  40,\n  'L, M, P',\n  '6 (+1)',\n  '6 (+1)',\n  '-',\n  '8.5 (+1.41)',\n  '8.5 (+1.41)',\n  '-',\n  '-',\n  '0.71',\n  '3.15',\n  '5',\n  10),\n ('Siege Tank sm',\n  3,\n  150,\n  125,\n  1.75,\n  8,\n  '1 (+1)',\n  175,\n  'A, M',\n  '40 (+4)',\n  '-',\n  '30 (+1) A',\n  '18.69 (+2.6)',\n  '-',\n  '+14.02 (+0.87) A',\n  'S',\n  '2.14',\n  '-',\n  '13',\n  11),\n ('Siege Tank tm',\n  3,\n  150,\n  125,\n  1.75,\n  4,\n  '1 (+1)',\n  175,\n  'A, M',\n  '15 (+2)',\n  '-',\n  '+10 (+1) A',\n  '20.3 (+2.7)',\n  '-',\n  '+13.5 (+1.35) A',\n  '-',\n  '0.74',\n  '3.15',\n  '7',\n  11),\n ('Spine Crawler',\n  '-',\n  100,\n  '-',\n  '2x2',\n  '-',\n  '2',\n  300,\n  'A, B, S',\n  '25',\n  '-',\n  '+5 A',\n  '18.9',\n  '-',\n  '+3.8 A',\n  '-',\n  '1.32',\n  '0, 1.4',\n  '7',\n  11),\n ('Spore Crawler',\n  '-',\n  75,\n  '-',\n  '2x2',\n  '-',\n  '1',\n  400,\n  'A, B, S',\n  '-',\n  '15',\n  '+15 B',\n  '-',\n  '24.6',\n  '+24.6 B',\n  'P',\n  '0.61',\n  '0, 1.4',\n  '7',\n  11),\n ('Stalker',\n  2,\n  125,\n  50,\n  1.25,\n  2,\n  '1 (+1)',\n  80,\n  'A, M',\n  '13 (+1)',\n  '13 (+1)',\n  '+5 (+1) A',\n  '9.7 (+0.75)',\n  '9.7 (+0.75)',\n  '+3.7 (+0.75) A',\n  'P',\n  '1.34',\n  '4.13',\n  '6',\n  10),\n ('Swarm Host',\n  3,\n  100,\n  75,\n  1.625,\n  4,\n  '1 (+1)',\n  160,\n  'A, B',\n  '-',\n  '-',\n  '-',\n  '46.6 (+4.66)[z 1]',\n  '-',\n  '-',\n  '-',\n  '-',\n  '3.15',\n  '-',\n  10),\n ('Tempest',\n  5,\n  250,\n  175,\n  2.5,\n  '-',\n  '2 (+1)',\n  200,\n  'A, M, Ma',\n  '40 (+4)',\n  '30 (+3)',\n  '+22 (+2) Ma Air, +0 (+40) S',\n  '16.97 (+1.697)',\n  '12.7 (+1.27)',\n  '+9.32 (+0.847) Ma Air, +0 (+16.97) S',\n  'P',\n  '2.36',\n  '3.15',\n  '10, 14',\n  12),\n ('Thor (Explosive)',\n  6,\n  300,\n  200,\n  2.0,\n  8,\n  '1 (+1)',\n  400,\n  'A, M, Ma',\n  '30 (+3) x2',\n  '6 (+1) (x4)',\n  '+6 (+1) L Air',\n  '65.9 (+6.59)',\n  '11.2 (+1.87)',\n  '+11.2 (+1.87) L Air',\n  'S, P (Air)',\n  '0.91, 2.14',\n  '2.62',\n  '7, 10 Air',\n  11),\n ('Thor (High Impact)',\n  6,\n  300,\n  200,\n  2.0,\n  8,\n  '1 (+1)',\n  400,\n  'A, M, Ma',\n  '30 (+3) x2',\n  '25 (+4)',\n  '+10 (+1) Ma Air',\n  '65.9 (+6.59)',\n  '27.5 (+3.3)',\n  '+11.0 (+1.1) Ma Air',\n  'P (Air)',\n  '0.91',\n  '2.62',\n  '7, 11 Air',\n  11),\n ('Ultralisk',\n  6,\n  300,\n  200,\n  2.0,\n  8,\n  '2 (+1) ((+2))',\n  500,\n  'A, B, Ma',\n  '35 (+3)',\n  '-',\n  '-',\n  '57.4 (+4.92)',\n  '-',\n  '-',\n  'S',\n  '0.61',\n  '4.13 (+0.82)',\n  '1',\n  9),\n ('Viking am',\n  2,\n  150,\n  75,\n  1.5,\n  2,\n  '0 (+1)',\n  125,\n  'A, M',\n  '12 (+1)',\n  '-',\n  '+8 (+1) M',\n  '16.9 (+1.41)',\n  '-',\n  '+11.3 (+1.41) M',\n  '-',\n  '0.71',\n  '3.15',\n  '6',\n  10),\n ('Viking fm',\n  2,\n  150,\n  75,\n  1.5,\n  '-',\n  '0 (+1)',\n  125,\n  'A, M',\n  '-',\n  '10 (+1) x2',\n  '+4 A',\n  '-',\n  '14 (+1.4)',\n  '+5.59 A',\n  'P',\n  '1.43',\n  '3.85',\n  '9',\n  10),\n ('Viper',\n  3,\n  100,\n  200,\n  2.0,\n  '-',\n  '1 (+1)',\n  150,\n  'A, B, P',\n  '-',\n  '-',\n  '-',\n  '-',\n  '-',\n  '-',\n  '-',\n  '-',\n  '4.13',\n  '-',\n  11),\n ('Void Ray',\n  4,\n  200,\n  150,\n  2.0,\n  '-',\n  '0 (+1)',\n  150,\n  'A, M',\n  '6 (+1)',\n  '6 (+1)',\n  '+4, +10 A',\n  '16.8 (+2.8)',\n  '16.8 (+2.8)',\n  '+11.2, +28 A',\n  '-',\n  '0.36',\n  '3.85 (+0.798), (2.888 (-0.264)) [p 1]',\n  '6',\n  10),\n ('Warp Prism',\n  2,\n  250,\n  0,\n  1.75,\n  '-',\n  '0 (+1)',\n  80,\n  'A, M, P',\n  '-',\n  '-',\n  '-',\n  '-',\n  '-',\n  '-',\n  '-',\n  '-',\n  '4.13 (5.36)',\n  '-',\n  10),\n ('Widow Mine',\n  2,\n  75,\n  25,\n  1.0,\n  2,\n  '0 (+1)',\n  90,\n  'L, M',\n  '125',\n  '-',\n  '+35 Shield',\n  '-',\n  '-',\n  '-',\n  'S',\n  '29',\n  '3.94',\n  '5',\n  7),\n ('Zealot',\n  2,\n  100,\n  0,\n  1.0,\n  2,\n  '1 (+1)',\n  100,\n  'L, B',\n  '8 (+1) x2',\n  '-',\n  '-',\n  '18.6 (+2.33)',\n  '-',\n  '-',\n  '-',\n  '0.86',\n  '3.15 (4.725 +5.67 C)',\n  'M',\n  9),\n ('Zergling',\n  0.5,\n  25,\n  0,\n  0.75,\n  1,\n  '0 (+1)',\n  35,\n  'L, B',\n  '5 (+1)',\n  '-',\n  '-',\n  '10 (+2), 14.1 (+2.82)',\n  '-',\n  '-',\n  '-',\n  '0.497 (0.354)',\n  '4.13 (+2.45)',\n  'M',\n  8)]"
     },
     "execution_count": 20,
     "metadata": {},
     "output_type": "execute_result"
    }
   ],
   "source": [
    "c.fetchall()"
   ],
   "metadata": {
    "collapsed": false,
    "pycharm": {
     "name": "#%%\n"
    }
   }
  },
  {
   "cell_type": "code",
   "execution_count": 21,
   "outputs": [],
   "source": [
    "# Creating a temporary table union_all_units\n",
    "# creating w query creating a temporary table using previously generated query to do union on all 3 tables\n",
    "\n",
    "qry_full = \"CREATE TEMPORARY TABLE union_all_temp2 AS WITH union_temp AS(\" + \"\\n\" + \\\n",
    "            qry_union_intersection + \")\\nSELECT * FROM union_temp\""
   ],
   "metadata": {
    "collapsed": false,
    "pycharm": {
     "name": "#%%\n"
    }
   }
  },
  {
   "cell_type": "code",
   "execution_count": 22,
   "outputs": [
    {
     "name": "stdout",
     "output_type": "stream",
     "text": [
      "CREATE TEMPORARY TABLE union_all_temp2 AS WITH union_temp AS(\n",
      "SELECT \"Unit name\", \"Supply\", \"Minerals\", \"Gas\", \"Size\", \"Cargo\", \"Armor\", \"Hit Points\", \"Attributes\", \"Ground Attack\", \"Air Attack\", \"Bonus\", \"Ground DPS\", \"Air DPS\", \"Bonus DPS\", \"Attack Mod\", \"Cooldown\", \"Speed\", \"Range\", \"Sight\" FROM terran_units\n",
      " UNION SELECT \"Unit name\", \"Supply\", \"Minerals\", \"Gas\", \"Size\", \"Cargo\", \"Armor\", \"Hit Points\", \"Attributes\", \"Ground Attack\", \"Air Attack\", \"Bonus\", \"Ground DPS\", \"Air DPS\", \"Bonus DPS\", \"Attack Mod\", \"Cooldown\", \"Speed\", \"Range\", \"Sight\" FROM protoss_units\n",
      " UNION SELECT \"Unit name\", \"Supply\", \"Minerals\", \"Gas\", \"Size\", \"Cargo\", \"Armor\", \"Hit Points\", \"Attributes\", \"Ground Attack\", \"Air Attack\", \"Bonus\", \"Ground DPS\", \"Air DPS\", \"Bonus DPS\", \"Attack Mod\", \"Cooldown\", \"Speed\", \"Range\", \"Sight\" FROM zerg_units)\n",
      "SELECT * FROM union_temp\n"
     ]
    }
   ],
   "source": [
    "print(qry_full)"
   ],
   "metadata": {
    "collapsed": false,
    "pycharm": {
     "name": "#%%\n"
    }
   }
  },
  {
   "cell_type": "code",
   "execution_count": 23,
   "outputs": [
    {
     "data": {
      "text/plain": "<sqlite3.Cursor at 0x7fa96c725490>"
     },
     "execution_count": 23,
     "metadata": {},
     "output_type": "execute_result"
    }
   ],
   "source": [
    "c.execute(qry_full)"
   ],
   "metadata": {
    "collapsed": false,
    "pycharm": {
     "name": "#%%\n"
    }
   }
  },
  {
   "cell_type": "code",
   "execution_count": 24,
   "outputs": [
    {
     "data": {
      "text/plain": "[]"
     },
     "execution_count": 24,
     "metadata": {},
     "output_type": "execute_result"
    }
   ],
   "source": [
    "c.fetchall()"
   ],
   "metadata": {
    "collapsed": false,
    "pycharm": {
     "name": "#%%\n"
    }
   }
  },
  {
   "cell_type": "code",
   "execution_count": 25,
   "outputs": [],
   "source": [
    "union_temp = pd.read_sql(\"select * from union_all_temp2\", conn)"
   ],
   "metadata": {
    "collapsed": false,
    "pycharm": {
     "name": "#%%\n"
    }
   }
  },
  {
   "cell_type": "code",
   "execution_count": 26,
   "outputs": [
    {
     "data": {
      "text/plain": "      Unit name Supply Minerals  Gas  Size Cargo   Armor Hit Points  \\\n0         Adept      2      100   25   1.0     2  1 (+1)         70   \n1        Archon      4        0    0   2.0     4  0 (+1)         10   \n2   Auto-Turret      -        -    -   2x2     -  1 (+2)        150   \n3      Baneling    0.5       25   25  0.75     2  0 (+1)    30 (+5)   \n4       Banshee      3      150  100   1.5     -  0 (+1)        140   \n..          ...    ...      ...  ...   ...   ...     ...        ...   \n64     Void Ray      4      200  150   2.0     -  0 (+1)        150   \n65   Warp Prism      2      250    0  1.75     -  0 (+1)         80   \n66   Widow Mine      2       75   25   1.0     2  0 (+1)         90   \n67       Zealot      2      100    0   1.0     2  1 (+1)        100   \n68     Zergling    0.5       25    0  0.75     1  0 (+1)         35   \n\n   Attributes Ground Attack Air Attack                    Bonus  \\\n0        L, B       10 (+1)          -               +12 (+1) L   \n1       P, Ma       25 (+3)    25 (+3)               +10 (+1) B   \n2     A, M, S            18         18                        -   \n3           B       16 (+2)          -  +19 (+2) L / +64 (+5) S   \n4        L, M    12 (+1) x2          -                        -   \n..        ...           ...        ...                      ...   \n64       A, M        6 (+1)     6 (+1)                +4, +10 A   \n65    A, M, P             -          -                        -   \n66       L, M           125          -               +35 Shield   \n67       L, B     8 (+1) x2          -                        -   \n68       L, B        5 (+1)          -                        -   \n\n               Ground DPS      Air DPS        Bonus DPS Attack Mod  \\\n0             6.2 (+0.62)            -  +7.45 (+0.62) L          -   \n1               20 (+2.4)    20 (+2.4)      +8 (+0.8) B          S   \n2                   31.58        31.58                -          -   \n3                       -            -                -          S   \n4              27 (+2.25)            -                -          P   \n..                    ...          ...              ...        ...   \n64            16.8 (+2.8)  16.8 (+2.8)     +11.2, +28 A          -   \n65                      -            -                -          -   \n66                      -            -                -          S   \n67           18.6 (+2.33)            -                -          -   \n68  10 (+2), 14.1 (+2.82)            -                -          -   \n\n         Cooldown                                  Speed   Range Sight  \n0     1.61 (1.11)                             3.5 (4.78)       4     9  \n1            1.25                                   3.94       3     9  \n2            0.57                                      -  6 (+1)     7  \n3               -                            3.5 (+0.63)       M     8  \n4            0.89                            3.85 (+1.4)       6    10  \n..            ...                                    ...     ...   ...  \n64           0.36  3.85 (+0.798), (2.888 (-0.264)) [p 1]       6    10  \n65              -                            4.13 (5.36)       -    10  \n66             29                                   3.94       5     7  \n67           0.86                   3.15 (4.725 +5.67 C)       M     9  \n68  0.497 (0.354)                           4.13 (+2.45)       M     8  \n\n[69 rows x 20 columns]",
      "text/html": "<div>\n<style scoped>\n    .dataframe tbody tr th:only-of-type {\n        vertical-align: middle;\n    }\n\n    .dataframe tbody tr th {\n        vertical-align: top;\n    }\n\n    .dataframe thead th {\n        text-align: right;\n    }\n</style>\n<table border=\"1\" class=\"dataframe\">\n  <thead>\n    <tr style=\"text-align: right;\">\n      <th></th>\n      <th>Unit name</th>\n      <th>Supply</th>\n      <th>Minerals</th>\n      <th>Gas</th>\n      <th>Size</th>\n      <th>Cargo</th>\n      <th>Armor</th>\n      <th>Hit Points</th>\n      <th>Attributes</th>\n      <th>Ground Attack</th>\n      <th>Air Attack</th>\n      <th>Bonus</th>\n      <th>Ground DPS</th>\n      <th>Air DPS</th>\n      <th>Bonus DPS</th>\n      <th>Attack Mod</th>\n      <th>Cooldown</th>\n      <th>Speed</th>\n      <th>Range</th>\n      <th>Sight</th>\n    </tr>\n  </thead>\n  <tbody>\n    <tr>\n      <th>0</th>\n      <td>Adept</td>\n      <td>2</td>\n      <td>100</td>\n      <td>25</td>\n      <td>1.0</td>\n      <td>2</td>\n      <td>1 (+1)</td>\n      <td>70</td>\n      <td>L, B</td>\n      <td>10 (+1)</td>\n      <td>-</td>\n      <td>+12 (+1) L</td>\n      <td>6.2 (+0.62)</td>\n      <td>-</td>\n      <td>+7.45 (+0.62) L</td>\n      <td>-</td>\n      <td>1.61 (1.11)</td>\n      <td>3.5 (4.78)</td>\n      <td>4</td>\n      <td>9</td>\n    </tr>\n    <tr>\n      <th>1</th>\n      <td>Archon</td>\n      <td>4</td>\n      <td>0</td>\n      <td>0</td>\n      <td>2.0</td>\n      <td>4</td>\n      <td>0 (+1)</td>\n      <td>10</td>\n      <td>P, Ma</td>\n      <td>25 (+3)</td>\n      <td>25 (+3)</td>\n      <td>+10 (+1) B</td>\n      <td>20 (+2.4)</td>\n      <td>20 (+2.4)</td>\n      <td>+8 (+0.8) B</td>\n      <td>S</td>\n      <td>1.25</td>\n      <td>3.94</td>\n      <td>3</td>\n      <td>9</td>\n    </tr>\n    <tr>\n      <th>2</th>\n      <td>Auto-Turret</td>\n      <td>-</td>\n      <td>-</td>\n      <td>-</td>\n      <td>2x2</td>\n      <td>-</td>\n      <td>1 (+2)</td>\n      <td>150</td>\n      <td>A, M, S</td>\n      <td>18</td>\n      <td>18</td>\n      <td>-</td>\n      <td>31.58</td>\n      <td>31.58</td>\n      <td>-</td>\n      <td>-</td>\n      <td>0.57</td>\n      <td>-</td>\n      <td>6 (+1)</td>\n      <td>7</td>\n    </tr>\n    <tr>\n      <th>3</th>\n      <td>Baneling</td>\n      <td>0.5</td>\n      <td>25</td>\n      <td>25</td>\n      <td>0.75</td>\n      <td>2</td>\n      <td>0 (+1)</td>\n      <td>30 (+5)</td>\n      <td>B</td>\n      <td>16 (+2)</td>\n      <td>-</td>\n      <td>+19 (+2) L / +64 (+5) S</td>\n      <td>-</td>\n      <td>-</td>\n      <td>-</td>\n      <td>S</td>\n      <td>-</td>\n      <td>3.5 (+0.63)</td>\n      <td>M</td>\n      <td>8</td>\n    </tr>\n    <tr>\n      <th>4</th>\n      <td>Banshee</td>\n      <td>3</td>\n      <td>150</td>\n      <td>100</td>\n      <td>1.5</td>\n      <td>-</td>\n      <td>0 (+1)</td>\n      <td>140</td>\n      <td>L, M</td>\n      <td>12 (+1) x2</td>\n      <td>-</td>\n      <td>-</td>\n      <td>27 (+2.25)</td>\n      <td>-</td>\n      <td>-</td>\n      <td>P</td>\n      <td>0.89</td>\n      <td>3.85 (+1.4)</td>\n      <td>6</td>\n      <td>10</td>\n    </tr>\n    <tr>\n      <th>...</th>\n      <td>...</td>\n      <td>...</td>\n      <td>...</td>\n      <td>...</td>\n      <td>...</td>\n      <td>...</td>\n      <td>...</td>\n      <td>...</td>\n      <td>...</td>\n      <td>...</td>\n      <td>...</td>\n      <td>...</td>\n      <td>...</td>\n      <td>...</td>\n      <td>...</td>\n      <td>...</td>\n      <td>...</td>\n      <td>...</td>\n      <td>...</td>\n      <td>...</td>\n    </tr>\n    <tr>\n      <th>64</th>\n      <td>Void Ray</td>\n      <td>4</td>\n      <td>200</td>\n      <td>150</td>\n      <td>2.0</td>\n      <td>-</td>\n      <td>0 (+1)</td>\n      <td>150</td>\n      <td>A, M</td>\n      <td>6 (+1)</td>\n      <td>6 (+1)</td>\n      <td>+4, +10 A</td>\n      <td>16.8 (+2.8)</td>\n      <td>16.8 (+2.8)</td>\n      <td>+11.2, +28 A</td>\n      <td>-</td>\n      <td>0.36</td>\n      <td>3.85 (+0.798), (2.888 (-0.264)) [p 1]</td>\n      <td>6</td>\n      <td>10</td>\n    </tr>\n    <tr>\n      <th>65</th>\n      <td>Warp Prism</td>\n      <td>2</td>\n      <td>250</td>\n      <td>0</td>\n      <td>1.75</td>\n      <td>-</td>\n      <td>0 (+1)</td>\n      <td>80</td>\n      <td>A, M, P</td>\n      <td>-</td>\n      <td>-</td>\n      <td>-</td>\n      <td>-</td>\n      <td>-</td>\n      <td>-</td>\n      <td>-</td>\n      <td>-</td>\n      <td>4.13 (5.36)</td>\n      <td>-</td>\n      <td>10</td>\n    </tr>\n    <tr>\n      <th>66</th>\n      <td>Widow Mine</td>\n      <td>2</td>\n      <td>75</td>\n      <td>25</td>\n      <td>1.0</td>\n      <td>2</td>\n      <td>0 (+1)</td>\n      <td>90</td>\n      <td>L, M</td>\n      <td>125</td>\n      <td>-</td>\n      <td>+35 Shield</td>\n      <td>-</td>\n      <td>-</td>\n      <td>-</td>\n      <td>S</td>\n      <td>29</td>\n      <td>3.94</td>\n      <td>5</td>\n      <td>7</td>\n    </tr>\n    <tr>\n      <th>67</th>\n      <td>Zealot</td>\n      <td>2</td>\n      <td>100</td>\n      <td>0</td>\n      <td>1.0</td>\n      <td>2</td>\n      <td>1 (+1)</td>\n      <td>100</td>\n      <td>L, B</td>\n      <td>8 (+1) x2</td>\n      <td>-</td>\n      <td>-</td>\n      <td>18.6 (+2.33)</td>\n      <td>-</td>\n      <td>-</td>\n      <td>-</td>\n      <td>0.86</td>\n      <td>3.15 (4.725 +5.67 C)</td>\n      <td>M</td>\n      <td>9</td>\n    </tr>\n    <tr>\n      <th>68</th>\n      <td>Zergling</td>\n      <td>0.5</td>\n      <td>25</td>\n      <td>0</td>\n      <td>0.75</td>\n      <td>1</td>\n      <td>0 (+1)</td>\n      <td>35</td>\n      <td>L, B</td>\n      <td>5 (+1)</td>\n      <td>-</td>\n      <td>-</td>\n      <td>10 (+2), 14.1 (+2.82)</td>\n      <td>-</td>\n      <td>-</td>\n      <td>-</td>\n      <td>0.497 (0.354)</td>\n      <td>4.13 (+2.45)</td>\n      <td>M</td>\n      <td>8</td>\n    </tr>\n  </tbody>\n</table>\n<p>69 rows × 20 columns</p>\n</div>"
     },
     "execution_count": 26,
     "metadata": {},
     "output_type": "execute_result"
    }
   ],
   "source": [
    "union_temp"
   ],
   "metadata": {
    "collapsed": false,
    "pycharm": {
     "name": "#%%\n"
    }
   }
  },
  {
   "cell_type": "code",
   "execution_count": 27,
   "outputs": [],
   "source": [
    "# As we see above our roundabout way of making a union in a temporary table worked."
   ],
   "metadata": {
    "collapsed": false,
    "pycharm": {
     "name": "#%%\n"
    }
   }
  },
  {
   "cell_type": "markdown",
   "source": [
    "### Using union of all units to find units based on certain criteria"
   ],
   "metadata": {
    "collapsed": false,
    "pycharm": {
     "name": "#%% md\n"
    }
   }
  },
  {
   "cell_type": "code",
   "execution_count": 28,
   "outputs": [],
   "source": [
    "# Highest mineral cost 5 unit in the game.\n",
    "\n",
    "union_temp = pd.read_sql(\"select * from union_all_temp2 order by Minerals desc\", conn)"
   ],
   "metadata": {
    "collapsed": false,
    "pycharm": {
     "name": "#%%\n"
    }
   }
  },
  {
   "cell_type": "code",
   "execution_count": 29,
   "outputs": [
    {
     "data": {
      "text/plain": "      Unit name Supply Minerals Gas  Size Cargo   Armor Hit Points Attributes  \\\n0   Auto-Turret      -        -   -   2x2     -  1 (+2)        150    A, M, S   \n1     Broodling      -        -   -  0.75     -  0 (+1)         30       L, B   \n2    Changeling      -        -   -  0.75     -       0          5       L, B   \n3         Larva      -        -   -  0.25     -      10         25       L, B   \n4        Locust      -        -   -  0.75     -  0 (+1)         50       L, B   \n..          ...    ...      ...  ..   ...   ...     ...        ...        ...   \n64     Observer      1       25  75   1.0     -  0 (+1)         40       L, M   \n65      Ravager      3       25  75   1.5     4  1 (+1)        120          B   \n66     Zergling    0.5       25   0  0.75     1  0 (+1)         35       L, B   \n67  Interceptor      0       15   0   0.5     -  0 (+1)         40       L, M   \n68       Archon      4        0   0   2.0     4  0 (+1)         10      P, Ma   \n\n   Ground Attack Air Attack       Bonus             Ground DPS      Air DPS  \\\n0             18         18           -                  31.58        31.58   \n1         4 (+1)          -           -            8.7 (+2.17)            -   \n2              -          -           -                      -            -   \n3              -          -           -                      -            -   \n4        10 (+1)          -           -           23.3 (+2.33)            -   \n..           ...        ...         ...                    ...          ...   \n64             -          -           -                      -            -   \n65       16 (+2)          -           -             14 (+1.75)            -   \n66        5 (+1)          -           -  10 (+2), 14.1 (+2.82)            -   \n67     5 (+1) x2  5 (+1) x2           -            4.7 (+0.93)  4.7 (+0.93)   \n68       25 (+3)    25 (+3)  +10 (+1) B              20 (+2.4)    20 (+2.4)   \n\n      Bonus DPS Attack Mod       Cooldown         Speed   Range Sight  \n0             -          -           0.57             -  6 (+1)     7  \n1             -          -           0.46          5.37       M     7  \n2             -          -              -          3.15       -     8  \n3             -          -              -        (0.79)       -     5  \n4             -          P           0.43          2.62       3     6  \n..          ...        ...            ...           ...     ...   ...  \n64            -          -              -  2.63 (+1.31)       -    11  \n65            -       None           1.14          3.85       6     9  \n66            -          -  0.497 (0.354)  4.13 (+2.45)       M     8  \n67            -          -           2.14          10.5       2     7  \n68  +8 (+0.8) B          S           1.25          3.94       3     9  \n\n[69 rows x 20 columns]",
      "text/html": "<div>\n<style scoped>\n    .dataframe tbody tr th:only-of-type {\n        vertical-align: middle;\n    }\n\n    .dataframe tbody tr th {\n        vertical-align: top;\n    }\n\n    .dataframe thead th {\n        text-align: right;\n    }\n</style>\n<table border=\"1\" class=\"dataframe\">\n  <thead>\n    <tr style=\"text-align: right;\">\n      <th></th>\n      <th>Unit name</th>\n      <th>Supply</th>\n      <th>Minerals</th>\n      <th>Gas</th>\n      <th>Size</th>\n      <th>Cargo</th>\n      <th>Armor</th>\n      <th>Hit Points</th>\n      <th>Attributes</th>\n      <th>Ground Attack</th>\n      <th>Air Attack</th>\n      <th>Bonus</th>\n      <th>Ground DPS</th>\n      <th>Air DPS</th>\n      <th>Bonus DPS</th>\n      <th>Attack Mod</th>\n      <th>Cooldown</th>\n      <th>Speed</th>\n      <th>Range</th>\n      <th>Sight</th>\n    </tr>\n  </thead>\n  <tbody>\n    <tr>\n      <th>0</th>\n      <td>Auto-Turret</td>\n      <td>-</td>\n      <td>-</td>\n      <td>-</td>\n      <td>2x2</td>\n      <td>-</td>\n      <td>1 (+2)</td>\n      <td>150</td>\n      <td>A, M, S</td>\n      <td>18</td>\n      <td>18</td>\n      <td>-</td>\n      <td>31.58</td>\n      <td>31.58</td>\n      <td>-</td>\n      <td>-</td>\n      <td>0.57</td>\n      <td>-</td>\n      <td>6 (+1)</td>\n      <td>7</td>\n    </tr>\n    <tr>\n      <th>1</th>\n      <td>Broodling</td>\n      <td>-</td>\n      <td>-</td>\n      <td>-</td>\n      <td>0.75</td>\n      <td>-</td>\n      <td>0 (+1)</td>\n      <td>30</td>\n      <td>L, B</td>\n      <td>4 (+1)</td>\n      <td>-</td>\n      <td>-</td>\n      <td>8.7 (+2.17)</td>\n      <td>-</td>\n      <td>-</td>\n      <td>-</td>\n      <td>0.46</td>\n      <td>5.37</td>\n      <td>M</td>\n      <td>7</td>\n    </tr>\n    <tr>\n      <th>2</th>\n      <td>Changeling</td>\n      <td>-</td>\n      <td>-</td>\n      <td>-</td>\n      <td>0.75</td>\n      <td>-</td>\n      <td>0</td>\n      <td>5</td>\n      <td>L, B</td>\n      <td>-</td>\n      <td>-</td>\n      <td>-</td>\n      <td>-</td>\n      <td>-</td>\n      <td>-</td>\n      <td>-</td>\n      <td>-</td>\n      <td>3.15</td>\n      <td>-</td>\n      <td>8</td>\n    </tr>\n    <tr>\n      <th>3</th>\n      <td>Larva</td>\n      <td>-</td>\n      <td>-</td>\n      <td>-</td>\n      <td>0.25</td>\n      <td>-</td>\n      <td>10</td>\n      <td>25</td>\n      <td>L, B</td>\n      <td>-</td>\n      <td>-</td>\n      <td>-</td>\n      <td>-</td>\n      <td>-</td>\n      <td>-</td>\n      <td>-</td>\n      <td>-</td>\n      <td>(0.79)</td>\n      <td>-</td>\n      <td>5</td>\n    </tr>\n    <tr>\n      <th>4</th>\n      <td>Locust</td>\n      <td>-</td>\n      <td>-</td>\n      <td>-</td>\n      <td>0.75</td>\n      <td>-</td>\n      <td>0 (+1)</td>\n      <td>50</td>\n      <td>L, B</td>\n      <td>10 (+1)</td>\n      <td>-</td>\n      <td>-</td>\n      <td>23.3 (+2.33)</td>\n      <td>-</td>\n      <td>-</td>\n      <td>P</td>\n      <td>0.43</td>\n      <td>2.62</td>\n      <td>3</td>\n      <td>6</td>\n    </tr>\n    <tr>\n      <th>...</th>\n      <td>...</td>\n      <td>...</td>\n      <td>...</td>\n      <td>...</td>\n      <td>...</td>\n      <td>...</td>\n      <td>...</td>\n      <td>...</td>\n      <td>...</td>\n      <td>...</td>\n      <td>...</td>\n      <td>...</td>\n      <td>...</td>\n      <td>...</td>\n      <td>...</td>\n      <td>...</td>\n      <td>...</td>\n      <td>...</td>\n      <td>...</td>\n      <td>...</td>\n    </tr>\n    <tr>\n      <th>64</th>\n      <td>Observer</td>\n      <td>1</td>\n      <td>25</td>\n      <td>75</td>\n      <td>1.0</td>\n      <td>-</td>\n      <td>0 (+1)</td>\n      <td>40</td>\n      <td>L, M</td>\n      <td>-</td>\n      <td>-</td>\n      <td>-</td>\n      <td>-</td>\n      <td>-</td>\n      <td>-</td>\n      <td>-</td>\n      <td>-</td>\n      <td>2.63 (+1.31)</td>\n      <td>-</td>\n      <td>11</td>\n    </tr>\n    <tr>\n      <th>65</th>\n      <td>Ravager</td>\n      <td>3</td>\n      <td>25</td>\n      <td>75</td>\n      <td>1.5</td>\n      <td>4</td>\n      <td>1 (+1)</td>\n      <td>120</td>\n      <td>B</td>\n      <td>16 (+2)</td>\n      <td>-</td>\n      <td>-</td>\n      <td>14 (+1.75)</td>\n      <td>-</td>\n      <td>-</td>\n      <td>None</td>\n      <td>1.14</td>\n      <td>3.85</td>\n      <td>6</td>\n      <td>9</td>\n    </tr>\n    <tr>\n      <th>66</th>\n      <td>Zergling</td>\n      <td>0.5</td>\n      <td>25</td>\n      <td>0</td>\n      <td>0.75</td>\n      <td>1</td>\n      <td>0 (+1)</td>\n      <td>35</td>\n      <td>L, B</td>\n      <td>5 (+1)</td>\n      <td>-</td>\n      <td>-</td>\n      <td>10 (+2), 14.1 (+2.82)</td>\n      <td>-</td>\n      <td>-</td>\n      <td>-</td>\n      <td>0.497 (0.354)</td>\n      <td>4.13 (+2.45)</td>\n      <td>M</td>\n      <td>8</td>\n    </tr>\n    <tr>\n      <th>67</th>\n      <td>Interceptor</td>\n      <td>0</td>\n      <td>15</td>\n      <td>0</td>\n      <td>0.5</td>\n      <td>-</td>\n      <td>0 (+1)</td>\n      <td>40</td>\n      <td>L, M</td>\n      <td>5 (+1) x2</td>\n      <td>5 (+1) x2</td>\n      <td>-</td>\n      <td>4.7 (+0.93)</td>\n      <td>4.7 (+0.93)</td>\n      <td>-</td>\n      <td>-</td>\n      <td>2.14</td>\n      <td>10.5</td>\n      <td>2</td>\n      <td>7</td>\n    </tr>\n    <tr>\n      <th>68</th>\n      <td>Archon</td>\n      <td>4</td>\n      <td>0</td>\n      <td>0</td>\n      <td>2.0</td>\n      <td>4</td>\n      <td>0 (+1)</td>\n      <td>10</td>\n      <td>P, Ma</td>\n      <td>25 (+3)</td>\n      <td>25 (+3)</td>\n      <td>+10 (+1) B</td>\n      <td>20 (+2.4)</td>\n      <td>20 (+2.4)</td>\n      <td>+8 (+0.8) B</td>\n      <td>S</td>\n      <td>1.25</td>\n      <td>3.94</td>\n      <td>3</td>\n      <td>9</td>\n    </tr>\n  </tbody>\n</table>\n<p>69 rows × 20 columns</p>\n</div>"
     },
     "execution_count": 29,
     "metadata": {},
     "output_type": "execute_result"
    }
   ],
   "source": [
    "union_temp"
   ],
   "metadata": {
    "collapsed": false,
    "pycharm": {
     "name": "#%%\n"
    }
   }
  },
  {
   "cell_type": "code",
   "execution_count": 34,
   "outputs": [
    {
     "data": {
      "text/plain": "             Unit name Supply Minerals  Gas  Size Cargo   Armor Hit Points  \\\n6        Battlecruiser      6      400  300   2.5     -  3 (+1)        550   \n7           Mothership      8      400  400  2.75     -  2 (+1)        350   \n8              Carrier      6      350  250   2.5     -  2 (+1)        300   \n9             Colossus      6      300  200   2.0     8  1 (+1)        200   \n10    Thor (Explosive)      6      300  200   2.0     8  1 (+1)        400   \n11  Thor (High Impact)      6      300  200   2.0     8  1 (+1)        400   \n\n        Attributes Ground Attack   Air Attack            Bonus  \\\n6         A, M, Ma        8 (+1)       5 (+1)                -   \n7   A, M, P, Ma, H     6 (+1) x6    6 (+1) x6                -   \n8         A, M, Ma             -            -                -   \n9         A, M, Ma    10 (+1) x2            -        +5 (+1) L   \n10        A, M, Ma    30 (+3) x2  6 (+1) (x4)    +6 (+1) L Air   \n11        A, M, Ma    30 (+3) x2      25 (+4)  +10 (+1) Ma Air   \n\n          Ground DPS        Air DPS            Bonus DPS  Attack Mod  \\\n6         50 (+6.25)  31.25 (+6.25)                    -           -   \n7       22.8 (+3.78)   22.8 (+3.78)                    -           -   \n8   37.3 (+7.5)[p 3]    37.3 (+7.5)                    -           -   \n9       18.7 (+1.87)              -       +9.3 (+1.87) L           L   \n10      65.9 (+6.59)   11.2 (+1.87)  +11.2 (+1.87) L Air  S, P (Air)   \n11      65.9 (+6.59)    27.5 (+3.3)  +11.0 (+1.1) Ma Air     P (Air)   \n\n                  Cooldown Speed      Range Sight  \n6                     0.16  2.62          6    12  \n7                     1.58  2.62          7    14  \n8   0.36 (0.09/ 0.18)[p 4]  2.62          8    12  \n9                     1.07  3.15     7 (+2)    10  \n10              0.91, 2.14  2.62  7, 10 Air    11  \n11                    0.91  2.62  7, 11 Air    11  ",
      "text/html": "<div>\n<style scoped>\n    .dataframe tbody tr th:only-of-type {\n        vertical-align: middle;\n    }\n\n    .dataframe tbody tr th {\n        vertical-align: top;\n    }\n\n    .dataframe thead th {\n        text-align: right;\n    }\n</style>\n<table border=\"1\" class=\"dataframe\">\n  <thead>\n    <tr style=\"text-align: right;\">\n      <th></th>\n      <th>Unit name</th>\n      <th>Supply</th>\n      <th>Minerals</th>\n      <th>Gas</th>\n      <th>Size</th>\n      <th>Cargo</th>\n      <th>Armor</th>\n      <th>Hit Points</th>\n      <th>Attributes</th>\n      <th>Ground Attack</th>\n      <th>Air Attack</th>\n      <th>Bonus</th>\n      <th>Ground DPS</th>\n      <th>Air DPS</th>\n      <th>Bonus DPS</th>\n      <th>Attack Mod</th>\n      <th>Cooldown</th>\n      <th>Speed</th>\n      <th>Range</th>\n      <th>Sight</th>\n    </tr>\n  </thead>\n  <tbody>\n    <tr>\n      <th>6</th>\n      <td>Battlecruiser</td>\n      <td>6</td>\n      <td>400</td>\n      <td>300</td>\n      <td>2.5</td>\n      <td>-</td>\n      <td>3 (+1)</td>\n      <td>550</td>\n      <td>A, M, Ma</td>\n      <td>8 (+1)</td>\n      <td>5 (+1)</td>\n      <td>-</td>\n      <td>50 (+6.25)</td>\n      <td>31.25 (+6.25)</td>\n      <td>-</td>\n      <td>-</td>\n      <td>0.16</td>\n      <td>2.62</td>\n      <td>6</td>\n      <td>12</td>\n    </tr>\n    <tr>\n      <th>7</th>\n      <td>Mothership</td>\n      <td>8</td>\n      <td>400</td>\n      <td>400</td>\n      <td>2.75</td>\n      <td>-</td>\n      <td>2 (+1)</td>\n      <td>350</td>\n      <td>A, M, P, Ma, H</td>\n      <td>6 (+1) x6</td>\n      <td>6 (+1) x6</td>\n      <td>-</td>\n      <td>22.8 (+3.78)</td>\n      <td>22.8 (+3.78)</td>\n      <td>-</td>\n      <td>-</td>\n      <td>1.58</td>\n      <td>2.62</td>\n      <td>7</td>\n      <td>14</td>\n    </tr>\n    <tr>\n      <th>8</th>\n      <td>Carrier</td>\n      <td>6</td>\n      <td>350</td>\n      <td>250</td>\n      <td>2.5</td>\n      <td>-</td>\n      <td>2 (+1)</td>\n      <td>300</td>\n      <td>A, M, Ma</td>\n      <td>-</td>\n      <td>-</td>\n      <td>-</td>\n      <td>37.3 (+7.5)[p 3]</td>\n      <td>37.3 (+7.5)</td>\n      <td>-</td>\n      <td>-</td>\n      <td>0.36 (0.09/ 0.18)[p 4]</td>\n      <td>2.62</td>\n      <td>8</td>\n      <td>12</td>\n    </tr>\n    <tr>\n      <th>9</th>\n      <td>Colossus</td>\n      <td>6</td>\n      <td>300</td>\n      <td>200</td>\n      <td>2.0</td>\n      <td>8</td>\n      <td>1 (+1)</td>\n      <td>200</td>\n      <td>A, M, Ma</td>\n      <td>10 (+1) x2</td>\n      <td>-</td>\n      <td>+5 (+1) L</td>\n      <td>18.7 (+1.87)</td>\n      <td>-</td>\n      <td>+9.3 (+1.87) L</td>\n      <td>L</td>\n      <td>1.07</td>\n      <td>3.15</td>\n      <td>7 (+2)</td>\n      <td>10</td>\n    </tr>\n    <tr>\n      <th>10</th>\n      <td>Thor (Explosive)</td>\n      <td>6</td>\n      <td>300</td>\n      <td>200</td>\n      <td>2.0</td>\n      <td>8</td>\n      <td>1 (+1)</td>\n      <td>400</td>\n      <td>A, M, Ma</td>\n      <td>30 (+3) x2</td>\n      <td>6 (+1) (x4)</td>\n      <td>+6 (+1) L Air</td>\n      <td>65.9 (+6.59)</td>\n      <td>11.2 (+1.87)</td>\n      <td>+11.2 (+1.87) L Air</td>\n      <td>S, P (Air)</td>\n      <td>0.91, 2.14</td>\n      <td>2.62</td>\n      <td>7, 10 Air</td>\n      <td>11</td>\n    </tr>\n    <tr>\n      <th>11</th>\n      <td>Thor (High Impact)</td>\n      <td>6</td>\n      <td>300</td>\n      <td>200</td>\n      <td>2.0</td>\n      <td>8</td>\n      <td>1 (+1)</td>\n      <td>400</td>\n      <td>A, M, Ma</td>\n      <td>30 (+3) x2</td>\n      <td>25 (+4)</td>\n      <td>+10 (+1) Ma Air</td>\n      <td>65.9 (+6.59)</td>\n      <td>27.5 (+3.3)</td>\n      <td>+11.0 (+1.1) Ma Air</td>\n      <td>P (Air)</td>\n      <td>0.91</td>\n      <td>2.62</td>\n      <td>7, 11 Air</td>\n      <td>11</td>\n    </tr>\n  </tbody>\n</table>\n</div>"
     },
     "execution_count": 34,
     "metadata": {},
     "output_type": "execute_result"
    }
   ],
   "source": [
    "union_temp[6:12]"
   ],
   "metadata": {
    "collapsed": false,
    "pycharm": {
     "name": "#%%\n"
    }
   }
  },
  {
   "cell_type": "code",
   "execution_count": 38,
   "outputs": [],
   "source": [
    "# We see that the highest mineral cost pertains to units: Battlecruiser, Mothership, Carrier Colossus and Thor"
   ],
   "metadata": {
    "collapsed": false,
    "pycharm": {
     "name": "#%%\n"
    }
   }
  },
  {
   "cell_type": "code",
   "execution_count": 35,
   "outputs": [],
   "source": [
    "# Let's in turn find the highest gas cost in the game\n",
    "\n",
    "union_temp = pd.read_sql(\"select * from union_all_temp2 order by Gas desc\", conn)"
   ],
   "metadata": {
    "collapsed": false,
    "pycharm": {
     "name": "#%%\n"
    }
   }
  },
  {
   "cell_type": "code",
   "execution_count": 37,
   "outputs": [
    {
     "data": {
      "text/plain": "        Unit name Supply Minerals  Gas  Size Cargo   Armor Hit Points  \\\n8      Mothership      8      400  400  2.75     -  2 (+1)        350   \n9   Battlecruiser      6      400  300   2.5     -  3 (+1)        550   \n10        Carrier      6      350  250   2.5     -  2 (+1)        300   \n11       Colossus      6      300  200   2.0     8  1 (+1)        200   \n12          Raven      2      100  200  1.25     -  1 (+1)        140   \n\n        Attributes Ground Attack Air Attack      Bonus        Ground DPS  \\\n8   A, M, P, Ma, H     6 (+1) x6  6 (+1) x6          -      22.8 (+3.78)   \n9         A, M, Ma        8 (+1)     5 (+1)          -        50 (+6.25)   \n10        A, M, Ma             -          -          -  37.3 (+7.5)[p 3]   \n11        A, M, Ma    10 (+1) x2          -  +5 (+1) L      18.7 (+1.87)   \n12            L, M             -          -          -                 -   \n\n          Air DPS       Bonus DPS Attack Mod                Cooldown Speed  \\\n8    22.8 (+3.78)               -          -                    1.58  2.62   \n9   31.25 (+6.25)               -          -                    0.16  2.62   \n10    37.3 (+7.5)               -          -  0.36 (0.09/ 0.18)[p 4]  2.62   \n11              -  +9.3 (+1.87) L          L                    1.07  3.15   \n12              -               -          -                       -  4.13   \n\n     Range Sight  \n8        7    14  \n9        6    12  \n10       8    12  \n11  7 (+2)    10  \n12       -    11  ",
      "text/html": "<div>\n<style scoped>\n    .dataframe tbody tr th:only-of-type {\n        vertical-align: middle;\n    }\n\n    .dataframe tbody tr th {\n        vertical-align: top;\n    }\n\n    .dataframe thead th {\n        text-align: right;\n    }\n</style>\n<table border=\"1\" class=\"dataframe\">\n  <thead>\n    <tr style=\"text-align: right;\">\n      <th></th>\n      <th>Unit name</th>\n      <th>Supply</th>\n      <th>Minerals</th>\n      <th>Gas</th>\n      <th>Size</th>\n      <th>Cargo</th>\n      <th>Armor</th>\n      <th>Hit Points</th>\n      <th>Attributes</th>\n      <th>Ground Attack</th>\n      <th>Air Attack</th>\n      <th>Bonus</th>\n      <th>Ground DPS</th>\n      <th>Air DPS</th>\n      <th>Bonus DPS</th>\n      <th>Attack Mod</th>\n      <th>Cooldown</th>\n      <th>Speed</th>\n      <th>Range</th>\n      <th>Sight</th>\n    </tr>\n  </thead>\n  <tbody>\n    <tr>\n      <th>8</th>\n      <td>Mothership</td>\n      <td>8</td>\n      <td>400</td>\n      <td>400</td>\n      <td>2.75</td>\n      <td>-</td>\n      <td>2 (+1)</td>\n      <td>350</td>\n      <td>A, M, P, Ma, H</td>\n      <td>6 (+1) x6</td>\n      <td>6 (+1) x6</td>\n      <td>-</td>\n      <td>22.8 (+3.78)</td>\n      <td>22.8 (+3.78)</td>\n      <td>-</td>\n      <td>-</td>\n      <td>1.58</td>\n      <td>2.62</td>\n      <td>7</td>\n      <td>14</td>\n    </tr>\n    <tr>\n      <th>9</th>\n      <td>Battlecruiser</td>\n      <td>6</td>\n      <td>400</td>\n      <td>300</td>\n      <td>2.5</td>\n      <td>-</td>\n      <td>3 (+1)</td>\n      <td>550</td>\n      <td>A, M, Ma</td>\n      <td>8 (+1)</td>\n      <td>5 (+1)</td>\n      <td>-</td>\n      <td>50 (+6.25)</td>\n      <td>31.25 (+6.25)</td>\n      <td>-</td>\n      <td>-</td>\n      <td>0.16</td>\n      <td>2.62</td>\n      <td>6</td>\n      <td>12</td>\n    </tr>\n    <tr>\n      <th>10</th>\n      <td>Carrier</td>\n      <td>6</td>\n      <td>350</td>\n      <td>250</td>\n      <td>2.5</td>\n      <td>-</td>\n      <td>2 (+1)</td>\n      <td>300</td>\n      <td>A, M, Ma</td>\n      <td>-</td>\n      <td>-</td>\n      <td>-</td>\n      <td>37.3 (+7.5)[p 3]</td>\n      <td>37.3 (+7.5)</td>\n      <td>-</td>\n      <td>-</td>\n      <td>0.36 (0.09/ 0.18)[p 4]</td>\n      <td>2.62</td>\n      <td>8</td>\n      <td>12</td>\n    </tr>\n    <tr>\n      <th>11</th>\n      <td>Colossus</td>\n      <td>6</td>\n      <td>300</td>\n      <td>200</td>\n      <td>2.0</td>\n      <td>8</td>\n      <td>1 (+1)</td>\n      <td>200</td>\n      <td>A, M, Ma</td>\n      <td>10 (+1) x2</td>\n      <td>-</td>\n      <td>+5 (+1) L</td>\n      <td>18.7 (+1.87)</td>\n      <td>-</td>\n      <td>+9.3 (+1.87) L</td>\n      <td>L</td>\n      <td>1.07</td>\n      <td>3.15</td>\n      <td>7 (+2)</td>\n      <td>10</td>\n    </tr>\n    <tr>\n      <th>12</th>\n      <td>Raven</td>\n      <td>2</td>\n      <td>100</td>\n      <td>200</td>\n      <td>1.25</td>\n      <td>-</td>\n      <td>1 (+1)</td>\n      <td>140</td>\n      <td>L, M</td>\n      <td>-</td>\n      <td>-</td>\n      <td>-</td>\n      <td>-</td>\n      <td>-</td>\n      <td>-</td>\n      <td>-</td>\n      <td>-</td>\n      <td>4.13</td>\n      <td>-</td>\n      <td>11</td>\n    </tr>\n  </tbody>\n</table>\n</div>"
     },
     "execution_count": 37,
     "metadata": {},
     "output_type": "execute_result"
    }
   ],
   "source": [
    "# Highest gas cost 5 unit in the game.\n",
    "\n",
    "union_temp[8:8+5]"
   ],
   "metadata": {
    "collapsed": false,
    "pycharm": {
     "name": "#%%\n"
    }
   }
  },
  {
   "cell_type": "code",
   "execution_count": null,
   "outputs": [],
   "source": [
    "# When it comes to gas, the most expensive are: Mothership, Battlecruiser, Carrier, Colossus and Raven."
   ],
   "metadata": {
    "collapsed": false,
    "pycharm": {
     "name": "#%%\n"
    }
   }
  }
 ],
 "metadata": {
  "kernelspec": {
   "name": "nlp",
   "language": "python",
   "display_name": "nlp"
  },
  "language_info": {
   "codemirror_mode": {
    "name": "ipython",
    "version": 2
   },
   "file_extension": ".py",
   "mimetype": "text/x-python",
   "name": "python",
   "nbconvert_exporter": "python",
   "pygments_lexer": "ipython2",
   "version": "2.7.6"
  }
 },
 "nbformat": 4,
 "nbformat_minor": 0
}