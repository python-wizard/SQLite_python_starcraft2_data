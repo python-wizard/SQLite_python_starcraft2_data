{
 "cells": [
  {
   "cell_type": "code",
   "execution_count": 1,
   "outputs": [],
   "source": [
    "import sqlite3\n",
    "import pandas as pd"
   ],
   "metadata": {
    "collapsed": false,
    "pycharm": {
     "name": "#%%\n"
    }
   }
  },
  {
   "cell_type": "code",
   "execution_count": 2,
   "outputs": [],
   "source": [
    "# Creating SQLite connection\n",
    "# Tworzenie połączenia z bazą danych\n",
    "\n",
    "conn = sqlite3.connect('data/sc2_data.db')"
   ],
   "metadata": {
    "collapsed": false,
    "pycharm": {
     "name": "#%%\n"
    }
   }
  },
  {
   "cell_type": "code",
   "execution_count": 3,
   "outputs": [],
   "source": [
    "# Creating a cursor\n",
    "# Tworzenie cursora. Połączenie i cursor są potrzebne do wykonywania poleceń na bazie danych\n",
    "\n",
    "c = conn.cursor()"
   ],
   "metadata": {
    "collapsed": false,
    "pycharm": {
     "name": "#%%\n"
    }
   }
  },
  {
   "cell_type": "code",
   "execution_count": 4,
   "outputs": [],
   "source": [
    "# getting into terran data and diplaying it using pandas\n",
    "terran_units = pd.read_sql(\"select * from terran_units\", conn)"
   ],
   "metadata": {
    "collapsed": false,
    "pycharm": {
     "name": "#%%\n"
    }
   }
  },
  {
   "cell_type": "code",
   "execution_count": 5,
   "outputs": [
    {
     "data": {
      "text/plain": "             Unit name Supply Minerals  Gas Game speed   Size Cargo   Armor  \\\n0                  SCV      1       50    0         12   0.75     1  0 (+1)   \n1                 MULE      -        -    -          -   0.75     -  0 (+1)   \n2               Marine      1       50    0         18   0.75     1  0 (+1)   \n3             Marauder      2      100   25         21  1.125     2  1 (+1)   \n4               Reaper      1       50   50         32   0.75     1  0 (+1)   \n5                Ghost      2      150  125         29   0.75     2  0 (+1)   \n6              Hellion      2      100    0         21   1.25     2  0 (+1)   \n7              Hellbat      2      100    0         21   1.25     4  0 (+1)   \n8           Widow Mine      2       75   25         21      1     2  0 (+1)   \n9        Siege Tank tm      3      150  125         32   1.75     4  1 (+1)   \n10       Siege Tank sm      3      150  125         32   1.75     8  1 (+1)   \n11             Cyclone      3      150  100         32    1.5     3  1 (+1)   \n12    Thor (Explosive)      6      300  200         43      2     8  1 (+1)   \n13  Thor (High Impact)      6      300  200         43      2     8  1 (+1)   \n14           Viking fm      2      150   75         30    1.5     -  0 (+1)   \n15           Viking am      2      150   75         30    1.5     2  0 (+1)   \n16             Medivac      2      100  100         30    1.5     -  1 (+1)   \n17        Liberator fm      3      150  150         43    1.5     -  0 (+1)   \n18        Liberator dm      3      150  150         43    1.5     -  0 (+1)   \n19             Banshee      3      150  100         43    1.5     -  0 (+1)   \n20               Raven      2      100  200         43   1.25     -  1 (+1)   \n21       Battlecruiser      6      400  300         64    2.5     -  3 (+1)   \n22  Planetary Fortress      -      150  150         36    5x5     -  3 (+2)   \n23      Missile Turret      -      100    0         18    2x2     -  0 (+2)   \n24         Auto-Turret      -        -    -          -    2x2     -  1 (+2)   \n\n   Hit Points Attributes  ...   Air Attack            Bonus  \\\n0          45    L, B, M  ...            -                -   \n1          60       L, M  ...            -                -   \n2    45 (+10)       L, B  ...       6 (+1)                -   \n3         125       A, B  ...            -             +5 A   \n4          60       L, B  ...            -                -   \n5         100       B, P  ...      10 (+1)       +10 (+1) L   \n6          90       L, M  ...            -   +6 (+1), +11 L   \n7         135    L, B, M  ...            -   +0 (+1), +12 L   \n8          90       L, M  ...            -       +35 Shield   \n9         175       A, M  ...            -       +10 (+1) A   \n10        175       A, M  ...            -        30 (+1) A   \n11        120       A, M  ...      18 (+2)                -   \n12        400   A, M, Ma  ...  6 (+1) (x4)    +6 (+1) L Air   \n13        400   A, M, Ma  ...      25 (+4)  +10 (+1) Ma Air   \n14        125       A, M  ...   10 (+1) x2             +4 A   \n15        125       A, M  ...            -        +8 (+1) M   \n16        150       A, M  ...            -                -   \n17        180       A, M  ...    5 (+1) x2                -   \n18        180       A, M  ...            -                -   \n19        140       L, M  ...            -                -   \n20        140       L, M  ...            -                -   \n21        550   A, M, Ma  ...       5 (+1)                -   \n22       1500    A, M, S  ...            -                -   \n23        250    A, M, S  ...        12 x2                -   \n24        150    A, M, S  ...           18                -   \n\n                   Ground DPS                 Air DPS  \\\n0                         4.7                       -   \n1                           -                       -   \n2      9.8 (+1.64), 15 (+2.5)  9.8 (+1.64), 15 (+2.5)   \n3   9.3 (+1.87), 14.1 (+2.82)                       -   \n4                10.1 (+2.53)                       -   \n5                 9.3 (+0.93)             9.3 (+0.93)   \n6                 4.5 (+0.56)                       -   \n7                 12.6 (+1.4)                       -   \n8                           -                       -   \n9                 20.3 (+2.7)                       -   \n10               18.69 (+2.6)                       -   \n11                25.2 (+2.8)             25.2 (+2.8)   \n12               65.9 (+6.59)            11.2 (+1.87)   \n13               65.9 (+6.59)             27.5 (+3.3)   \n14                          -               14 (+1.4)   \n15               16.9 (+1.41)                       -   \n16                          -                       -   \n17                          -            7.75 (+1.55)   \n18               65.8 (+4.39)                       -   \n19                 27 (+2.25)                       -   \n20                          -                       -   \n21                 50 (+6.25)           31.25 (+6.25)   \n22                         28                       -   \n23                          -                    39.3   \n24                      31.58                   31.58   \n\n                       Bonus DPS  Attack Mod     Cooldown               Speed  \\\n0                              -           -         1.07                3.94   \n1                              -           -            -                3.94   \n2                              -           -  0.61 (0.40)        3.15 (+1.57)   \n3                  +9.3, +14.1 A           P  1.07 (0.71)        3.15 (+1.57)   \n4                              -           -         0.79                5.25   \n5                 +9.3 (+0.93) L           -         1.07                3.94   \n6   +3.4 (+0.56), 6.16 (+0.56) L           L         1.79                5.95   \n7        +0 (+0.7), 8.4 (+0.7) L           S         1.43                3.15   \n8                              -           S           29                3.94   \n9                +13.5 (+1.35) A           -         0.74                3.15   \n10              +14.02 (+0.87) A           S         2.14                   -   \n11                             -           P         0.71                4.72   \n12           +11.2 (+1.87) L Air  S, P (Air)   0.91, 2.14                2.62   \n13           +11.0 (+1.1) Ma Air     P (Air)         0.91                2.62   \n14                       +5.59 A           P         1.43                3.85   \n15               +11.3 (+1.41) M           -         0.71                3.15   \n16                             -           -            -  3.5 (0.63) (+2.44)   \n17                             -           P         1.29                4.72   \n18                             -           -         1.14                   -   \n19                             -           P         0.89         3.85 (+1.4)   \n20                             -           -            -                4.13   \n21                             -           -         0.16                2.62   \n22                             -           S         1.43                   -   \n23                             -           -         0.61                   -   \n24                             -           -         0.57                   -   \n\n        Range    Sight  \n0           M        8  \n1           -        8  \n2           5        9  \n3           6       10  \n4           5        9  \n5           6       11  \n6           5       10  \n7           2       10  \n8           5        7  \n9           7       11  \n10         13       11  \n11          5       11  \n12  7, 10 Air       11  \n13  7, 11 Air       11  \n14          9       10  \n15          6       10  \n16          -       11  \n17          5       10  \n18    10 (+3)  10 (+3)  \n19          6       10  \n20          -       11  \n21          6       12  \n22     6 (+1)       11  \n23     7 (+1)       11  \n24     6 (+1)        7  \n\n[25 rows x 21 columns]",
      "text/html": "<div>\n<style scoped>\n    .dataframe tbody tr th:only-of-type {\n        vertical-align: middle;\n    }\n\n    .dataframe tbody tr th {\n        vertical-align: top;\n    }\n\n    .dataframe thead th {\n        text-align: right;\n    }\n</style>\n<table border=\"1\" class=\"dataframe\">\n  <thead>\n    <tr style=\"text-align: right;\">\n      <th></th>\n      <th>Unit name</th>\n      <th>Supply</th>\n      <th>Minerals</th>\n      <th>Gas</th>\n      <th>Game speed</th>\n      <th>Size</th>\n      <th>Cargo</th>\n      <th>Armor</th>\n      <th>Hit Points</th>\n      <th>Attributes</th>\n      <th>...</th>\n      <th>Air Attack</th>\n      <th>Bonus</th>\n      <th>Ground DPS</th>\n      <th>Air DPS</th>\n      <th>Bonus DPS</th>\n      <th>Attack Mod</th>\n      <th>Cooldown</th>\n      <th>Speed</th>\n      <th>Range</th>\n      <th>Sight</th>\n    </tr>\n  </thead>\n  <tbody>\n    <tr>\n      <th>0</th>\n      <td>SCV</td>\n      <td>1</td>\n      <td>50</td>\n      <td>0</td>\n      <td>12</td>\n      <td>0.75</td>\n      <td>1</td>\n      <td>0 (+1)</td>\n      <td>45</td>\n      <td>L, B, M</td>\n      <td>...</td>\n      <td>-</td>\n      <td>-</td>\n      <td>4.7</td>\n      <td>-</td>\n      <td>-</td>\n      <td>-</td>\n      <td>1.07</td>\n      <td>3.94</td>\n      <td>M</td>\n      <td>8</td>\n    </tr>\n    <tr>\n      <th>1</th>\n      <td>MULE</td>\n      <td>-</td>\n      <td>-</td>\n      <td>-</td>\n      <td>-</td>\n      <td>0.75</td>\n      <td>-</td>\n      <td>0 (+1)</td>\n      <td>60</td>\n      <td>L, M</td>\n      <td>...</td>\n      <td>-</td>\n      <td>-</td>\n      <td>-</td>\n      <td>-</td>\n      <td>-</td>\n      <td>-</td>\n      <td>-</td>\n      <td>3.94</td>\n      <td>-</td>\n      <td>8</td>\n    </tr>\n    <tr>\n      <th>2</th>\n      <td>Marine</td>\n      <td>1</td>\n      <td>50</td>\n      <td>0</td>\n      <td>18</td>\n      <td>0.75</td>\n      <td>1</td>\n      <td>0 (+1)</td>\n      <td>45 (+10)</td>\n      <td>L, B</td>\n      <td>...</td>\n      <td>6 (+1)</td>\n      <td>-</td>\n      <td>9.8 (+1.64), 15 (+2.5)</td>\n      <td>9.8 (+1.64), 15 (+2.5)</td>\n      <td>-</td>\n      <td>-</td>\n      <td>0.61 (0.40)</td>\n      <td>3.15 (+1.57)</td>\n      <td>5</td>\n      <td>9</td>\n    </tr>\n    <tr>\n      <th>3</th>\n      <td>Marauder</td>\n      <td>2</td>\n      <td>100</td>\n      <td>25</td>\n      <td>21</td>\n      <td>1.125</td>\n      <td>2</td>\n      <td>1 (+1)</td>\n      <td>125</td>\n      <td>A, B</td>\n      <td>...</td>\n      <td>-</td>\n      <td>+5 A</td>\n      <td>9.3 (+1.87), 14.1 (+2.82)</td>\n      <td>-</td>\n      <td>+9.3, +14.1 A</td>\n      <td>P</td>\n      <td>1.07 (0.71)</td>\n      <td>3.15 (+1.57)</td>\n      <td>6</td>\n      <td>10</td>\n    </tr>\n    <tr>\n      <th>4</th>\n      <td>Reaper</td>\n      <td>1</td>\n      <td>50</td>\n      <td>50</td>\n      <td>32</td>\n      <td>0.75</td>\n      <td>1</td>\n      <td>0 (+1)</td>\n      <td>60</td>\n      <td>L, B</td>\n      <td>...</td>\n      <td>-</td>\n      <td>-</td>\n      <td>10.1 (+2.53)</td>\n      <td>-</td>\n      <td>-</td>\n      <td>-</td>\n      <td>0.79</td>\n      <td>5.25</td>\n      <td>5</td>\n      <td>9</td>\n    </tr>\n    <tr>\n      <th>5</th>\n      <td>Ghost</td>\n      <td>2</td>\n      <td>150</td>\n      <td>125</td>\n      <td>29</td>\n      <td>0.75</td>\n      <td>2</td>\n      <td>0 (+1)</td>\n      <td>100</td>\n      <td>B, P</td>\n      <td>...</td>\n      <td>10 (+1)</td>\n      <td>+10 (+1) L</td>\n      <td>9.3 (+0.93)</td>\n      <td>9.3 (+0.93)</td>\n      <td>+9.3 (+0.93) L</td>\n      <td>-</td>\n      <td>1.07</td>\n      <td>3.94</td>\n      <td>6</td>\n      <td>11</td>\n    </tr>\n    <tr>\n      <th>6</th>\n      <td>Hellion</td>\n      <td>2</td>\n      <td>100</td>\n      <td>0</td>\n      <td>21</td>\n      <td>1.25</td>\n      <td>2</td>\n      <td>0 (+1)</td>\n      <td>90</td>\n      <td>L, M</td>\n      <td>...</td>\n      <td>-</td>\n      <td>+6 (+1), +11 L</td>\n      <td>4.5 (+0.56)</td>\n      <td>-</td>\n      <td>+3.4 (+0.56), 6.16 (+0.56) L</td>\n      <td>L</td>\n      <td>1.79</td>\n      <td>5.95</td>\n      <td>5</td>\n      <td>10</td>\n    </tr>\n    <tr>\n      <th>7</th>\n      <td>Hellbat</td>\n      <td>2</td>\n      <td>100</td>\n      <td>0</td>\n      <td>21</td>\n      <td>1.25</td>\n      <td>4</td>\n      <td>0 (+1)</td>\n      <td>135</td>\n      <td>L, B, M</td>\n      <td>...</td>\n      <td>-</td>\n      <td>+0 (+1), +12 L</td>\n      <td>12.6 (+1.4)</td>\n      <td>-</td>\n      <td>+0 (+0.7), 8.4 (+0.7) L</td>\n      <td>S</td>\n      <td>1.43</td>\n      <td>3.15</td>\n      <td>2</td>\n      <td>10</td>\n    </tr>\n    <tr>\n      <th>8</th>\n      <td>Widow Mine</td>\n      <td>2</td>\n      <td>75</td>\n      <td>25</td>\n      <td>21</td>\n      <td>1</td>\n      <td>2</td>\n      <td>0 (+1)</td>\n      <td>90</td>\n      <td>L, M</td>\n      <td>...</td>\n      <td>-</td>\n      <td>+35 Shield</td>\n      <td>-</td>\n      <td>-</td>\n      <td>-</td>\n      <td>S</td>\n      <td>29</td>\n      <td>3.94</td>\n      <td>5</td>\n      <td>7</td>\n    </tr>\n    <tr>\n      <th>9</th>\n      <td>Siege Tank tm</td>\n      <td>3</td>\n      <td>150</td>\n      <td>125</td>\n      <td>32</td>\n      <td>1.75</td>\n      <td>4</td>\n      <td>1 (+1)</td>\n      <td>175</td>\n      <td>A, M</td>\n      <td>...</td>\n      <td>-</td>\n      <td>+10 (+1) A</td>\n      <td>20.3 (+2.7)</td>\n      <td>-</td>\n      <td>+13.5 (+1.35) A</td>\n      <td>-</td>\n      <td>0.74</td>\n      <td>3.15</td>\n      <td>7</td>\n      <td>11</td>\n    </tr>\n    <tr>\n      <th>10</th>\n      <td>Siege Tank sm</td>\n      <td>3</td>\n      <td>150</td>\n      <td>125</td>\n      <td>32</td>\n      <td>1.75</td>\n      <td>8</td>\n      <td>1 (+1)</td>\n      <td>175</td>\n      <td>A, M</td>\n      <td>...</td>\n      <td>-</td>\n      <td>30 (+1) A</td>\n      <td>18.69 (+2.6)</td>\n      <td>-</td>\n      <td>+14.02 (+0.87) A</td>\n      <td>S</td>\n      <td>2.14</td>\n      <td>-</td>\n      <td>13</td>\n      <td>11</td>\n    </tr>\n    <tr>\n      <th>11</th>\n      <td>Cyclone</td>\n      <td>3</td>\n      <td>150</td>\n      <td>100</td>\n      <td>32</td>\n      <td>1.5</td>\n      <td>3</td>\n      <td>1 (+1)</td>\n      <td>120</td>\n      <td>A, M</td>\n      <td>...</td>\n      <td>18 (+2)</td>\n      <td>-</td>\n      <td>25.2 (+2.8)</td>\n      <td>25.2 (+2.8)</td>\n      <td>-</td>\n      <td>P</td>\n      <td>0.71</td>\n      <td>4.72</td>\n      <td>5</td>\n      <td>11</td>\n    </tr>\n    <tr>\n      <th>12</th>\n      <td>Thor (Explosive)</td>\n      <td>6</td>\n      <td>300</td>\n      <td>200</td>\n      <td>43</td>\n      <td>2</td>\n      <td>8</td>\n      <td>1 (+1)</td>\n      <td>400</td>\n      <td>A, M, Ma</td>\n      <td>...</td>\n      <td>6 (+1) (x4)</td>\n      <td>+6 (+1) L Air</td>\n      <td>65.9 (+6.59)</td>\n      <td>11.2 (+1.87)</td>\n      <td>+11.2 (+1.87) L Air</td>\n      <td>S, P (Air)</td>\n      <td>0.91, 2.14</td>\n      <td>2.62</td>\n      <td>7, 10 Air</td>\n      <td>11</td>\n    </tr>\n    <tr>\n      <th>13</th>\n      <td>Thor (High Impact)</td>\n      <td>6</td>\n      <td>300</td>\n      <td>200</td>\n      <td>43</td>\n      <td>2</td>\n      <td>8</td>\n      <td>1 (+1)</td>\n      <td>400</td>\n      <td>A, M, Ma</td>\n      <td>...</td>\n      <td>25 (+4)</td>\n      <td>+10 (+1) Ma Air</td>\n      <td>65.9 (+6.59)</td>\n      <td>27.5 (+3.3)</td>\n      <td>+11.0 (+1.1) Ma Air</td>\n      <td>P (Air)</td>\n      <td>0.91</td>\n      <td>2.62</td>\n      <td>7, 11 Air</td>\n      <td>11</td>\n    </tr>\n    <tr>\n      <th>14</th>\n      <td>Viking fm</td>\n      <td>2</td>\n      <td>150</td>\n      <td>75</td>\n      <td>30</td>\n      <td>1.5</td>\n      <td>-</td>\n      <td>0 (+1)</td>\n      <td>125</td>\n      <td>A, M</td>\n      <td>...</td>\n      <td>10 (+1) x2</td>\n      <td>+4 A</td>\n      <td>-</td>\n      <td>14 (+1.4)</td>\n      <td>+5.59 A</td>\n      <td>P</td>\n      <td>1.43</td>\n      <td>3.85</td>\n      <td>9</td>\n      <td>10</td>\n    </tr>\n    <tr>\n      <th>15</th>\n      <td>Viking am</td>\n      <td>2</td>\n      <td>150</td>\n      <td>75</td>\n      <td>30</td>\n      <td>1.5</td>\n      <td>2</td>\n      <td>0 (+1)</td>\n      <td>125</td>\n      <td>A, M</td>\n      <td>...</td>\n      <td>-</td>\n      <td>+8 (+1) M</td>\n      <td>16.9 (+1.41)</td>\n      <td>-</td>\n      <td>+11.3 (+1.41) M</td>\n      <td>-</td>\n      <td>0.71</td>\n      <td>3.15</td>\n      <td>6</td>\n      <td>10</td>\n    </tr>\n    <tr>\n      <th>16</th>\n      <td>Medivac</td>\n      <td>2</td>\n      <td>100</td>\n      <td>100</td>\n      <td>30</td>\n      <td>1.5</td>\n      <td>-</td>\n      <td>1 (+1)</td>\n      <td>150</td>\n      <td>A, M</td>\n      <td>...</td>\n      <td>-</td>\n      <td>-</td>\n      <td>-</td>\n      <td>-</td>\n      <td>-</td>\n      <td>-</td>\n      <td>-</td>\n      <td>3.5 (0.63) (+2.44)</td>\n      <td>-</td>\n      <td>11</td>\n    </tr>\n    <tr>\n      <th>17</th>\n      <td>Liberator fm</td>\n      <td>3</td>\n      <td>150</td>\n      <td>150</td>\n      <td>43</td>\n      <td>1.5</td>\n      <td>-</td>\n      <td>0 (+1)</td>\n      <td>180</td>\n      <td>A, M</td>\n      <td>...</td>\n      <td>5 (+1) x2</td>\n      <td>-</td>\n      <td>-</td>\n      <td>7.75 (+1.55)</td>\n      <td>-</td>\n      <td>P</td>\n      <td>1.29</td>\n      <td>4.72</td>\n      <td>5</td>\n      <td>10</td>\n    </tr>\n    <tr>\n      <th>18</th>\n      <td>Liberator dm</td>\n      <td>3</td>\n      <td>150</td>\n      <td>150</td>\n      <td>43</td>\n      <td>1.5</td>\n      <td>-</td>\n      <td>0 (+1)</td>\n      <td>180</td>\n      <td>A, M</td>\n      <td>...</td>\n      <td>-</td>\n      <td>-</td>\n      <td>65.8 (+4.39)</td>\n      <td>-</td>\n      <td>-</td>\n      <td>-</td>\n      <td>1.14</td>\n      <td>-</td>\n      <td>10 (+3)</td>\n      <td>10 (+3)</td>\n    </tr>\n    <tr>\n      <th>19</th>\n      <td>Banshee</td>\n      <td>3</td>\n      <td>150</td>\n      <td>100</td>\n      <td>43</td>\n      <td>1.5</td>\n      <td>-</td>\n      <td>0 (+1)</td>\n      <td>140</td>\n      <td>L, M</td>\n      <td>...</td>\n      <td>-</td>\n      <td>-</td>\n      <td>27 (+2.25)</td>\n      <td>-</td>\n      <td>-</td>\n      <td>P</td>\n      <td>0.89</td>\n      <td>3.85 (+1.4)</td>\n      <td>6</td>\n      <td>10</td>\n    </tr>\n    <tr>\n      <th>20</th>\n      <td>Raven</td>\n      <td>2</td>\n      <td>100</td>\n      <td>200</td>\n      <td>43</td>\n      <td>1.25</td>\n      <td>-</td>\n      <td>1 (+1)</td>\n      <td>140</td>\n      <td>L, M</td>\n      <td>...</td>\n      <td>-</td>\n      <td>-</td>\n      <td>-</td>\n      <td>-</td>\n      <td>-</td>\n      <td>-</td>\n      <td>-</td>\n      <td>4.13</td>\n      <td>-</td>\n      <td>11</td>\n    </tr>\n    <tr>\n      <th>21</th>\n      <td>Battlecruiser</td>\n      <td>6</td>\n      <td>400</td>\n      <td>300</td>\n      <td>64</td>\n      <td>2.5</td>\n      <td>-</td>\n      <td>3 (+1)</td>\n      <td>550</td>\n      <td>A, M, Ma</td>\n      <td>...</td>\n      <td>5 (+1)</td>\n      <td>-</td>\n      <td>50 (+6.25)</td>\n      <td>31.25 (+6.25)</td>\n      <td>-</td>\n      <td>-</td>\n      <td>0.16</td>\n      <td>2.62</td>\n      <td>6</td>\n      <td>12</td>\n    </tr>\n    <tr>\n      <th>22</th>\n      <td>Planetary Fortress</td>\n      <td>-</td>\n      <td>150</td>\n      <td>150</td>\n      <td>36</td>\n      <td>5x5</td>\n      <td>-</td>\n      <td>3 (+2)</td>\n      <td>1500</td>\n      <td>A, M, S</td>\n      <td>...</td>\n      <td>-</td>\n      <td>-</td>\n      <td>28</td>\n      <td>-</td>\n      <td>-</td>\n      <td>S</td>\n      <td>1.43</td>\n      <td>-</td>\n      <td>6 (+1)</td>\n      <td>11</td>\n    </tr>\n    <tr>\n      <th>23</th>\n      <td>Missile Turret</td>\n      <td>-</td>\n      <td>100</td>\n      <td>0</td>\n      <td>18</td>\n      <td>2x2</td>\n      <td>-</td>\n      <td>0 (+2)</td>\n      <td>250</td>\n      <td>A, M, S</td>\n      <td>...</td>\n      <td>12 x2</td>\n      <td>-</td>\n      <td>-</td>\n      <td>39.3</td>\n      <td>-</td>\n      <td>-</td>\n      <td>0.61</td>\n      <td>-</td>\n      <td>7 (+1)</td>\n      <td>11</td>\n    </tr>\n    <tr>\n      <th>24</th>\n      <td>Auto-Turret</td>\n      <td>-</td>\n      <td>-</td>\n      <td>-</td>\n      <td>-</td>\n      <td>2x2</td>\n      <td>-</td>\n      <td>1 (+2)</td>\n      <td>150</td>\n      <td>A, M, S</td>\n      <td>...</td>\n      <td>18</td>\n      <td>-</td>\n      <td>31.58</td>\n      <td>31.58</td>\n      <td>-</td>\n      <td>-</td>\n      <td>0.57</td>\n      <td>-</td>\n      <td>6 (+1)</td>\n      <td>7</td>\n    </tr>\n  </tbody>\n</table>\n<p>25 rows × 21 columns</p>\n</div>"
     },
     "execution_count": 5,
     "metadata": {},
     "output_type": "execute_result"
    }
   ],
   "source": [
    "terran_units"
   ],
   "metadata": {
    "collapsed": false,
    "pycharm": {
     "name": "#%%\n"
    }
   }
  },
  {
   "cell_type": "markdown",
   "metadata": {
    "collapsed": true,
    "pycharm": {
     "name": "#%% md\n"
    }
   },
   "source": [
    "### Union of all units\n",
    "Trying to combine all units from three different races, which are stored in threee differrent tables in the database.\n",
    "\n",
    "While most columns are the same, a few columns are unique for Zerg and Protoss, we will see whether it will work."
   ]
  },
  {
   "cell_type": "code",
   "execution_count": 6,
   "outputs": [
    {
     "ename": "DatabaseError",
     "evalue": "Execution failed on sql 'select * from terran_units union select * from protoss_units': SELECTs to the left and right of UNION do not have the same number of result columns",
     "output_type": "error",
     "traceback": [
      "\u001B[0;31m---------------------------------------------------------------------------\u001B[0m",
      "\u001B[0;31mOperationalError\u001B[0m                          Traceback (most recent call last)",
      "\u001B[0;32m~/mambaforge/envs/nlp/lib/python3.9/site-packages/pandas/io/sql.py\u001B[0m in \u001B[0;36mexecute\u001B[0;34m(self, *args, **kwargs)\u001B[0m\n\u001B[1;32m   2055\u001B[0m         \u001B[0;32mtry\u001B[0m\u001B[0;34m:\u001B[0m\u001B[0;34m\u001B[0m\u001B[0;34m\u001B[0m\u001B[0m\n\u001B[0;32m-> 2056\u001B[0;31m             \u001B[0mcur\u001B[0m\u001B[0;34m.\u001B[0m\u001B[0mexecute\u001B[0m\u001B[0;34m(\u001B[0m\u001B[0;34m*\u001B[0m\u001B[0margs\u001B[0m\u001B[0;34m,\u001B[0m \u001B[0;34m**\u001B[0m\u001B[0mkwargs\u001B[0m\u001B[0;34m)\u001B[0m\u001B[0;34m\u001B[0m\u001B[0;34m\u001B[0m\u001B[0m\n\u001B[0m\u001B[1;32m   2057\u001B[0m             \u001B[0;32mreturn\u001B[0m \u001B[0mcur\u001B[0m\u001B[0;34m\u001B[0m\u001B[0;34m\u001B[0m\u001B[0m\n",
      "\u001B[0;31mOperationalError\u001B[0m: SELECTs to the left and right of UNION do not have the same number of result columns",
      "\nThe above exception was the direct cause of the following exception:\n",
      "\u001B[0;31mDatabaseError\u001B[0m                             Traceback (most recent call last)",
      "\u001B[0;32m/tmp/ipykernel_136104/2918462224.py\u001B[0m in \u001B[0;36m<module>\u001B[0;34m\u001B[0m\n\u001B[0;32m----> 1\u001B[0;31m \u001B[0munion_all_units\u001B[0m \u001B[0;34m=\u001B[0m \u001B[0mpd\u001B[0m\u001B[0;34m.\u001B[0m\u001B[0mread_sql\u001B[0m\u001B[0;34m(\u001B[0m\u001B[0;34m\"select * from terran_units union select * from protoss_units\"\u001B[0m\u001B[0;34m,\u001B[0m \u001B[0mconn\u001B[0m\u001B[0;34m)\u001B[0m\u001B[0;34m\u001B[0m\u001B[0;34m\u001B[0m\u001B[0m\n\u001B[0m",
      "\u001B[0;32m~/mambaforge/envs/nlp/lib/python3.9/site-packages/pandas/io/sql.py\u001B[0m in \u001B[0;36mread_sql\u001B[0;34m(sql, con, index_col, coerce_float, params, parse_dates, columns, chunksize)\u001B[0m\n\u001B[1;32m    600\u001B[0m \u001B[0;34m\u001B[0m\u001B[0m\n\u001B[1;32m    601\u001B[0m     \u001B[0;32mif\u001B[0m \u001B[0misinstance\u001B[0m\u001B[0;34m(\u001B[0m\u001B[0mpandas_sql\u001B[0m\u001B[0;34m,\u001B[0m \u001B[0mSQLiteDatabase\u001B[0m\u001B[0;34m)\u001B[0m\u001B[0;34m:\u001B[0m\u001B[0;34m\u001B[0m\u001B[0;34m\u001B[0m\u001B[0m\n\u001B[0;32m--> 602\u001B[0;31m         return pandas_sql.read_query(\n\u001B[0m\u001B[1;32m    603\u001B[0m             \u001B[0msql\u001B[0m\u001B[0;34m,\u001B[0m\u001B[0;34m\u001B[0m\u001B[0;34m\u001B[0m\u001B[0m\n\u001B[1;32m    604\u001B[0m             \u001B[0mindex_col\u001B[0m\u001B[0;34m=\u001B[0m\u001B[0mindex_col\u001B[0m\u001B[0;34m,\u001B[0m\u001B[0;34m\u001B[0m\u001B[0;34m\u001B[0m\u001B[0m\n",
      "\u001B[0;32m~/mambaforge/envs/nlp/lib/python3.9/site-packages/pandas/io/sql.py\u001B[0m in \u001B[0;36mread_query\u001B[0;34m(self, sql, index_col, coerce_float, params, parse_dates, chunksize, dtype)\u001B[0m\n\u001B[1;32m   2114\u001B[0m \u001B[0;34m\u001B[0m\u001B[0m\n\u001B[1;32m   2115\u001B[0m         \u001B[0margs\u001B[0m \u001B[0;34m=\u001B[0m \u001B[0m_convert_params\u001B[0m\u001B[0;34m(\u001B[0m\u001B[0msql\u001B[0m\u001B[0;34m,\u001B[0m \u001B[0mparams\u001B[0m\u001B[0;34m)\u001B[0m\u001B[0;34m\u001B[0m\u001B[0;34m\u001B[0m\u001B[0m\n\u001B[0;32m-> 2116\u001B[0;31m         \u001B[0mcursor\u001B[0m \u001B[0;34m=\u001B[0m \u001B[0mself\u001B[0m\u001B[0;34m.\u001B[0m\u001B[0mexecute\u001B[0m\u001B[0;34m(\u001B[0m\u001B[0;34m*\u001B[0m\u001B[0margs\u001B[0m\u001B[0;34m)\u001B[0m\u001B[0;34m\u001B[0m\u001B[0;34m\u001B[0m\u001B[0m\n\u001B[0m\u001B[1;32m   2117\u001B[0m         \u001B[0mcolumns\u001B[0m \u001B[0;34m=\u001B[0m \u001B[0;34m[\u001B[0m\u001B[0mcol_desc\u001B[0m\u001B[0;34m[\u001B[0m\u001B[0;36m0\u001B[0m\u001B[0;34m]\u001B[0m \u001B[0;32mfor\u001B[0m \u001B[0mcol_desc\u001B[0m \u001B[0;32min\u001B[0m \u001B[0mcursor\u001B[0m\u001B[0;34m.\u001B[0m\u001B[0mdescription\u001B[0m\u001B[0;34m]\u001B[0m\u001B[0;34m\u001B[0m\u001B[0;34m\u001B[0m\u001B[0m\n\u001B[1;32m   2118\u001B[0m \u001B[0;34m\u001B[0m\u001B[0m\n",
      "\u001B[0;32m~/mambaforge/envs/nlp/lib/python3.9/site-packages/pandas/io/sql.py\u001B[0m in \u001B[0;36mexecute\u001B[0;34m(self, *args, **kwargs)\u001B[0m\n\u001B[1;32m   2066\u001B[0m \u001B[0;34m\u001B[0m\u001B[0m\n\u001B[1;32m   2067\u001B[0m             \u001B[0mex\u001B[0m \u001B[0;34m=\u001B[0m \u001B[0mDatabaseError\u001B[0m\u001B[0;34m(\u001B[0m\u001B[0;34mf\"Execution failed on sql '{args[0]}': {exc}\"\u001B[0m\u001B[0;34m)\u001B[0m\u001B[0;34m\u001B[0m\u001B[0;34m\u001B[0m\u001B[0m\n\u001B[0;32m-> 2068\u001B[0;31m             \u001B[0;32mraise\u001B[0m \u001B[0mex\u001B[0m \u001B[0;32mfrom\u001B[0m \u001B[0mexc\u001B[0m\u001B[0;34m\u001B[0m\u001B[0;34m\u001B[0m\u001B[0m\n\u001B[0m\u001B[1;32m   2069\u001B[0m \u001B[0;34m\u001B[0m\u001B[0m\n\u001B[1;32m   2070\u001B[0m     \u001B[0;34m@\u001B[0m\u001B[0mstaticmethod\u001B[0m\u001B[0;34m\u001B[0m\u001B[0;34m\u001B[0m\u001B[0m\n",
      "\u001B[0;31mDatabaseError\u001B[0m: Execution failed on sql 'select * from terran_units union select * from protoss_units': SELECTs to the left and right of UNION do not have the same number of result columns"
     ]
    }
   ],
   "source": [
    "union_all_units = pd.read_sql(\"select * from terran_units union select * from protoss_units\", conn)"
   ],
   "metadata": {
    "collapsed": false,
    "pycharm": {
     "name": "#%%\n"
    }
   }
  },
  {
   "cell_type": "markdown",
   "source": [
    "Let's list columns and select relevant columns from each table, that also are common between tables to do a UNION."
   ],
   "metadata": {
    "collapsed": false,
    "pycharm": {
     "name": "#%% md\n"
    }
   }
  },
  {
   "cell_type": "code",
   "execution_count": 19,
   "outputs": [
    {
     "data": {
      "text/plain": "['Unit name', 'Supply', 'Minerals', 'Gas', 'Game speed', 'Size', 'Cargo', 'Armor', 'Hit Points', 'Attributes', 'Ground Attack', 'Air Attack', 'Bonus', 'Ground DPS', 'Air DPS', 'Bonus DPS', 'Attack Mod', 'Cooldown', 'Speed', 'Range', 'Sight']"
     },
     "execution_count": 19,
     "metadata": {},
     "output_type": "execute_result"
    }
   ],
   "source": [
    "terran_units.columns.values.tolist()"
   ],
   "metadata": {
    "collapsed": false,
    "pycharm": {
     "name": "#%%\n"
    }
   }
  },
  {
   "cell_type": "code",
   "execution_count": 21,
   "outputs": [],
   "source": [
    "# getting into zerg data and diplaying it using pandas\n",
    "zerg_units = pd.read_sql(\"select * from zerg_units\", conn)"
   ],
   "metadata": {
    "collapsed": false,
    "pycharm": {
     "name": "#%%\n"
    }
   }
  },
  {
   "cell_type": "code",
   "execution_count": 22,
   "outputs": [
    {
     "data": {
      "text/plain": "['Unit name', 'Supply', 'Minerals', 'Gas', 'Game speed', 'Size', 'Cargo', 'Armor', 'Hit Points', 'Attributes', 'Ground Attack', 'Air Attack', 'Bonus', 'Ground DPS', 'Air DPS', 'Bonus DPS', 'Attack Mod', 'Cooldown', 'Speed', 'Creep Bonus', 'Range', 'Sight']"
     },
     "execution_count": 22,
     "metadata": {},
     "output_type": "execute_result"
    }
   ],
   "source": [
    "zerg_units.columns.values.tolist()"
   ],
   "metadata": {
    "collapsed": false,
    "pycharm": {
     "name": "#%%\n"
    }
   }
  },
  {
   "cell_type": "code",
   "execution_count": 24,
   "outputs": [],
   "source": [
    "# getting into protoss data and diplaying it using pandas\n",
    "protoss_units = pd.read_sql(\"select * from protoss_units\", conn)"
   ],
   "metadata": {
    "collapsed": false,
    "pycharm": {
     "name": "#%%\n"
    }
   }
  },
  {
   "cell_type": "code",
   "execution_count": 25,
   "outputs": [
    {
     "data": {
      "text/plain": "['Unit name', 'Supply', 'Minerals', 'Gas', 'Game speed / Warp Gate', 'Size', 'Cargo', 'Armor', 'Hit Points', 'Plasma Shield', 'Attributes', 'Ground Attack', 'Air Attack', 'Bonus', 'Ground DPS', 'Air DPS', 'Bonus DPS', 'Attack Mod', 'Cooldown', 'Speed', 'Range', 'Sight']"
     },
     "execution_count": 25,
     "metadata": {},
     "output_type": "execute_result"
    }
   ],
   "source": [
    "protoss_units.columns.values.tolist()"
   ],
   "metadata": {
    "collapsed": false,
    "pycharm": {
     "name": "#%%\n"
    }
   }
  },
  {
   "cell_type": "code",
   "execution_count": 26,
   "outputs": [],
   "source": [
    "intersection = list(set(terran_units) & set(zerg_units) & set(protoss_units))"
   ],
   "metadata": {
    "collapsed": false,
    "pycharm": {
     "name": "#%%\n"
    }
   }
  },
  {
   "cell_type": "code",
   "execution_count": 27,
   "outputs": [
    {
     "data": {
      "text/plain": "['Sight', 'Cargo', 'Unit name', 'Supply', 'Size', 'Armor', 'Air DPS', 'Air Attack', 'Ground Attack', 'Bonus', 'Ground DPS', 'Speed', 'Hit Points', 'Cooldown', 'Attack Mod', 'Bonus DPS', 'Attributes', 'Gas', 'Minerals', 'Range']"
     },
     "execution_count": 27,
     "metadata": {},
     "output_type": "execute_result"
    }
   ],
   "source": [
    "intersection"
   ],
   "metadata": {
    "collapsed": false,
    "pycharm": {
     "name": "#%%\n"
    }
   }
  },
  {
   "cell_type": "code",
   "execution_count": 29,
   "outputs": [],
   "source": [
    "relevant_columns = ['Unit name', 'Air DPS']"
   ],
   "metadata": {
    "collapsed": false,
    "pycharm": {
     "name": "#%%\n"
    }
   }
  },
  {
   "cell_type": "code",
   "execution_count": 36,
   "outputs": [],
   "source": [
    "str_ = str(relevant_columns)"
   ],
   "metadata": {
    "collapsed": false,
    "pycharm": {
     "name": "#%%\n"
    }
   }
  },
  {
   "cell_type": "code",
   "execution_count": 39,
   "outputs": [
    {
     "name": "stdout",
     "output_type": "stream",
     "text": [
      "['Unit name', 'Air DPS']\n"
     ]
    }
   ],
   "source": [
    "print(str_)"
   ],
   "metadata": {
    "collapsed": false,
    "pycharm": {
     "name": "#%%\n"
    }
   }
  },
  {
   "cell_type": "code",
   "execution_count": 40,
   "outputs": [
    {
     "data": {
      "text/plain": "\"'Unit name', 'Air DPS'\""
     },
     "execution_count": 40,
     "metadata": {},
     "output_type": "execute_result"
    }
   ],
   "source": [
    "str_rel_col = str(relevant_columns)\n",
    "str_rel_col = str_rel_col[1:-1]\n",
    "str_rel_col"
   ],
   "metadata": {
    "collapsed": false,
    "pycharm": {
     "name": "#%%\n"
    }
   }
  },
  {
   "cell_type": "code",
   "execution_count": 43,
   "outputs": [],
   "source": [
    "union_all_units = pd.read_sql(\"select 'Unit name', 'Air DPS' from terran_units union select 'Unit name', 'Air DPS' from protoss_units\", conn)"
   ],
   "metadata": {
    "collapsed": false,
    "pycharm": {
     "name": "#%%\n"
    }
   }
  },
  {
   "cell_type": "code",
   "execution_count": 44,
   "outputs": [
    {
     "data": {
      "text/plain": "  'Unit name' 'Air DPS'\n0   Unit name   Air DPS",
      "text/html": "<div>\n<style scoped>\n    .dataframe tbody tr th:only-of-type {\n        vertical-align: middle;\n    }\n\n    .dataframe tbody tr th {\n        vertical-align: top;\n    }\n\n    .dataframe thead th {\n        text-align: right;\n    }\n</style>\n<table border=\"1\" class=\"dataframe\">\n  <thead>\n    <tr style=\"text-align: right;\">\n      <th></th>\n      <th>'Unit name'</th>\n      <th>'Air DPS'</th>\n    </tr>\n  </thead>\n  <tbody>\n    <tr>\n      <th>0</th>\n      <td>Unit name</td>\n      <td>Air DPS</td>\n    </tr>\n  </tbody>\n</table>\n</div>"
     },
     "execution_count": 44,
     "metadata": {},
     "output_type": "execute_result"
    }
   ],
   "source": [
    "union_all_units"
   ],
   "metadata": {
    "collapsed": false,
    "pycharm": {
     "name": "#%%\n"
    }
   }
  },
  {
   "cell_type": "code",
   "execution_count": 45,
   "outputs": [],
   "source": [
    "union_all_units = pd.read_sql(\"select 'Unit name', 'Air DPS' from terran_units\", conn)"
   ],
   "metadata": {
    "collapsed": false,
    "pycharm": {
     "name": "#%%\n"
    }
   }
  },
  {
   "cell_type": "code",
   "execution_count": 46,
   "outputs": [
    {
     "data": {
      "text/plain": "   'Unit name' 'Air DPS'\n0    Unit name   Air DPS\n1    Unit name   Air DPS\n2    Unit name   Air DPS\n3    Unit name   Air DPS\n4    Unit name   Air DPS\n5    Unit name   Air DPS\n6    Unit name   Air DPS\n7    Unit name   Air DPS\n8    Unit name   Air DPS\n9    Unit name   Air DPS\n10   Unit name   Air DPS\n11   Unit name   Air DPS\n12   Unit name   Air DPS\n13   Unit name   Air DPS\n14   Unit name   Air DPS\n15   Unit name   Air DPS\n16   Unit name   Air DPS\n17   Unit name   Air DPS\n18   Unit name   Air DPS\n19   Unit name   Air DPS\n20   Unit name   Air DPS\n21   Unit name   Air DPS\n22   Unit name   Air DPS\n23   Unit name   Air DPS\n24   Unit name   Air DPS",
      "text/html": "<div>\n<style scoped>\n    .dataframe tbody tr th:only-of-type {\n        vertical-align: middle;\n    }\n\n    .dataframe tbody tr th {\n        vertical-align: top;\n    }\n\n    .dataframe thead th {\n        text-align: right;\n    }\n</style>\n<table border=\"1\" class=\"dataframe\">\n  <thead>\n    <tr style=\"text-align: right;\">\n      <th></th>\n      <th>'Unit name'</th>\n      <th>'Air DPS'</th>\n    </tr>\n  </thead>\n  <tbody>\n    <tr>\n      <th>0</th>\n      <td>Unit name</td>\n      <td>Air DPS</td>\n    </tr>\n    <tr>\n      <th>1</th>\n      <td>Unit name</td>\n      <td>Air DPS</td>\n    </tr>\n    <tr>\n      <th>2</th>\n      <td>Unit name</td>\n      <td>Air DPS</td>\n    </tr>\n    <tr>\n      <th>3</th>\n      <td>Unit name</td>\n      <td>Air DPS</td>\n    </tr>\n    <tr>\n      <th>4</th>\n      <td>Unit name</td>\n      <td>Air DPS</td>\n    </tr>\n    <tr>\n      <th>5</th>\n      <td>Unit name</td>\n      <td>Air DPS</td>\n    </tr>\n    <tr>\n      <th>6</th>\n      <td>Unit name</td>\n      <td>Air DPS</td>\n    </tr>\n    <tr>\n      <th>7</th>\n      <td>Unit name</td>\n      <td>Air DPS</td>\n    </tr>\n    <tr>\n      <th>8</th>\n      <td>Unit name</td>\n      <td>Air DPS</td>\n    </tr>\n    <tr>\n      <th>9</th>\n      <td>Unit name</td>\n      <td>Air DPS</td>\n    </tr>\n    <tr>\n      <th>10</th>\n      <td>Unit name</td>\n      <td>Air DPS</td>\n    </tr>\n    <tr>\n      <th>11</th>\n      <td>Unit name</td>\n      <td>Air DPS</td>\n    </tr>\n    <tr>\n      <th>12</th>\n      <td>Unit name</td>\n      <td>Air DPS</td>\n    </tr>\n    <tr>\n      <th>13</th>\n      <td>Unit name</td>\n      <td>Air DPS</td>\n    </tr>\n    <tr>\n      <th>14</th>\n      <td>Unit name</td>\n      <td>Air DPS</td>\n    </tr>\n    <tr>\n      <th>15</th>\n      <td>Unit name</td>\n      <td>Air DPS</td>\n    </tr>\n    <tr>\n      <th>16</th>\n      <td>Unit name</td>\n      <td>Air DPS</td>\n    </tr>\n    <tr>\n      <th>17</th>\n      <td>Unit name</td>\n      <td>Air DPS</td>\n    </tr>\n    <tr>\n      <th>18</th>\n      <td>Unit name</td>\n      <td>Air DPS</td>\n    </tr>\n    <tr>\n      <th>19</th>\n      <td>Unit name</td>\n      <td>Air DPS</td>\n    </tr>\n    <tr>\n      <th>20</th>\n      <td>Unit name</td>\n      <td>Air DPS</td>\n    </tr>\n    <tr>\n      <th>21</th>\n      <td>Unit name</td>\n      <td>Air DPS</td>\n    </tr>\n    <tr>\n      <th>22</th>\n      <td>Unit name</td>\n      <td>Air DPS</td>\n    </tr>\n    <tr>\n      <th>23</th>\n      <td>Unit name</td>\n      <td>Air DPS</td>\n    </tr>\n    <tr>\n      <th>24</th>\n      <td>Unit name</td>\n      <td>Air DPS</td>\n    </tr>\n  </tbody>\n</table>\n</div>"
     },
     "execution_count": 46,
     "metadata": {},
     "output_type": "execute_result"
    }
   ],
   "source": [
    "union_all_units"
   ],
   "metadata": {
    "collapsed": false,
    "pycharm": {
     "name": "#%%\n"
    }
   }
  },
  {
   "cell_type": "code",
   "execution_count": null,
   "outputs": [],
   "source": [],
   "metadata": {
    "collapsed": false,
    "pycharm": {
     "name": "#%%\n"
    }
   }
  }
 ],
 "metadata": {
  "kernelspec": {
   "display_name": "Python 3",
   "language": "python",
   "name": "python3"
  },
  "language_info": {
   "codemirror_mode": {
    "name": "ipython",
    "version": 2
   },
   "file_extension": ".py",
   "mimetype": "text/x-python",
   "name": "python",
   "nbconvert_exporter": "python",
   "pygments_lexer": "ipython2",
   "version": "2.7.6"
  }
 },
 "nbformat": 4,
 "nbformat_minor": 0
}