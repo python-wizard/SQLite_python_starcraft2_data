{
 "cells": [
  {
   "cell_type": "markdown",
   "source": [
    "## SQLite basic operations / SQLite podstawowe operacje\n",
    "\n",
    "In this notebook we are going to do basic SQLite operations like creating table, inserting, updating and deleting data inside a table, fetching and displaying data with ordering and basic pattern matching.\n",
    "We are going to manually add a few Starcraft 2 units.\n",
    "\n",
    "Below is a basic table of units to be put inside database table.\n",
    "\n",
    "W tym zeszycie zaprezentuję podstawowe operacje SQLite jak tworzenie tabeli, umieszczanie, aktualizowanie i usuwanie danych z tabeli oraz szukawnie, sortowanie i pokazanie rekordów na ekranie.\n",
    "\n",
    "Poniżej jest tabela z jednostami to umieszczenia w tabeli.\n",
    "\n",
    "\n",
    "| Name          | Mineral | Damage | Hit Points | Range |\n",
    "|---------------|---------|--------|------------|-------|\n",
    "| Marine        | 50      | 6      | 45         | 5     |\n",
    "| Siege Tank    | 150     | 15     | 175        | 7     |\n",
    "| Battlecruiser | 4000    | 8      | 550        | 6     |"
   ],
   "metadata": {
    "collapsed": false,
    "pycharm": {
     "name": "#%% md\n"
    }
   }
  },
  {
   "cell_type": "code",
   "execution_count": 1,
   "outputs": [],
   "source": [
    "import sqlite3"
   ],
   "metadata": {
    "collapsed": false,
    "pycharm": {
     "name": "#%%\n"
    }
   }
  },
  {
   "cell_type": "code",
   "execution_count": 2,
   "outputs": [],
   "source": [
    "# Creating SQLite connection\n",
    "# Tworzenie połączenia z bazą danych\n",
    "\n",
    "conn = sqlite3.connect('data/sc2_basic_units.db')"
   ],
   "metadata": {
    "collapsed": false,
    "pycharm": {
     "name": "#%%\n"
    }
   }
  },
  {
   "cell_type": "code",
   "execution_count": 3,
   "outputs": [],
   "source": [
    "# Creating a cursor\n",
    "# Tworzenie cursora. Połączenie i cursor są potrzebne do wykonywania poleceń na bazie danych\n",
    "\n",
    "c = conn.cursor()"
   ],
   "metadata": {
    "collapsed": false,
    "pycharm": {
     "name": "#%%\n"
    }
   }
  },
  {
   "cell_type": "code",
   "execution_count": null,
   "outputs": [],
   "source": [
    "# Deleting a table if it happens to exist\n",
    "# Usówanie tabeli jeśli ona już istnieje\n",
    "\n"
   ],
   "metadata": {
    "collapsed": false,
    "pycharm": {
     "name": "#%%\n"
    }
   }
  },
  {
   "cell_type": "code",
   "execution_count": 4,
   "outputs": [
    {
     "ename": "OperationalError",
     "evalue": "table terran_units already exists",
     "output_type": "error",
     "traceback": [
      "\u001B[0;31m---------------------------------------------------------------------------\u001B[0m",
      "\u001B[0;31mOperationalError\u001B[0m                          Traceback (most recent call last)",
      "\u001B[0;32m/tmp/ipykernel_120995/3627383461.py\u001B[0m in \u001B[0;36m<module>\u001B[0;34m\u001B[0m\n\u001B[1;32m      2\u001B[0m \u001B[0;31m# Tworzymy tablelę terran_units do przechowywania jednostek terrana\u001B[0m\u001B[0;34m\u001B[0m\u001B[0;34m\u001B[0m\u001B[0m\n\u001B[1;32m      3\u001B[0m \u001B[0;34m\u001B[0m\u001B[0m\n\u001B[0;32m----> 4\u001B[0;31m c.execute(\"\"\"CREATE TABLE terran_units (\n\u001B[0m\u001B[1;32m      5\u001B[0m         \u001B[0mname\u001B[0m \u001B[0mtext\u001B[0m\u001B[0;34m,\u001B[0m\u001B[0;34m\u001B[0m\u001B[0;34m\u001B[0m\u001B[0m\n\u001B[1;32m      6\u001B[0m         \u001B[0mmineral\u001B[0m \u001B[0minteger\u001B[0m\u001B[0;34m,\u001B[0m\u001B[0;34m\u001B[0m\u001B[0;34m\u001B[0m\u001B[0m\n",
      "\u001B[0;31mOperationalError\u001B[0m: table terran_units already exists"
     ]
    }
   ],
   "source": [
    "# Creating a table terran_units to store terran_units\n",
    "# Tworzymy tablelę terran_units do przechowywania jednostek terrana\n",
    "\n",
    "c.execute(\"\"\"CREATE TABLE terran_units (\n",
    "        name text,\n",
    "        mineral integer,\n",
    "        damage real,\n",
    "        hit_points integer,\n",
    "        range text\n",
    "    )\"\"\")"
   ],
   "metadata": {
    "collapsed": false,
    "pycharm": {
     "name": "#%%\n"
    }
   }
  },
  {
   "cell_type": "code",
   "execution_count": 5,
   "outputs": [
    {
     "data": {
      "text/plain": "<sqlite3.Cursor at 0x7fdba7de6500>"
     },
     "execution_count": 5,
     "metadata": {},
     "output_type": "execute_result"
    }
   ],
   "source": [
    "# Inserting one record into table terran units\n",
    "# Umieszczenie jednego rekorku jednostki w tabeli terran_units\n",
    "\n",
    "c.execute(\"INSERT INTO terran_units VALUES('Marine', 50, 6, 45, 5)\")"
   ],
   "metadata": {
    "collapsed": false,
    "pycharm": {
     "name": "#%%\n"
    }
   }
  },
  {
   "cell_type": "markdown",
   "source": [
    "#### Insert many records into table / Umieszczanie wielu rekordów w tabeli\n",
    "First we create a list of tuples, with each tuple corresponding to the record structure inside out table.\n",
    "Later we use executemany function using ? placeholders which inserts all the records from our list.\n",
    "\n",
    "Najpierw tworzymy listę krotek, gdzie każda krotka ma strukturę rekordu w tabeli.\n",
    "Potem używamy funkcji executemany(), która wykonuje zawołanie SQL dla każdego elementu listy."
   ],
   "metadata": {
    "collapsed": false,
    "pycharm": {
     "name": "#%% md\n"
    }
   }
  },
  {
   "cell_type": "code",
   "execution_count": 6,
   "outputs": [],
   "source": [
    "units = [('Marauder', 100, 10, 125, 10), ('Siege Tank', 150, 15, 175, 7), ('Battlecruiser', 400, 8, 550, 6)]"
   ],
   "metadata": {
    "collapsed": false,
    "pycharm": {
     "name": "#%%\n"
    }
   }
  },
  {
   "cell_type": "code",
   "execution_count": 7,
   "outputs": [
    {
     "data": {
      "text/plain": "<sqlite3.Cursor at 0x7fdba7de6500>"
     },
     "execution_count": 7,
     "metadata": {},
     "output_type": "execute_result"
    }
   ],
   "source": [
    "# ? - placeholders\n",
    "# ? - zamiennik\n",
    "\n",
    "c.executemany(\"INSERT INTO terran_units VALUES (?,?,?,?,?)\", units)"
   ],
   "metadata": {
    "collapsed": false,
    "pycharm": {
     "name": "#%%\n"
    }
   }
  },
  {
   "cell_type": "code",
   "execution_count": 8,
   "outputs": [],
   "source": [
    "# Commiting changes\n",
    "# Zapisywanie zmian\n",
    "\n",
    "conn.commit()"
   ],
   "metadata": {
    "collapsed": false,
    "pycharm": {
     "name": "#%%\n"
    }
   }
  },
  {
   "cell_type": "code",
   "execution_count": 9,
   "outputs": [],
   "source": [
    "# Using SELECT clause to fetch data to verify that the data is in the database\n",
    "# Używanie SELECT, żeby pobrać dane z bazy danych\n",
    "\n",
    "c.execute(\"SELECT * FROM terran_units\")\n",
    "items = c.fetchall()"
   ],
   "metadata": {
    "collapsed": false,
    "pycharm": {
     "name": "#%%\n"
    }
   }
  },
  {
   "cell_type": "code",
   "execution_count": 10,
   "outputs": [
    {
     "name": "stdout",
     "output_type": "stream",
     "text": [
      "Marine 50 6.0 45 5\n",
      "Marauder 100 10.0 125 10\n",
      "Siege Tank 150 15.0 175 7\n",
      "Battlecruiser 400 8.0 550 6\n"
     ]
    }
   ],
   "source": [
    "for i in items:\n",
    "    print(f\"{i[0]} {i[1]} {i[2]} {i[3]} {i[4]}\")"
   ],
   "metadata": {
    "collapsed": false,
    "pycharm": {
     "name": "#%%\n"
    }
   }
  },
  {
   "cell_type": "markdown",
   "source": [
    "#### Fetching and printing PRIMARY KEY / Zbieranie\n",
    "\n",
    "PRIMARY KEY is created by sqlite by default even if it's not explicitly asked for.\n",
    "PRIMARY KEY (KLUCZ GŁÓWNY) jest domyślnie stworzony przez bazę danych SQLite."
   ],
   "metadata": {
    "collapsed": false,
    "pycharm": {
     "name": "#%% md\n"
    }
   }
  },
  {
   "cell_type": "code",
   "execution_count": 11,
   "outputs": [],
   "source": [
    "c.execute(\"SELECT rowid, name FROM terran_units\")\n",
    "id_name = c.fetchall()"
   ],
   "metadata": {
    "collapsed": false,
    "pycharm": {
     "name": "#%%\n"
    }
   }
  },
  {
   "cell_type": "code",
   "execution_count": 12,
   "outputs": [
    {
     "name": "stdout",
     "output_type": "stream",
     "text": [
      "1 Marine\n",
      "2 Marauder\n",
      "3 Siege Tank\n",
      "4 Battlecruiser\n"
     ]
    }
   ],
   "source": [
    "for i in id_name:\n",
    "    print(f\"{i[0]} {i[1]}\")"
   ],
   "metadata": {
    "collapsed": false,
    "pycharm": {
     "name": "#%%\n"
    }
   }
  },
  {
   "cell_type": "code",
   "execution_count": 13,
   "outputs": [
    {
     "data": {
      "text/plain": "<sqlite3.Cursor at 0x7fdba7de6500>"
     },
     "execution_count": 13,
     "metadata": {},
     "output_type": "execute_result"
    }
   ],
   "source": [
    "# Finding units which have HP higher than 120 using the WHERE clause\n",
    "# Znajdowanie jednostek które mają więcej niż 120 HP używając klauzuli WHERE\n",
    "\n",
    "c.execute(\"SELECT * FROM terran_units WHERE hit_points > 120\")"
   ],
   "metadata": {
    "collapsed": false,
    "pycharm": {
     "name": "#%%\n"
    }
   }
  },
  {
   "cell_type": "code",
   "execution_count": 14,
   "outputs": [
    {
     "name": "stdout",
     "output_type": "stream",
     "text": [
      "Marauder 100 10.0\n",
      "Siege Tank 150 15.0\n",
      "Battlecruiser 400 8.0\n"
     ]
    }
   ],
   "source": [
    "items = c.fetchall()\n",
    "for i in items:\n",
    "    print(f\"{i[0]} {i[1]} {i[2]}\")"
   ],
   "metadata": {
    "collapsed": false,
    "pycharm": {
     "name": "#%%\n"
    }
   }
  },
  {
   "cell_type": "code",
   "execution_count": 15,
   "outputs": [
    {
     "data": {
      "text/plain": "<sqlite3.Cursor at 0x7fdba7de6500>"
     },
     "execution_count": 15,
     "metadata": {},
     "output_type": "execute_result"
    }
   ],
   "source": [
    "# Finding units which have M starting with the name of the unit\n",
    "# Znajdowanie jednostek, których nazwa zaczyna się od 'M'\n",
    "\n",
    "c.execute(\"SELECT * FROM terran_units WHERE name LIKE 'M%'\")"
   ],
   "metadata": {
    "collapsed": false,
    "pycharm": {
     "name": "#%%\n"
    }
   }
  },
  {
   "cell_type": "code",
   "execution_count": 16,
   "outputs": [
    {
     "name": "stdout",
     "output_type": "stream",
     "text": [
      "Marine 50 6.0\n",
      "Marauder 100 10.0\n"
     ]
    }
   ],
   "source": [
    "items = c.fetchall()\n",
    "for i in items:\n",
    "    print(f\"{i[0]} {i[1]} {i[2]}\")"
   ],
   "metadata": {
    "collapsed": false,
    "pycharm": {
     "name": "#%%\n"
    }
   }
  },
  {
   "cell_type": "code",
   "execution_count": 17,
   "outputs": [
    {
     "data": {
      "text/plain": "<sqlite3.Cursor at 0x7fdba7de6500>"
     },
     "execution_count": 17,
     "metadata": {},
     "output_type": "execute_result"
    }
   ],
   "source": [
    "# Updating records - Marines are to cheap, we want to increase its cost to 75 minerals\n",
    "# Aktualizowanie rekoru - Marines są zbyt tanie, zwiększymy ich koszt do 75 minerałów\n",
    "\n",
    "c.execute(\"\"\"UPDATE terran_units SET mineral = 75 WHERE name = 'Marine'\"\"\")"
   ],
   "metadata": {
    "collapsed": false,
    "pycharm": {
     "name": "#%%\n"
    }
   }
  },
  {
   "cell_type": "code",
   "execution_count": 18,
   "outputs": [
    {
     "name": "stdout",
     "output_type": "stream",
     "text": [
      "Marine 50 6.0 45 5\n",
      "Marauder 100 10.0 125 10\n",
      "Siege Tank 150 15.0 175 7\n",
      "Battlecruiser 400 8.0 550 6\n"
     ]
    }
   ],
   "source": [
    "c.execute(\"SELECT * FROM terran_units\")\n",
    "items = c.fetchall()\n",
    "for i in items:\n",
    "    print(f\"{i[0]} {i[1]} {i[2]} {i[3]} {i[4]}\")"
   ],
   "metadata": {
    "collapsed": false,
    "pycharm": {
     "name": "#%%\n"
    }
   }
  },
  {
   "cell_type": "code",
   "execution_count": 19,
   "outputs": [
    {
     "data": {
      "text/plain": "<sqlite3.Cursor at 0x7fdba7de6500>"
     },
     "execution_count": 19,
     "metadata": {},
     "output_type": "execute_result"
    }
   ],
   "source": [
    "# Updating records by rowid\n",
    "# Aktualizowanie rekordu używając rowid\n",
    "\n",
    "c.execute(\"\"\"UPDATE terran_units SET damage = 14 WHERE rowid = 3\"\"\")"
   ],
   "metadata": {
    "collapsed": false,
    "pycharm": {
     "name": "#%%\n"
    }
   }
  },
  {
   "cell_type": "code",
   "execution_count": 20,
   "outputs": [
    {
     "data": {
      "text/plain": "<sqlite3.Cursor at 0x7fdba7de6500>"
     },
     "execution_count": 20,
     "metadata": {},
     "output_type": "execute_result"
    }
   ],
   "source": [
    "# Deleting records - removing battlecruiser from the database (droping)\n",
    "# Usuwanie rekordu - Battlecruiser jest za silną jednostką więc go usuwamy\n",
    "\n",
    "c.execute(\"DELETE FROM terran_units WHERE rowid = 4\")"
   ],
   "metadata": {
    "collapsed": false,
    "pycharm": {
     "name": "#%%\n"
    }
   }
  },
  {
   "cell_type": "code",
   "execution_count": 21,
   "outputs": [
    {
     "name": "stdout",
     "output_type": "stream",
     "text": [
      "Marine 50 6.0 45 5\n",
      "Marauder 100 10.0 125 10\n",
      "Siege Tank 150 14.0 175 7\n"
     ]
    }
   ],
   "source": [
    "c.execute(\"SELECT * FROM terran_units\")\n",
    "items = c.fetchall()\n",
    "for i in items:\n",
    "    print(f\"{i[0]} {i[1]} {i[2]} {i[3]} {i[4]}\")"
   ],
   "metadata": {
    "collapsed": false,
    "pycharm": {
     "name": "#%%\n"
    }
   }
  },
  {
   "cell_type": "markdown",
   "source": [
    "#### Ordering - ORDER BY keyword / Sortowanie rekordów\n",
    "ASC ascending\n",
    "DESC descending\n",
    "ASC - dane sortujemy rosnąco\n",
    "DESC - dane sortujemy malejąco"
   ],
   "metadata": {
    "collapsed": false,
    "pycharm": {
     "name": "#%% md\n"
    }
   }
  },
  {
   "cell_type": "code",
   "execution_count": 22,
   "outputs": [
    {
     "data": {
      "text/plain": "<sqlite3.Cursor at 0x7fdba7de6500>"
     },
     "execution_count": 22,
     "metadata": {},
     "output_type": "execute_result"
    }
   ],
   "source": [
    "c.execute(\"SELECT * FROM terran_units ORDER BY damage DESC\")"
   ],
   "metadata": {
    "collapsed": false,
    "pycharm": {
     "name": "#%%\n"
    }
   }
  },
  {
   "cell_type": "code",
   "execution_count": 23,
   "outputs": [
    {
     "name": "stdout",
     "output_type": "stream",
     "text": [
      "Siege Tank 150 14.0 175 7\n",
      "Marauder 100 10.0 125 10\n",
      "Marine 50 6.0 45 5\n"
     ]
    }
   ],
   "source": [
    "items = c.fetchall()\n",
    "for i in items:\n",
    "    print(f\"{i[0]} {i[1]} {i[2]} {i[3]} {i[4]}\")"
   ],
   "metadata": {
    "collapsed": false,
    "pycharm": {
     "name": "#%%\n"
    }
   }
  },
  {
   "cell_type": "code",
   "execution_count": 24,
   "outputs": [
    {
     "name": "stdout",
     "output_type": "stream",
     "text": [
      "Siege Tank 150 14.0 175\n",
      "Marauder 100 10.0 125\n"
     ]
    }
   ],
   "source": [
    "# Limiting results - LIMIT KEYWORD\n",
    "# Sorting units by highest high points limiting results to two\n",
    "\n",
    "# Ograniczenie wyników do 2 z sortowaniem od najwyższego wyniku\n",
    "\n",
    "c.execute(\"SELECT * FROM terran_units ORDER BY hit_points DESC LIMIT 2\")\n",
    "items_id = c.fetchall()\n",
    "\n",
    "for i in items_id:\n",
    "    print(f\"{i[0]} {i[1]} {i[2]} {i[3]}\")"
   ],
   "metadata": {
    "collapsed": false,
    "pycharm": {
     "name": "#%%\n"
    }
   }
  },
  {
   "cell_type": "code",
   "execution_count": 25,
   "outputs": [
    {
     "data": {
      "text/plain": "<sqlite3.Cursor at 0x7fdba7de6500>"
     },
     "execution_count": 25,
     "metadata": {},
     "output_type": "execute_result"
    }
   ],
   "source": [
    "# Droping table - deletes a table\n",
    "# Usuwanie tabeli\n",
    "\n",
    "c.execute(\"DROP TABLE terran_units\")"
   ],
   "metadata": {
    "collapsed": false,
    "pycharm": {
     "name": "#%%\n"
    }
   }
  },
  {
   "cell_type": "code",
   "execution_count": 26,
   "outputs": [],
   "source": [
    "# Closing connection\n",
    "# Zamykanie połączenia\n",
    "conn.close()"
   ],
   "metadata": {
    "collapsed": false,
    "pycharm": {
     "name": "#%%\n"
    }
   }
  },
  {
   "cell_type": "code",
   "execution_count": 26,
   "outputs": [],
   "source": [],
   "metadata": {
    "collapsed": false,
    "pycharm": {
     "name": "#%%\n"
    }
   }
  }
 ],
 "metadata": {
  "kernelspec": {
   "name": "nlp",
   "language": "python",
   "display_name": "nlp"
  },
  "language_info": {
   "codemirror_mode": {
    "name": "ipython",
    "version": 2
   },
   "file_extension": ".py",
   "mimetype": "text/x-python",
   "name": "python",
   "nbconvert_exporter": "python",
   "pygments_lexer": "ipython2",
   "version": "2.7.6"
  }
 },
 "nbformat": 4,
 "nbformat_minor": 0
}