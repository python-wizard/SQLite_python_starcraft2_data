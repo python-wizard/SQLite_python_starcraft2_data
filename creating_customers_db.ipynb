{
 "cells": [
  {
   "cell_type": "code",
   "execution_count": 1,
   "outputs": [],
   "source": [
    "import sqlite3"
   ],
   "metadata": {
    "collapsed": false,
    "pycharm": {
     "name": "#%%\n"
    }
   }
  },
  {
   "cell_type": "code",
   "execution_count": 2,
   "outputs": [],
   "source": [
    "# Creating SQLite connection\n",
    "conn = sqlite3.connect('data/customer.db')"
   ],
   "metadata": {
    "collapsed": false,
    "pycharm": {
     "name": "#%%\n"
    }
   }
  },
  {
   "cell_type": "code",
   "execution_count": 3,
   "outputs": [],
   "source": [
    "# Creating a cursor\n",
    "c = conn.cursor()"
   ],
   "metadata": {
    "collapsed": false,
    "pycharm": {
     "name": "#%%\n"
    }
   }
  },
  {
   "cell_type": "code",
   "execution_count": 11,
   "outputs": [
    {
     "data": {
      "text/plain": "<sqlite3.Cursor at 0x7f74fb04a500>"
     },
     "execution_count": 11,
     "metadata": {},
     "output_type": "execute_result"
    }
   ],
   "source": [
    "c.execute(\"\"\"CREATE TABLE customers (\n",
    "        first_name text,\n",
    "        last_name text,\n",
    "        email  text\n",
    "    )\"\"\")"
   ],
   "metadata": {
    "collapsed": false,
    "pycharm": {
     "name": "#%%\n"
    }
   }
  },
  {
   "cell_type": "code",
   "execution_count": 9,
   "outputs": [
    {
     "data": {
      "text/plain": "<sqlite3.Cursor at 0x7f16b011cb20>"
     },
     "execution_count": 9,
     "metadata": {},
     "output_type": "execute_result"
    }
   ],
   "source": [
    "# Inserting one record into table\n",
    "c.execute(\"INSERT INTO customers VALUES('Sharon', 'Dan', 'sharon@dan.com')\")"
   ],
   "metadata": {
    "collapsed": false,
    "pycharm": {
     "name": "#%%\n"
    }
   }
  },
  {
   "cell_type": "code",
   "execution_count": 15,
   "outputs": [],
   "source": [
    "## Insert many records into table\n",
    "many_customers = [('Poppy', 'Bella', 'Poppy@bella.com'), ('Terry', 'Lola', 'terry@lola.com'), ('Catherine', 'Liberty', 'cath@liberty.net'),\n",
    "                  ('Pabian', 'Russell', 'pab@rus.com')] # python list"
   ],
   "metadata": {
    "collapsed": false,
    "pycharm": {
     "name": "#%%\n"
    }
   }
  },
  {
   "cell_type": "code",
   "execution_count": 16,
   "outputs": [
    {
     "data": {
      "text/plain": "<sqlite3.Cursor at 0x7fb9e27d19d0>"
     },
     "execution_count": 16,
     "metadata": {},
     "output_type": "execute_result"
    }
   ],
   "source": [
    "# ? - placeholders\n",
    "c.executemany(\"INSERT INTO customers VALUES (?,?,?)\", many_customers)"
   ],
   "metadata": {
    "collapsed": false,
    "pycharm": {
     "name": "#%%\n"
    }
   }
  },
  {
   "cell_type": "code",
   "execution_count": 17,
   "outputs": [
    {
     "data": {
      "text/plain": "<sqlite3.Cursor at 0x7fb9e27d19d0>"
     },
     "execution_count": 17,
     "metadata": {},
     "output_type": "execute_result"
    }
   ],
   "source": [
    "# Fetching (first SELECT clause) getting data from the database\n",
    "c.execute(\"SELECT * FROM customers\")\n"
   ],
   "metadata": {
    "collapsed": false,
    "pycharm": {
     "name": "#%%\n"
    }
   }
  },
  {
   "cell_type": "code",
   "execution_count": 18,
   "outputs": [],
   "source": [
    "items = c.fetchall()"
   ],
   "metadata": {
    "collapsed": false,
    "pycharm": {
     "name": "#%%\n"
    }
   }
  },
  {
   "cell_type": "code",
   "execution_count": 19,
   "outputs": [
    {
     "data": {
      "text/plain": "[('John', 'Elder', 'john@company.com'),\n ('Wes', 'Brown', 'wes@brown.com'),\n ('Steph', 'Kirsh', 'st@kirsh.com'),\n ('Poppy', 'Bella', 'Poppy@bella.com'),\n ('Terry', 'Lola', 'terry@lola.com'),\n ('Catherine', 'Liberty', 'cath@liberty.net'),\n ('Pabian', 'Russell', 'pab@rus.com')]"
     },
     "execution_count": 19,
     "metadata": {},
     "output_type": "execute_result"
    }
   ],
   "source": [
    "items"
   ],
   "metadata": {
    "collapsed": false,
    "pycharm": {
     "name": "#%%\n"
    }
   }
  },
  {
   "cell_type": "code",
   "execution_count": 11,
   "outputs": [
    {
     "name": "stdout",
     "output_type": "stream",
     "text": [
      "John Elder john@company.com\n",
      "Wes Brown wes@brown.com\n",
      "Steph Kirsh st@kirsh.com\n"
     ]
    }
   ],
   "source": [
    "for i in items:\n",
    "    print(f\"{i[0]} {i[1]} {i[2]}\")"
   ],
   "metadata": {
    "collapsed": false,
    "pycharm": {
     "name": "#%%\n"
    }
   }
  },
  {
   "cell_type": "markdown",
   "source": [
    "#### Fetching a printing PRIMARY KEY\n",
    "PRIMARY KEY is created by sqlite by default even if it's not explicitly asked for."
   ],
   "metadata": {
    "collapsed": false,
    "pycharm": {
     "name": "#%% md\n"
    }
   }
  },
  {
   "cell_type": "code",
   "execution_count": 12,
   "outputs": [],
   "source": [
    "c.execute(\"SELECT rowid, first_name, last_name FROM customers\")\n",
    "id_first_last = c.fetchall()"
   ],
   "metadata": {
    "collapsed": false,
    "pycharm": {
     "name": "#%%\n"
    }
   }
  },
  {
   "cell_type": "code",
   "execution_count": 13,
   "outputs": [
    {
     "data": {
      "text/plain": "[(1, 'John', 'Elder'), (2, 'Wes', 'Brown'), (3, 'Steph', 'Kirsh')]"
     },
     "execution_count": 13,
     "metadata": {},
     "output_type": "execute_result"
    }
   ],
   "source": [
    "id_first_last"
   ],
   "metadata": {
    "collapsed": false,
    "pycharm": {
     "name": "#%%\n"
    }
   }
  },
  {
   "cell_type": "code",
   "execution_count": 14,
   "outputs": [
    {
     "name": "stdout",
     "output_type": "stream",
     "text": [
      "1 John Elder\n",
      "2 Wes Brown\n",
      "3 Steph Kirsh\n"
     ]
    }
   ],
   "source": [
    "for i in id_first_last:\n",
    "    print(f\"{i[0]} {i[1]} {i[2]}\")"
   ],
   "metadata": {
    "collapsed": false,
    "pycharm": {
     "name": "#%%\n"
    }
   }
  },
  {
   "cell_type": "code",
   "execution_count": 21,
   "outputs": [
    {
     "data": {
      "text/plain": "<sqlite3.Cursor at 0x7fb9e27d19d0>"
     },
     "execution_count": 21,
     "metadata": {},
     "output_type": "execute_result"
    }
   ],
   "source": [
    "# Finding specific results using the WHERE clause\n",
    "c.execute(\"SELECT * FROM customers WHERE last_name = 'Bella'\")"
   ],
   "metadata": {
    "collapsed": false,
    "pycharm": {
     "name": "#%%\n"
    }
   }
  },
  {
   "cell_type": "code",
   "execution_count": 22,
   "outputs": [
    {
     "name": "stdout",
     "output_type": "stream",
     "text": [
      "Poppy Bella Poppy@bella.com\n"
     ]
    }
   ],
   "source": [
    "items = c.fetchall()\n",
    "for i in items:\n",
    "    print(f\"{i[0]} {i[1]} {i[2]}\")"
   ],
   "metadata": {
    "collapsed": false,
    "pycharm": {
     "name": "#%%\n"
    }
   }
  },
  {
   "cell_type": "code",
   "execution_count": 23,
   "outputs": [
    {
     "data": {
      "text/plain": "<sqlite3.Cursor at 0x7fb9e27d19d0>"
     },
     "execution_count": 23,
     "metadata": {},
     "output_type": "execute_result"
    }
   ],
   "source": [
    "## Like keyword\n",
    "c.execute(\"SELECT * FROM customers WHERE first_name LIKE 'P%'\")"
   ],
   "metadata": {
    "collapsed": false,
    "pycharm": {
     "name": "#%%\n"
    }
   }
  },
  {
   "cell_type": "code",
   "execution_count": 24,
   "outputs": [
    {
     "name": "stdout",
     "output_type": "stream",
     "text": [
      "Poppy Bella Poppy@bella.com\n",
      "Pabian Russell pab@rus.com\n"
     ]
    }
   ],
   "source": [
    "items = c.fetchall()\n",
    "for i in items:\n",
    "    print(f\"{i[0]} {i[1]} {i[2]}\")"
   ],
   "metadata": {
    "collapsed": false,
    "pycharm": {
     "name": "#%%\n"
    }
   }
  },
  {
   "cell_type": "markdown",
   "source": [
    "#### Wildcards\n",
    "%\n",
    "*"
   ],
   "metadata": {
    "collapsed": false,
    "pycharm": {
     "name": "#%% md\n"
    }
   }
  },
  {
   "cell_type": "code",
   "execution_count": 25,
   "outputs": [
    {
     "data": {
      "text/plain": "<sqlite3.Cursor at 0x7fb9e27d19d0>"
     },
     "execution_count": 25,
     "metadata": {},
     "output_type": "execute_result"
    }
   ],
   "source": [
    "# Updating records\n",
    "c.execute(\"\"\"UPDATE customers SET first_name = 'Fabian' WHERE last_name = 'Russell'\"\"\")"
   ],
   "metadata": {
    "collapsed": false,
    "pycharm": {
     "name": "#%%\n"
    }
   }
  },
  {
   "cell_type": "code",
   "execution_count": 32,
   "outputs": [
    {
     "name": "stdout",
     "output_type": "stream",
     "text": [
      "Anna Elder john@company.com\n",
      "Wes Brown wes@brown.com\n",
      "Steph Kirsh st@kirsh.com\n",
      "Terry Lola terry@lola.com\n",
      "Catherine Liberty cath@liberty.net\n",
      "Fabian Russell pab@rus.com\n"
     ]
    }
   ],
   "source": [
    "c.execute(\"SELECT * FROM customers\")\n",
    "items = c.fetchall()\n",
    "for i in items:\n",
    "    print(f\"{i[0]} {i[1]} {i[2]}\")\n",
    "\n",
    "# above is a bad way to update because it chages all first names with last name Russell, it's better to update using rowid"
   ],
   "metadata": {
    "collapsed": false,
    "pycharm": {
     "name": "#%%\n"
    }
   }
  },
  {
   "cell_type": "code",
   "execution_count": 29,
   "outputs": [
    {
     "data": {
      "text/plain": "<sqlite3.Cursor at 0x7fb9e27d19d0>"
     },
     "execution_count": 29,
     "metadata": {},
     "output_type": "execute_result"
    }
   ],
   "source": [
    "#### Updating records by rowid\n",
    "c.execute(\"\"\"UPDATE customers SET first_name = 'Anna' WHERE rowid = 1\"\"\")"
   ],
   "metadata": {
    "collapsed": false,
    "pycharm": {
     "name": "#%%\n"
    }
   }
  },
  {
   "cell_type": "code",
   "execution_count": 31,
   "outputs": [
    {
     "data": {
      "text/plain": "<sqlite3.Cursor at 0x7fb9e27d19d0>"
     },
     "execution_count": 31,
     "metadata": {},
     "output_type": "execute_result"
    }
   ],
   "source": [
    "# Deleting records (droping)\n",
    "\n",
    "c.execute(\"DELETE FROM customers WHERE rowid = 4\")"
   ],
   "metadata": {
    "collapsed": false,
    "pycharm": {
     "name": "#%%\n"
    }
   }
  },
  {
   "cell_type": "code",
   "execution_count": 33,
   "outputs": [
    {
     "name": "stdout",
     "output_type": "stream",
     "text": [
      "1 Anna Elder john@company.com\n",
      "2 Wes Brown wes@brown.com\n",
      "3 Steph Kirsh st@kirsh.com\n",
      "5 Terry Lola terry@lola.com\n",
      "6 Catherine Liberty cath@liberty.net\n",
      "7 Fabian Russell pab@rus.com\n"
     ]
    }
   ],
   "source": [
    "c.execute(\"SELECT rowid, * FROM customers\")\n",
    "items_id = c.fetchall()\n",
    "\n",
    "for i in items_id:\n",
    "    print(f\"{i[0]} {i[1]} {i[2]} {i[3]}\")"
   ],
   "metadata": {
    "collapsed": false,
    "pycharm": {
     "name": "#%%\n"
    }
   }
  },
  {
   "cell_type": "markdown",
   "source": [
    "#### Ordering - ORDER BY keyword\n",
    "ASC -ascending\n",
    "DESC descending"
   ],
   "metadata": {
    "collapsed": false,
    "pycharm": {
     "name": "#%% md\n"
    }
   }
  },
  {
   "cell_type": "code",
   "execution_count": 34,
   "outputs": [
    {
     "data": {
      "text/plain": "<sqlite3.Cursor at 0x7fb9e27d19d0>"
     },
     "execution_count": 34,
     "metadata": {},
     "output_type": "execute_result"
    }
   ],
   "source": [
    "c.execute(\"SELECT rowid,* FROM customers ORDER BY last_name DESC\")"
   ],
   "metadata": {
    "collapsed": false,
    "pycharm": {
     "name": "#%%\n"
    }
   }
  },
  {
   "cell_type": "code",
   "execution_count": 35,
   "outputs": [
    {
     "name": "stdout",
     "output_type": "stream",
     "text": [
      "7 Fabian Russell pab@rus.com\n",
      "5 Terry Lola terry@lola.com\n",
      "6 Catherine Liberty cath@liberty.net\n",
      "3 Steph Kirsh st@kirsh.com\n",
      "1 Anna Elder john@company.com\n",
      "2 Wes Brown wes@brown.com\n"
     ]
    }
   ],
   "source": [
    "items_id = c.fetchall()\n",
    "\n",
    "for i in items_id:\n",
    "    print(f\"{i[0]} {i[1]} {i[2]} {i[3]}\")"
   ],
   "metadata": {
    "collapsed": false,
    "pycharm": {
     "name": "#%%\n"
    }
   }
  },
  {
   "cell_type": "code",
   "execution_count": 36,
   "outputs": [
    {
     "name": "stdout",
     "output_type": "stream",
     "text": [
      "2 Wes Brown wes@brown.com\n",
      "1 Anna Elder john@company.com\n",
      "3 Steph Kirsh st@kirsh.com\n"
     ]
    }
   ],
   "source": [
    "# Limiting results - LIMIT KEYWORD\n",
    "c.execute(\"SELECT rowid,* FROM customers ORDER BY last_name ASC LIMIT 3\")\n",
    "items_id = c.fetchall()\n",
    "\n",
    "for i in items_id:\n",
    "    print(f\"{i[0]} {i[1]} {i[2]} {i[3]}\")"
   ],
   "metadata": {
    "collapsed": false,
    "pycharm": {
     "name": "#%%\n"
    }
   }
  },
  {
   "cell_type": "code",
   "execution_count": 38,
   "outputs": [
    {
     "data": {
      "text/plain": "<sqlite3.Cursor at 0x7fb9e27d19d0>"
     },
     "execution_count": 38,
     "metadata": {},
     "output_type": "execute_result"
    }
   ],
   "source": [
    "# Droping table - deletes a table\n",
    "c.execute(\"DROP TABLE customers\")"
   ],
   "metadata": {
    "collapsed": false,
    "pycharm": {
     "name": "#%%\n"
    }
   }
  },
  {
   "cell_type": "code",
   "execution_count": 39,
   "outputs": [
    {
     "ename": "OperationalError",
     "evalue": "no such table: customers",
     "output_type": "error",
     "traceback": [
      "\u001B[0;31m---------------------------------------------------------------------------\u001B[0m",
      "\u001B[0;31mOperationalError\u001B[0m                          Traceback (most recent call last)",
      "\u001B[0;32m/tmp/ipykernel_205173/1129269526.py\u001B[0m in \u001B[0;36m<module>\u001B[0;34m\u001B[0m\n\u001B[1;32m      1\u001B[0m \u001B[0;31m# try to search table\u001B[0m\u001B[0;34m\u001B[0m\u001B[0;34m\u001B[0m\u001B[0m\n\u001B[0;32m----> 2\u001B[0;31m \u001B[0mc\u001B[0m\u001B[0;34m.\u001B[0m\u001B[0mexecute\u001B[0m\u001B[0;34m(\u001B[0m\u001B[0;34m\"SELECT rowid, * FROM customers\"\u001B[0m\u001B[0;34m)\u001B[0m\u001B[0;34m\u001B[0m\u001B[0;34m\u001B[0m\u001B[0m\n\u001B[0m\u001B[1;32m      3\u001B[0m \u001B[0mitems_id\u001B[0m \u001B[0;34m=\u001B[0m \u001B[0mc\u001B[0m\u001B[0;34m.\u001B[0m\u001B[0mfetchall\u001B[0m\u001B[0;34m(\u001B[0m\u001B[0;34m)\u001B[0m\u001B[0;34m\u001B[0m\u001B[0;34m\u001B[0m\u001B[0m\n\u001B[1;32m      4\u001B[0m \u001B[0;34m\u001B[0m\u001B[0m\n\u001B[1;32m      5\u001B[0m \u001B[0;32mfor\u001B[0m \u001B[0mi\u001B[0m \u001B[0;32min\u001B[0m \u001B[0mitems_id\u001B[0m\u001B[0;34m:\u001B[0m\u001B[0;34m\u001B[0m\u001B[0;34m\u001B[0m\u001B[0m\n",
      "\u001B[0;31mOperationalError\u001B[0m: no such table: customers"
     ]
    }
   ],
   "source": [
    "# try to search table\n",
    "c.execute(\"SELECT rowid, * FROM customers\")\n",
    "items_id = c.fetchall()\n",
    "\n",
    "for i in items_id:\n",
    "    print(f\"{i[0]} {i[1]} {i[2]} {i[3]}\")"
   ],
   "metadata": {
    "collapsed": false,
    "pycharm": {
     "name": "#%%\n"
    }
   }
  },
  {
   "cell_type": "code",
   "execution_count": 40,
   "outputs": [],
   "source": [
    "# Commiting changes\n",
    "conn.commit()"
   ],
   "metadata": {
    "collapsed": false,
    "pycharm": {
     "name": "#%%\n"
    }
   }
  },
  {
   "cell_type": "code",
   "execution_count": 41,
   "outputs": [],
   "source": [
    "# Closing connection\n",
    "conn.close()"
   ],
   "metadata": {
    "collapsed": false,
    "pycharm": {
     "name": "#%%\n"
    }
   }
  },
  {
   "cell_type": "code",
   "execution_count": null,
   "outputs": [],
   "source": [],
   "metadata": {
    "collapsed": false,
    "pycharm": {
     "name": "#%%\n"
    }
   }
  }
 ],
 "metadata": {
  "kernelspec": {
   "name": "nlp",
   "language": "python",
   "display_name": "nlp"
  },
  "language_info": {
   "codemirror_mode": {
    "name": "ipython",
    "version": 2
   },
   "file_extension": ".py",
   "mimetype": "text/x-python",
   "name": "python",
   "nbconvert_exporter": "python",
   "pygments_lexer": "ipython2",
   "version": "2.7.6"
  }
 },
 "nbformat": 4,
 "nbformat_minor": 0
}