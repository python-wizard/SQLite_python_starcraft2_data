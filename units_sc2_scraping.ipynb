{
 "cells": [
  {
   "cell_type": "code",
   "execution_count": 1,
   "metadata": {
    "collapsed": true,
    "pycharm": {
     "name": "#%%\n"
    }
   },
   "outputs": [],
   "source": [
    "# importing libraries\n",
    "# importowanie bibliotek\n",
    "\n",
    "import pandas as pd\n",
    "import sqlite3"
   ]
  },
  {
   "cell_type": "code",
   "execution_count": 2,
   "outputs": [],
   "source": [
    "# Making connection to a database and creating cursor\n",
    "# Tworzenie połączenia do bady danych i tzw. cursora\n",
    "\n",
    "conn = sqlite3.connect('data/sc2_data.db')\n",
    "c = conn.cursor()"
   ],
   "metadata": {
    "collapsed": false,
    "pycharm": {
     "name": "#%%\n"
    }
   }
  },
  {
   "cell_type": "markdown",
   "source": [
    "## Starcraft 2 unit details scraping / skrobanie danych o jednostkach ze Starcrafta 2\n",
    "To achieve that we simply use Pandas read_html function which converts all tables on the page into DataFrame objects.\n",
    "\n",
    "Żeby to osiągnąć używamy funkcji read_html() z pandas, która wczytuje wszystkie tabele ze strony i konwertuje je na objekty DataFrame."
   ],
   "metadata": {
    "collapsed": false,
    "pycharm": {
     "name": "#%% md\n"
    }
   }
  },
  {
   "cell_type": "code",
   "execution_count": 3,
   "outputs": [],
   "source": [
    "# url from the starcraft 2 encyclopedia called liquipedia\n",
    "# Przypisywanie adresu encyklopedii starcrafta o nazwie liquipedia zmiennej url\n",
    "\n",
    "url = 'https://liquipedia.net/starcraft2/Unit_Statistics_(Legacy_of_the_Void)'"
   ],
   "metadata": {
    "collapsed": false,
    "pycharm": {
     "name": "#%%\n"
    }
   }
  },
  {
   "cell_type": "code",
   "execution_count": 4,
   "outputs": [],
   "source": [
    "dfs = pd.read_html(url)"
   ],
   "metadata": {
    "collapsed": false,
    "pycharm": {
     "name": "#%%\n"
    }
   }
  },
  {
   "cell_type": "code",
   "execution_count": 5,
   "outputs": [
    {
     "data": {
      "text/plain": "      Unit Unnamed: 1  Unnamed: 2  Unnamed: 3   / WG  Size Cargo Unnamed: 7  \\\n0    Probe          1          50           0     12  0.75     1     0 (+1)   \n1   Zealot          2         100           0  27/20     1     2     1 (+1)   \n2   Sentry          2          50         100  26/23     1     2     1 (+1)   \n3  Stalker          2         125          50  30/23  1.25     2     1 (+1)   \n4    Adept          2         100          25  30/20     1     2     1 (+1)   \n\n   Unnamed: 8  Unnamed: 9  ... A. Attack       Bonus        G. DPS  \\\n0          20          20  ...         -           -           4.7   \n1         100          50  ...         -           -  18.6 (+2.33)   \n2          40          40  ...    6 (+1)           -   8.5 (+1.41)   \n3          80          80  ...   13 (+1)   +5 (+1) A   9.7 (+0.75)   \n4          70          70  ...         -  +12 (+1) L   6.2 (+0.62)   \n\n        A. DPS        Bonus DPS Attack Mod     Cooldown                 Speed  \\\n0            -                -          -         1.07                  3.94   \n1            -                -          -         0.86  3.15 (4.725 +5.67 C)   \n2  8.5 (+1.41)                -          -         0.71                  3.15   \n3  9.7 (+0.75)   +3.7 (+0.75) A          P         1.34                  4.13   \n4            -  +7.45 (+0.62) L          -  1.61 (1.11)            3.5 (4.78)   \n\n  Range Sight  \n0     M     8  \n1     M     9  \n2     5    10  \n3     6    10  \n4     4     9  \n\n[5 rows x 22 columns]",
      "text/html": "<div>\n<style scoped>\n    .dataframe tbody tr th:only-of-type {\n        vertical-align: middle;\n    }\n\n    .dataframe tbody tr th {\n        vertical-align: top;\n    }\n\n    .dataframe thead th {\n        text-align: right;\n    }\n</style>\n<table border=\"1\" class=\"dataframe\">\n  <thead>\n    <tr style=\"text-align: right;\">\n      <th></th>\n      <th>Unit</th>\n      <th>Unnamed: 1</th>\n      <th>Unnamed: 2</th>\n      <th>Unnamed: 3</th>\n      <th>/ WG</th>\n      <th>Size</th>\n      <th>Cargo</th>\n      <th>Unnamed: 7</th>\n      <th>Unnamed: 8</th>\n      <th>Unnamed: 9</th>\n      <th>...</th>\n      <th>A. Attack</th>\n      <th>Bonus</th>\n      <th>G. DPS</th>\n      <th>A. DPS</th>\n      <th>Bonus DPS</th>\n      <th>Attack Mod</th>\n      <th>Cooldown</th>\n      <th>Speed</th>\n      <th>Range</th>\n      <th>Sight</th>\n    </tr>\n  </thead>\n  <tbody>\n    <tr>\n      <th>0</th>\n      <td>Probe</td>\n      <td>1</td>\n      <td>50</td>\n      <td>0</td>\n      <td>12</td>\n      <td>0.75</td>\n      <td>1</td>\n      <td>0 (+1)</td>\n      <td>20</td>\n      <td>20</td>\n      <td>...</td>\n      <td>-</td>\n      <td>-</td>\n      <td>4.7</td>\n      <td>-</td>\n      <td>-</td>\n      <td>-</td>\n      <td>1.07</td>\n      <td>3.94</td>\n      <td>M</td>\n      <td>8</td>\n    </tr>\n    <tr>\n      <th>1</th>\n      <td>Zealot</td>\n      <td>2</td>\n      <td>100</td>\n      <td>0</td>\n      <td>27/20</td>\n      <td>1</td>\n      <td>2</td>\n      <td>1 (+1)</td>\n      <td>100</td>\n      <td>50</td>\n      <td>...</td>\n      <td>-</td>\n      <td>-</td>\n      <td>18.6 (+2.33)</td>\n      <td>-</td>\n      <td>-</td>\n      <td>-</td>\n      <td>0.86</td>\n      <td>3.15 (4.725 +5.67 C)</td>\n      <td>M</td>\n      <td>9</td>\n    </tr>\n    <tr>\n      <th>2</th>\n      <td>Sentry</td>\n      <td>2</td>\n      <td>50</td>\n      <td>100</td>\n      <td>26/23</td>\n      <td>1</td>\n      <td>2</td>\n      <td>1 (+1)</td>\n      <td>40</td>\n      <td>40</td>\n      <td>...</td>\n      <td>6 (+1)</td>\n      <td>-</td>\n      <td>8.5 (+1.41)</td>\n      <td>8.5 (+1.41)</td>\n      <td>-</td>\n      <td>-</td>\n      <td>0.71</td>\n      <td>3.15</td>\n      <td>5</td>\n      <td>10</td>\n    </tr>\n    <tr>\n      <th>3</th>\n      <td>Stalker</td>\n      <td>2</td>\n      <td>125</td>\n      <td>50</td>\n      <td>30/23</td>\n      <td>1.25</td>\n      <td>2</td>\n      <td>1 (+1)</td>\n      <td>80</td>\n      <td>80</td>\n      <td>...</td>\n      <td>13 (+1)</td>\n      <td>+5 (+1) A</td>\n      <td>9.7 (+0.75)</td>\n      <td>9.7 (+0.75)</td>\n      <td>+3.7 (+0.75) A</td>\n      <td>P</td>\n      <td>1.34</td>\n      <td>4.13</td>\n      <td>6</td>\n      <td>10</td>\n    </tr>\n    <tr>\n      <th>4</th>\n      <td>Adept</td>\n      <td>2</td>\n      <td>100</td>\n      <td>25</td>\n      <td>30/20</td>\n      <td>1</td>\n      <td>2</td>\n      <td>1 (+1)</td>\n      <td>70</td>\n      <td>70</td>\n      <td>...</td>\n      <td>-</td>\n      <td>+12 (+1) L</td>\n      <td>6.2 (+0.62)</td>\n      <td>-</td>\n      <td>+7.45 (+0.62) L</td>\n      <td>-</td>\n      <td>1.61 (1.11)</td>\n      <td>3.5 (4.78)</td>\n      <td>4</td>\n      <td>9</td>\n    </tr>\n  </tbody>\n</table>\n<p>5 rows × 22 columns</p>\n</div>"
     },
     "execution_count": 5,
     "metadata": {},
     "output_type": "execute_result"
    }
   ],
   "source": [
    "# checking whether scraped data makes sense, which it does.\n",
    "# sprawdzenie czy zeskrobane dane mają sens.\n",
    "\n",
    "dfs[0].head()"
   ],
   "metadata": {
    "collapsed": false,
    "pycharm": {
     "name": "#%%\n"
    }
   }
  },
  {
   "cell_type": "markdown",
   "source": [
    "#### Protoss units / Jednostki Protossa\n",
    "First we load the protoss units dataframe object. We see that some columns miss names, which we fix by ammending the columns field of the dataframe.\n",
    "Later we create a new table protoss_units with fiels as dataframe columns and appropriate data types.\n",
    "Afterwards we use the pandas dataframe.to_sql() function.\n",
    "\n",
    "Najpierw przypisujemy dataframe z jednostami protossa zmiennej protoss_units. W zaiązku z tym, że niektóre kolumny nie mają nazw poprawiamy to nadpisując protoss_units.columns.\n",
    "W bazie danych tworzymy nową tabelę z polami takimi jak kolumny w dataframe.\n",
    "Potem używamy pandasowej funkcji dataframe.to_sql()  która zapisuje dane z dataframe w tabeli sql."
   ],
   "metadata": {
    "collapsed": false,
    "pycharm": {
     "name": "#%% md\n"
    }
   }
  },
  {
   "cell_type": "code",
   "execution_count": 6,
   "outputs": [],
   "source": [
    "protoss_units = dfs[0]"
   ],
   "metadata": {
    "collapsed": false,
    "pycharm": {
     "name": "#%%\n"
    }
   }
  },
  {
   "cell_type": "code",
   "execution_count": 7,
   "outputs": [
    {
     "data": {
      "text/plain": "      Unit Unnamed: 1  Unnamed: 2  Unnamed: 3   / WG  Size Cargo Unnamed: 7  \\\n0    Probe          1          50           0     12  0.75     1     0 (+1)   \n1   Zealot          2         100           0  27/20     1     2     1 (+1)   \n2   Sentry          2          50         100  26/23     1     2     1 (+1)   \n3  Stalker          2         125          50  30/23  1.25     2     1 (+1)   \n4    Adept          2         100          25  30/20     1     2     1 (+1)   \n\n   Unnamed: 8  Unnamed: 9  ... A. Attack       Bonus        G. DPS  \\\n0          20          20  ...         -           -           4.7   \n1         100          50  ...         -           -  18.6 (+2.33)   \n2          40          40  ...    6 (+1)           -   8.5 (+1.41)   \n3          80          80  ...   13 (+1)   +5 (+1) A   9.7 (+0.75)   \n4          70          70  ...         -  +12 (+1) L   6.2 (+0.62)   \n\n        A. DPS        Bonus DPS Attack Mod     Cooldown                 Speed  \\\n0            -                -          -         1.07                  3.94   \n1            -                -          -         0.86  3.15 (4.725 +5.67 C)   \n2  8.5 (+1.41)                -          -         0.71                  3.15   \n3  9.7 (+0.75)   +3.7 (+0.75) A          P         1.34                  4.13   \n4            -  +7.45 (+0.62) L          -  1.61 (1.11)            3.5 (4.78)   \n\n  Range Sight  \n0     M     8  \n1     M     9  \n2     5    10  \n3     6    10  \n4     4     9  \n\n[5 rows x 22 columns]",
      "text/html": "<div>\n<style scoped>\n    .dataframe tbody tr th:only-of-type {\n        vertical-align: middle;\n    }\n\n    .dataframe tbody tr th {\n        vertical-align: top;\n    }\n\n    .dataframe thead th {\n        text-align: right;\n    }\n</style>\n<table border=\"1\" class=\"dataframe\">\n  <thead>\n    <tr style=\"text-align: right;\">\n      <th></th>\n      <th>Unit</th>\n      <th>Unnamed: 1</th>\n      <th>Unnamed: 2</th>\n      <th>Unnamed: 3</th>\n      <th>/ WG</th>\n      <th>Size</th>\n      <th>Cargo</th>\n      <th>Unnamed: 7</th>\n      <th>Unnamed: 8</th>\n      <th>Unnamed: 9</th>\n      <th>...</th>\n      <th>A. Attack</th>\n      <th>Bonus</th>\n      <th>G. DPS</th>\n      <th>A. DPS</th>\n      <th>Bonus DPS</th>\n      <th>Attack Mod</th>\n      <th>Cooldown</th>\n      <th>Speed</th>\n      <th>Range</th>\n      <th>Sight</th>\n    </tr>\n  </thead>\n  <tbody>\n    <tr>\n      <th>0</th>\n      <td>Probe</td>\n      <td>1</td>\n      <td>50</td>\n      <td>0</td>\n      <td>12</td>\n      <td>0.75</td>\n      <td>1</td>\n      <td>0 (+1)</td>\n      <td>20</td>\n      <td>20</td>\n      <td>...</td>\n      <td>-</td>\n      <td>-</td>\n      <td>4.7</td>\n      <td>-</td>\n      <td>-</td>\n      <td>-</td>\n      <td>1.07</td>\n      <td>3.94</td>\n      <td>M</td>\n      <td>8</td>\n    </tr>\n    <tr>\n      <th>1</th>\n      <td>Zealot</td>\n      <td>2</td>\n      <td>100</td>\n      <td>0</td>\n      <td>27/20</td>\n      <td>1</td>\n      <td>2</td>\n      <td>1 (+1)</td>\n      <td>100</td>\n      <td>50</td>\n      <td>...</td>\n      <td>-</td>\n      <td>-</td>\n      <td>18.6 (+2.33)</td>\n      <td>-</td>\n      <td>-</td>\n      <td>-</td>\n      <td>0.86</td>\n      <td>3.15 (4.725 +5.67 C)</td>\n      <td>M</td>\n      <td>9</td>\n    </tr>\n    <tr>\n      <th>2</th>\n      <td>Sentry</td>\n      <td>2</td>\n      <td>50</td>\n      <td>100</td>\n      <td>26/23</td>\n      <td>1</td>\n      <td>2</td>\n      <td>1 (+1)</td>\n      <td>40</td>\n      <td>40</td>\n      <td>...</td>\n      <td>6 (+1)</td>\n      <td>-</td>\n      <td>8.5 (+1.41)</td>\n      <td>8.5 (+1.41)</td>\n      <td>-</td>\n      <td>-</td>\n      <td>0.71</td>\n      <td>3.15</td>\n      <td>5</td>\n      <td>10</td>\n    </tr>\n    <tr>\n      <th>3</th>\n      <td>Stalker</td>\n      <td>2</td>\n      <td>125</td>\n      <td>50</td>\n      <td>30/23</td>\n      <td>1.25</td>\n      <td>2</td>\n      <td>1 (+1)</td>\n      <td>80</td>\n      <td>80</td>\n      <td>...</td>\n      <td>13 (+1)</td>\n      <td>+5 (+1) A</td>\n      <td>9.7 (+0.75)</td>\n      <td>9.7 (+0.75)</td>\n      <td>+3.7 (+0.75) A</td>\n      <td>P</td>\n      <td>1.34</td>\n      <td>4.13</td>\n      <td>6</td>\n      <td>10</td>\n    </tr>\n    <tr>\n      <th>4</th>\n      <td>Adept</td>\n      <td>2</td>\n      <td>100</td>\n      <td>25</td>\n      <td>30/20</td>\n      <td>1</td>\n      <td>2</td>\n      <td>1 (+1)</td>\n      <td>70</td>\n      <td>70</td>\n      <td>...</td>\n      <td>-</td>\n      <td>+12 (+1) L</td>\n      <td>6.2 (+0.62)</td>\n      <td>-</td>\n      <td>+7.45 (+0.62) L</td>\n      <td>-</td>\n      <td>1.61 (1.11)</td>\n      <td>3.5 (4.78)</td>\n      <td>4</td>\n      <td>9</td>\n    </tr>\n  </tbody>\n</table>\n<p>5 rows × 22 columns</p>\n</div>"
     },
     "execution_count": 7,
     "metadata": {},
     "output_type": "execute_result"
    }
   ],
   "source": [
    "protoss_units.head()"
   ],
   "metadata": {
    "collapsed": false,
    "pycharm": {
     "name": "#%%\n"
    }
   }
  },
  {
   "cell_type": "code",
   "execution_count": 8,
   "outputs": [],
   "source": [
    "protoss_units.columns = ['Unit name', 'Supply', 'Minerals', 'Gas', 'Game speed / Warp Gate', 'Size',\n",
    "                         'Cargo', 'Armor', 'Hit Points', 'Plasma Shield', 'Attributes', 'Ground Attack',\n",
    "                         'Air Attack', 'Bonus', 'Ground DPS', 'Air DPS', 'Bonus DPS', 'Attack Mod',\n",
    "                         'Cooldown', 'Speed', 'Range', 'Sight']"
   ],
   "metadata": {
    "collapsed": false,
    "pycharm": {
     "name": "#%%\n"
    }
   }
  },
  {
   "cell_type": "code",
   "execution_count": 9,
   "outputs": [
    {
     "data": {
      "text/plain": "  Unit name Supply  Minerals  Gas Game speed / Warp Gate  Size Cargo   Armor  \\\n0     Probe      1        50    0                     12  0.75     1  0 (+1)   \n1    Zealot      2       100    0                  27/20     1     2  1 (+1)   \n2    Sentry      2        50  100                  26/23     1     2  1 (+1)   \n3   Stalker      2       125   50                  30/23  1.25     2  1 (+1)   \n4     Adept      2       100   25                  30/20     1     2  1 (+1)   \n\n   Hit Points  Plasma Shield  ... Air Attack       Bonus    Ground DPS  \\\n0          20             20  ...          -           -           4.7   \n1         100             50  ...          -           -  18.6 (+2.33)   \n2          40             40  ...     6 (+1)           -   8.5 (+1.41)   \n3          80             80  ...    13 (+1)   +5 (+1) A   9.7 (+0.75)   \n4          70             70  ...          -  +12 (+1) L   6.2 (+0.62)   \n\n       Air DPS        Bonus DPS Attack Mod     Cooldown                 Speed  \\\n0            -                -          -         1.07                  3.94   \n1            -                -          -         0.86  3.15 (4.725 +5.67 C)   \n2  8.5 (+1.41)                -          -         0.71                  3.15   \n3  9.7 (+0.75)   +3.7 (+0.75) A          P         1.34                  4.13   \n4            -  +7.45 (+0.62) L          -  1.61 (1.11)            3.5 (4.78)   \n\n  Range Sight  \n0     M     8  \n1     M     9  \n2     5    10  \n3     6    10  \n4     4     9  \n\n[5 rows x 22 columns]",
      "text/html": "<div>\n<style scoped>\n    .dataframe tbody tr th:only-of-type {\n        vertical-align: middle;\n    }\n\n    .dataframe tbody tr th {\n        vertical-align: top;\n    }\n\n    .dataframe thead th {\n        text-align: right;\n    }\n</style>\n<table border=\"1\" class=\"dataframe\">\n  <thead>\n    <tr style=\"text-align: right;\">\n      <th></th>\n      <th>Unit name</th>\n      <th>Supply</th>\n      <th>Minerals</th>\n      <th>Gas</th>\n      <th>Game speed / Warp Gate</th>\n      <th>Size</th>\n      <th>Cargo</th>\n      <th>Armor</th>\n      <th>Hit Points</th>\n      <th>Plasma Shield</th>\n      <th>...</th>\n      <th>Air Attack</th>\n      <th>Bonus</th>\n      <th>Ground DPS</th>\n      <th>Air DPS</th>\n      <th>Bonus DPS</th>\n      <th>Attack Mod</th>\n      <th>Cooldown</th>\n      <th>Speed</th>\n      <th>Range</th>\n      <th>Sight</th>\n    </tr>\n  </thead>\n  <tbody>\n    <tr>\n      <th>0</th>\n      <td>Probe</td>\n      <td>1</td>\n      <td>50</td>\n      <td>0</td>\n      <td>12</td>\n      <td>0.75</td>\n      <td>1</td>\n      <td>0 (+1)</td>\n      <td>20</td>\n      <td>20</td>\n      <td>...</td>\n      <td>-</td>\n      <td>-</td>\n      <td>4.7</td>\n      <td>-</td>\n      <td>-</td>\n      <td>-</td>\n      <td>1.07</td>\n      <td>3.94</td>\n      <td>M</td>\n      <td>8</td>\n    </tr>\n    <tr>\n      <th>1</th>\n      <td>Zealot</td>\n      <td>2</td>\n      <td>100</td>\n      <td>0</td>\n      <td>27/20</td>\n      <td>1</td>\n      <td>2</td>\n      <td>1 (+1)</td>\n      <td>100</td>\n      <td>50</td>\n      <td>...</td>\n      <td>-</td>\n      <td>-</td>\n      <td>18.6 (+2.33)</td>\n      <td>-</td>\n      <td>-</td>\n      <td>-</td>\n      <td>0.86</td>\n      <td>3.15 (4.725 +5.67 C)</td>\n      <td>M</td>\n      <td>9</td>\n    </tr>\n    <tr>\n      <th>2</th>\n      <td>Sentry</td>\n      <td>2</td>\n      <td>50</td>\n      <td>100</td>\n      <td>26/23</td>\n      <td>1</td>\n      <td>2</td>\n      <td>1 (+1)</td>\n      <td>40</td>\n      <td>40</td>\n      <td>...</td>\n      <td>6 (+1)</td>\n      <td>-</td>\n      <td>8.5 (+1.41)</td>\n      <td>8.5 (+1.41)</td>\n      <td>-</td>\n      <td>-</td>\n      <td>0.71</td>\n      <td>3.15</td>\n      <td>5</td>\n      <td>10</td>\n    </tr>\n    <tr>\n      <th>3</th>\n      <td>Stalker</td>\n      <td>2</td>\n      <td>125</td>\n      <td>50</td>\n      <td>30/23</td>\n      <td>1.25</td>\n      <td>2</td>\n      <td>1 (+1)</td>\n      <td>80</td>\n      <td>80</td>\n      <td>...</td>\n      <td>13 (+1)</td>\n      <td>+5 (+1) A</td>\n      <td>9.7 (+0.75)</td>\n      <td>9.7 (+0.75)</td>\n      <td>+3.7 (+0.75) A</td>\n      <td>P</td>\n      <td>1.34</td>\n      <td>4.13</td>\n      <td>6</td>\n      <td>10</td>\n    </tr>\n    <tr>\n      <th>4</th>\n      <td>Adept</td>\n      <td>2</td>\n      <td>100</td>\n      <td>25</td>\n      <td>30/20</td>\n      <td>1</td>\n      <td>2</td>\n      <td>1 (+1)</td>\n      <td>70</td>\n      <td>70</td>\n      <td>...</td>\n      <td>-</td>\n      <td>+12 (+1) L</td>\n      <td>6.2 (+0.62)</td>\n      <td>-</td>\n      <td>+7.45 (+0.62) L</td>\n      <td>-</td>\n      <td>1.61 (1.11)</td>\n      <td>3.5 (4.78)</td>\n      <td>4</td>\n      <td>9</td>\n    </tr>\n  </tbody>\n</table>\n<p>5 rows × 22 columns</p>\n</div>"
     },
     "execution_count": 9,
     "metadata": {},
     "output_type": "execute_result"
    }
   ],
   "source": [
    "protoss_units.head()"
   ],
   "metadata": {
    "collapsed": false,
    "pycharm": {
     "name": "#%%\n"
    }
   }
  },
  {
   "cell_type": "code",
   "execution_count": 10,
   "outputs": [
    {
     "data": {
      "text/plain": "<sqlite3.Cursor at 0x7fcc430aa490>"
     },
     "execution_count": 10,
     "metadata": {},
     "output_type": "execute_result"
    }
   ],
   "source": [
    "c.execute(\"\"\"CREATE TABLE IF NOT EXISTS protoss_units ('Unit name' text, 'Supply' integer, 'Minerals' integer, 'Gas' integer, 'Game speed / Warp Gate' text, 'Size' real, 'Cargo' integer, 'Armor' text, 'Hit Points' integer, 'Plasma Shield' integer, 'Attributes' text, 'Ground Attack' text, 'Air Attack' text, 'Bonus' text, 'Ground DPS' text, 'Air DPS' text, 'Bonus DPS' text, 'Attack Mod' text, 'Cooldown' text, 'Speed' text, 'Range' text, 'Sight' integer)\"\"\")"
   ],
   "metadata": {
    "collapsed": false,
    "pycharm": {
     "name": "#%%\n"
    }
   }
  },
  {
   "cell_type": "code",
   "execution_count": 12,
   "outputs": [
    {
     "name": "stderr",
     "output_type": "stream",
     "text": [
      "/home/plato/mambaforge/envs/nlp/lib/python3.9/site-packages/pandas/core/generic.py:2872: UserWarning: The spaces in these column names will not be changed. In pandas versions < 0.14, spaces were converted to underscores.\n",
      "  sql.to_sql(\n"
     ]
    }
   ],
   "source": [
    "protoss_units.to_sql('protoss_units', conn, if_exists='append', index = False)\n",
    "conn.commit()"
   ],
   "metadata": {
    "collapsed": false,
    "pycharm": {
     "name": "#%%\n"
    }
   }
  },
  {
   "cell_type": "markdown",
   "source": [
    "#### Terran units / Jednostki Terrana\n",
    "We do the same process for terran, as we did earlier for protoss.\n",
    "Proces, który zastosowaliśmy dla protosa powtarzamy dla terrana."
   ],
   "metadata": {
    "collapsed": false,
    "pycharm": {
     "name": "#%% md\n"
    }
   }
  },
  {
   "cell_type": "code",
   "execution_count": 13,
   "outputs": [
    {
     "data": {
      "text/plain": "       Unit Unnamed: 1 Unnamed: 2 Unnamed: 3 Unnamed: 4   Size Cargo  \\\n0       SCV          1         50          0         12   0.75     1   \n1      MULE          -          -          -          -   0.75     -   \n2    Marine          1         50          0         18   0.75     1   \n3  Marauder          2        100         25         21  1.125     2   \n4    Reaper          1         50         50         32   0.75     1   \n\n  Unnamed: 7 Unnamed: 8    Attr.  ... A. Attack Bonus  \\\n0     0 (+1)         45  L, B, M  ...         -     -   \n1     0 (+1)         60     L, M  ...         -     -   \n2     0 (+1)   45 (+10)     L, B  ...    6 (+1)     -   \n3     1 (+1)        125     A, B  ...         -  +5 A   \n4     0 (+1)         60     L, B  ...         -     -   \n\n                      G. DPS                  A. DPS      Bonus DPS  \\\n0                        4.7                       -              -   \n1                          -                       -              -   \n2     9.8 (+1.64), 15 (+2.5)  9.8 (+1.64), 15 (+2.5)              -   \n3  9.3 (+1.87), 14.1 (+2.82)                       -  +9.3, +14.1 A   \n4               10.1 (+2.53)                       -              -   \n\n  Attack Mod     Cooldown         Speed Range Sight  \n0          -         1.07          3.94     M     8  \n1          -            -          3.94     -     8  \n2          -  0.61 (0.40)  3.15 (+1.57)     5     9  \n3          P  1.07 (0.71)  3.15 (+1.57)     6    10  \n4          -         0.79          5.25     5     9  \n\n[5 rows x 21 columns]",
      "text/html": "<div>\n<style scoped>\n    .dataframe tbody tr th:only-of-type {\n        vertical-align: middle;\n    }\n\n    .dataframe tbody tr th {\n        vertical-align: top;\n    }\n\n    .dataframe thead th {\n        text-align: right;\n    }\n</style>\n<table border=\"1\" class=\"dataframe\">\n  <thead>\n    <tr style=\"text-align: right;\">\n      <th></th>\n      <th>Unit</th>\n      <th>Unnamed: 1</th>\n      <th>Unnamed: 2</th>\n      <th>Unnamed: 3</th>\n      <th>Unnamed: 4</th>\n      <th>Size</th>\n      <th>Cargo</th>\n      <th>Unnamed: 7</th>\n      <th>Unnamed: 8</th>\n      <th>Attr.</th>\n      <th>...</th>\n      <th>A. Attack</th>\n      <th>Bonus</th>\n      <th>G. DPS</th>\n      <th>A. DPS</th>\n      <th>Bonus DPS</th>\n      <th>Attack Mod</th>\n      <th>Cooldown</th>\n      <th>Speed</th>\n      <th>Range</th>\n      <th>Sight</th>\n    </tr>\n  </thead>\n  <tbody>\n    <tr>\n      <th>0</th>\n      <td>SCV</td>\n      <td>1</td>\n      <td>50</td>\n      <td>0</td>\n      <td>12</td>\n      <td>0.75</td>\n      <td>1</td>\n      <td>0 (+1)</td>\n      <td>45</td>\n      <td>L, B, M</td>\n      <td>...</td>\n      <td>-</td>\n      <td>-</td>\n      <td>4.7</td>\n      <td>-</td>\n      <td>-</td>\n      <td>-</td>\n      <td>1.07</td>\n      <td>3.94</td>\n      <td>M</td>\n      <td>8</td>\n    </tr>\n    <tr>\n      <th>1</th>\n      <td>MULE</td>\n      <td>-</td>\n      <td>-</td>\n      <td>-</td>\n      <td>-</td>\n      <td>0.75</td>\n      <td>-</td>\n      <td>0 (+1)</td>\n      <td>60</td>\n      <td>L, M</td>\n      <td>...</td>\n      <td>-</td>\n      <td>-</td>\n      <td>-</td>\n      <td>-</td>\n      <td>-</td>\n      <td>-</td>\n      <td>-</td>\n      <td>3.94</td>\n      <td>-</td>\n      <td>8</td>\n    </tr>\n    <tr>\n      <th>2</th>\n      <td>Marine</td>\n      <td>1</td>\n      <td>50</td>\n      <td>0</td>\n      <td>18</td>\n      <td>0.75</td>\n      <td>1</td>\n      <td>0 (+1)</td>\n      <td>45 (+10)</td>\n      <td>L, B</td>\n      <td>...</td>\n      <td>6 (+1)</td>\n      <td>-</td>\n      <td>9.8 (+1.64), 15 (+2.5)</td>\n      <td>9.8 (+1.64), 15 (+2.5)</td>\n      <td>-</td>\n      <td>-</td>\n      <td>0.61 (0.40)</td>\n      <td>3.15 (+1.57)</td>\n      <td>5</td>\n      <td>9</td>\n    </tr>\n    <tr>\n      <th>3</th>\n      <td>Marauder</td>\n      <td>2</td>\n      <td>100</td>\n      <td>25</td>\n      <td>21</td>\n      <td>1.125</td>\n      <td>2</td>\n      <td>1 (+1)</td>\n      <td>125</td>\n      <td>A, B</td>\n      <td>...</td>\n      <td>-</td>\n      <td>+5 A</td>\n      <td>9.3 (+1.87), 14.1 (+2.82)</td>\n      <td>-</td>\n      <td>+9.3, +14.1 A</td>\n      <td>P</td>\n      <td>1.07 (0.71)</td>\n      <td>3.15 (+1.57)</td>\n      <td>6</td>\n      <td>10</td>\n    </tr>\n    <tr>\n      <th>4</th>\n      <td>Reaper</td>\n      <td>1</td>\n      <td>50</td>\n      <td>50</td>\n      <td>32</td>\n      <td>0.75</td>\n      <td>1</td>\n      <td>0 (+1)</td>\n      <td>60</td>\n      <td>L, B</td>\n      <td>...</td>\n      <td>-</td>\n      <td>-</td>\n      <td>10.1 (+2.53)</td>\n      <td>-</td>\n      <td>-</td>\n      <td>-</td>\n      <td>0.79</td>\n      <td>5.25</td>\n      <td>5</td>\n      <td>9</td>\n    </tr>\n  </tbody>\n</table>\n<p>5 rows × 21 columns</p>\n</div>"
     },
     "execution_count": 13,
     "metadata": {},
     "output_type": "execute_result"
    }
   ],
   "source": [
    "dfs[1].head()"
   ],
   "metadata": {
    "collapsed": false,
    "pycharm": {
     "name": "#%%\n"
    }
   }
  },
  {
   "cell_type": "code",
   "execution_count": 14,
   "outputs": [
    {
     "data": {
      "text/plain": "  Unit name Supply Minerals Gas Game speed   Size Cargo   Armor Hit Points  \\\n0       SCV      1       50   0         12   0.75     1  0 (+1)         45   \n1      MULE      -        -   -          -   0.75     -  0 (+1)         60   \n2    Marine      1       50   0         18   0.75     1  0 (+1)   45 (+10)   \n3  Marauder      2      100  25         21  1.125     2  1 (+1)        125   \n4    Reaper      1       50  50         32   0.75     1  0 (+1)         60   \n\n  Attributes  ... Air Attack Bonus                 Ground DPS  \\\n0    L, B, M  ...          -     -                        4.7   \n1       L, M  ...          -     -                          -   \n2       L, B  ...     6 (+1)     -     9.8 (+1.64), 15 (+2.5)   \n3       A, B  ...          -  +5 A  9.3 (+1.87), 14.1 (+2.82)   \n4       L, B  ...          -     -               10.1 (+2.53)   \n\n                  Air DPS      Bonus DPS Attack Mod     Cooldown  \\\n0                       -              -          -         1.07   \n1                       -              -          -            -   \n2  9.8 (+1.64), 15 (+2.5)              -          -  0.61 (0.40)   \n3                       -  +9.3, +14.1 A          P  1.07 (0.71)   \n4                       -              -          -         0.79   \n\n          Speed Range Sight  \n0          3.94     M     8  \n1          3.94     -     8  \n2  3.15 (+1.57)     5     9  \n3  3.15 (+1.57)     6    10  \n4          5.25     5     9  \n\n[5 rows x 21 columns]",
      "text/html": "<div>\n<style scoped>\n    .dataframe tbody tr th:only-of-type {\n        vertical-align: middle;\n    }\n\n    .dataframe tbody tr th {\n        vertical-align: top;\n    }\n\n    .dataframe thead th {\n        text-align: right;\n    }\n</style>\n<table border=\"1\" class=\"dataframe\">\n  <thead>\n    <tr style=\"text-align: right;\">\n      <th></th>\n      <th>Unit name</th>\n      <th>Supply</th>\n      <th>Minerals</th>\n      <th>Gas</th>\n      <th>Game speed</th>\n      <th>Size</th>\n      <th>Cargo</th>\n      <th>Armor</th>\n      <th>Hit Points</th>\n      <th>Attributes</th>\n      <th>...</th>\n      <th>Air Attack</th>\n      <th>Bonus</th>\n      <th>Ground DPS</th>\n      <th>Air DPS</th>\n      <th>Bonus DPS</th>\n      <th>Attack Mod</th>\n      <th>Cooldown</th>\n      <th>Speed</th>\n      <th>Range</th>\n      <th>Sight</th>\n    </tr>\n  </thead>\n  <tbody>\n    <tr>\n      <th>0</th>\n      <td>SCV</td>\n      <td>1</td>\n      <td>50</td>\n      <td>0</td>\n      <td>12</td>\n      <td>0.75</td>\n      <td>1</td>\n      <td>0 (+1)</td>\n      <td>45</td>\n      <td>L, B, M</td>\n      <td>...</td>\n      <td>-</td>\n      <td>-</td>\n      <td>4.7</td>\n      <td>-</td>\n      <td>-</td>\n      <td>-</td>\n      <td>1.07</td>\n      <td>3.94</td>\n      <td>M</td>\n      <td>8</td>\n    </tr>\n    <tr>\n      <th>1</th>\n      <td>MULE</td>\n      <td>-</td>\n      <td>-</td>\n      <td>-</td>\n      <td>-</td>\n      <td>0.75</td>\n      <td>-</td>\n      <td>0 (+1)</td>\n      <td>60</td>\n      <td>L, M</td>\n      <td>...</td>\n      <td>-</td>\n      <td>-</td>\n      <td>-</td>\n      <td>-</td>\n      <td>-</td>\n      <td>-</td>\n      <td>-</td>\n      <td>3.94</td>\n      <td>-</td>\n      <td>8</td>\n    </tr>\n    <tr>\n      <th>2</th>\n      <td>Marine</td>\n      <td>1</td>\n      <td>50</td>\n      <td>0</td>\n      <td>18</td>\n      <td>0.75</td>\n      <td>1</td>\n      <td>0 (+1)</td>\n      <td>45 (+10)</td>\n      <td>L, B</td>\n      <td>...</td>\n      <td>6 (+1)</td>\n      <td>-</td>\n      <td>9.8 (+1.64), 15 (+2.5)</td>\n      <td>9.8 (+1.64), 15 (+2.5)</td>\n      <td>-</td>\n      <td>-</td>\n      <td>0.61 (0.40)</td>\n      <td>3.15 (+1.57)</td>\n      <td>5</td>\n      <td>9</td>\n    </tr>\n    <tr>\n      <th>3</th>\n      <td>Marauder</td>\n      <td>2</td>\n      <td>100</td>\n      <td>25</td>\n      <td>21</td>\n      <td>1.125</td>\n      <td>2</td>\n      <td>1 (+1)</td>\n      <td>125</td>\n      <td>A, B</td>\n      <td>...</td>\n      <td>-</td>\n      <td>+5 A</td>\n      <td>9.3 (+1.87), 14.1 (+2.82)</td>\n      <td>-</td>\n      <td>+9.3, +14.1 A</td>\n      <td>P</td>\n      <td>1.07 (0.71)</td>\n      <td>3.15 (+1.57)</td>\n      <td>6</td>\n      <td>10</td>\n    </tr>\n    <tr>\n      <th>4</th>\n      <td>Reaper</td>\n      <td>1</td>\n      <td>50</td>\n      <td>50</td>\n      <td>32</td>\n      <td>0.75</td>\n      <td>1</td>\n      <td>0 (+1)</td>\n      <td>60</td>\n      <td>L, B</td>\n      <td>...</td>\n      <td>-</td>\n      <td>-</td>\n      <td>10.1 (+2.53)</td>\n      <td>-</td>\n      <td>-</td>\n      <td>-</td>\n      <td>0.79</td>\n      <td>5.25</td>\n      <td>5</td>\n      <td>9</td>\n    </tr>\n  </tbody>\n</table>\n<p>5 rows × 21 columns</p>\n</div>"
     },
     "execution_count": 14,
     "metadata": {},
     "output_type": "execute_result"
    }
   ],
   "source": [
    "terran_units = dfs[1]\n",
    "terran_units.columns = ['Unit name', 'Supply', 'Minerals', 'Gas', 'Game speed', 'Size',\n",
    "                         'Cargo', 'Armor', 'Hit Points', 'Attributes', 'Ground Attack',\n",
    "                         'Air Attack', 'Bonus', 'Ground DPS', 'Air DPS', 'Bonus DPS', 'Attack Mod',\n",
    "                         'Cooldown', 'Speed', 'Range', 'Sight']\n",
    "terran_units.head()"
   ],
   "metadata": {
    "collapsed": false,
    "pycharm": {
     "name": "#%%\n"
    }
   }
  },
  {
   "cell_type": "code",
   "execution_count": 15,
   "outputs": [],
   "source": [
    "c.execute(\"\"\"CREATE TABLE IF NOT EXISTS terran_units ('Unit name' text, 'Supply' integer, 'Minerals' integer, 'Gas' integer, 'Game speed' text, 'Size' real, 'Cargo' integer, 'Armor' text, 'Hit Points' integer, 'Attributes' text, 'Ground Attack' text, 'Air Attack' text, 'Bonus' text, 'Ground DPS' text, 'Air DPS' text, 'Bonus DPS' text, 'Attack Mod' text, 'Cooldown' text, 'Speed' text, 'Range' text, 'Sight' integer)\"\"\")\n",
    "conn.commit()"
   ],
   "metadata": {
    "collapsed": false,
    "pycharm": {
     "name": "#%%\n"
    }
   }
  },
  {
   "cell_type": "code",
   "execution_count": 16,
   "outputs": [
    {
     "name": "stderr",
     "output_type": "stream",
     "text": [
      "/home/plato/mambaforge/envs/nlp/lib/python3.9/site-packages/pandas/core/generic.py:2872: UserWarning: The spaces in these column names will not be changed. In pandas versions < 0.14, spaces were converted to underscores.\n",
      "  sql.to_sql(\n"
     ]
    }
   ],
   "source": [
    "terran_units.to_sql('terran_units', conn, if_exists='append', index = False)"
   ],
   "metadata": {
    "collapsed": false,
    "pycharm": {
     "name": "#%%\n"
    }
   }
  },
  {
   "cell_type": "markdown",
   "source": [
    "#### Zerg units / Jednostki Zerga\n",
    "We do the same process for zerg, as we did earlier for protoss and terran.\n",
    "Powtarzamy powyższy proces dla zerga."
   ],
   "metadata": {
    "collapsed": false,
    "pycharm": {
     "name": "#%% md\n"
    }
   }
  },
  {
   "cell_type": "code",
   "execution_count": 17,
   "outputs": [
    {
     "data": {
      "text/plain": "       Unit Unnamed: 1 Unnamed: 2 Unnamed: 3  Unnamed: 4  Size Cargo  \\\n0     Larva          -          -          -          11  0.25     -   \n1     Drone          1         50          0          12  0.75     1   \n2     Queen          2        150          0          36  1.75     2   \n3  Zergling        0.5         25          0          17  0.75     1   \n4  Baneling        0.5         25         25          14  0.75     2   \n\n  Unnamed: 7 Unnamed: 8 Attr.  ...                    Bonus  \\\n0         10         25  L, B  ...                        -   \n1     0 (+1)         40  L, B  ...                        -   \n2     1 (+1)        175  B, P  ...                        -   \n3     0 (+1)         35  L, B  ...                        -   \n4     0 (+1)    30 (+5)     B  ...  +19 (+2) L / +64 (+5) S   \n\n                  G. DPS        A. DPS Bonus DPS Attack Mod       Cooldown  \\\n0                      -             -         -          -              -   \n1                    4.7             -         -          -           1.07   \n2           11.3 (+2.82)  12.7 (+1.41)         -          P           0.71   \n3  10 (+2), 14.1 (+2.82)             -         -          -  0.497 (0.354)   \n4                      -             -         -          S              -   \n\n          Speed Creep bonus Range Sight  \n0        (0.79)        x1.0     -     5  \n1          3.94        x1.0     M     8  \n2          1.31        x2.7  5, 7     9  \n3  4.13 (+2.45)        x1.3     M     8  \n4   3.5 (+0.63)        x1.3     M     8  \n\n[5 rows x 22 columns]",
      "text/html": "<div>\n<style scoped>\n    .dataframe tbody tr th:only-of-type {\n        vertical-align: middle;\n    }\n\n    .dataframe tbody tr th {\n        vertical-align: top;\n    }\n\n    .dataframe thead th {\n        text-align: right;\n    }\n</style>\n<table border=\"1\" class=\"dataframe\">\n  <thead>\n    <tr style=\"text-align: right;\">\n      <th></th>\n      <th>Unit</th>\n      <th>Unnamed: 1</th>\n      <th>Unnamed: 2</th>\n      <th>Unnamed: 3</th>\n      <th>Unnamed: 4</th>\n      <th>Size</th>\n      <th>Cargo</th>\n      <th>Unnamed: 7</th>\n      <th>Unnamed: 8</th>\n      <th>Attr.</th>\n      <th>...</th>\n      <th>Bonus</th>\n      <th>G. DPS</th>\n      <th>A. DPS</th>\n      <th>Bonus DPS</th>\n      <th>Attack Mod</th>\n      <th>Cooldown</th>\n      <th>Speed</th>\n      <th>Creep bonus</th>\n      <th>Range</th>\n      <th>Sight</th>\n    </tr>\n  </thead>\n  <tbody>\n    <tr>\n      <th>0</th>\n      <td>Larva</td>\n      <td>-</td>\n      <td>-</td>\n      <td>-</td>\n      <td>11</td>\n      <td>0.25</td>\n      <td>-</td>\n      <td>10</td>\n      <td>25</td>\n      <td>L, B</td>\n      <td>...</td>\n      <td>-</td>\n      <td>-</td>\n      <td>-</td>\n      <td>-</td>\n      <td>-</td>\n      <td>-</td>\n      <td>(0.79)</td>\n      <td>x1.0</td>\n      <td>-</td>\n      <td>5</td>\n    </tr>\n    <tr>\n      <th>1</th>\n      <td>Drone</td>\n      <td>1</td>\n      <td>50</td>\n      <td>0</td>\n      <td>12</td>\n      <td>0.75</td>\n      <td>1</td>\n      <td>0 (+1)</td>\n      <td>40</td>\n      <td>L, B</td>\n      <td>...</td>\n      <td>-</td>\n      <td>4.7</td>\n      <td>-</td>\n      <td>-</td>\n      <td>-</td>\n      <td>1.07</td>\n      <td>3.94</td>\n      <td>x1.0</td>\n      <td>M</td>\n      <td>8</td>\n    </tr>\n    <tr>\n      <th>2</th>\n      <td>Queen</td>\n      <td>2</td>\n      <td>150</td>\n      <td>0</td>\n      <td>36</td>\n      <td>1.75</td>\n      <td>2</td>\n      <td>1 (+1)</td>\n      <td>175</td>\n      <td>B, P</td>\n      <td>...</td>\n      <td>-</td>\n      <td>11.3 (+2.82)</td>\n      <td>12.7 (+1.41)</td>\n      <td>-</td>\n      <td>P</td>\n      <td>0.71</td>\n      <td>1.31</td>\n      <td>x2.7</td>\n      <td>5, 7</td>\n      <td>9</td>\n    </tr>\n    <tr>\n      <th>3</th>\n      <td>Zergling</td>\n      <td>0.5</td>\n      <td>25</td>\n      <td>0</td>\n      <td>17</td>\n      <td>0.75</td>\n      <td>1</td>\n      <td>0 (+1)</td>\n      <td>35</td>\n      <td>L, B</td>\n      <td>...</td>\n      <td>-</td>\n      <td>10 (+2), 14.1 (+2.82)</td>\n      <td>-</td>\n      <td>-</td>\n      <td>-</td>\n      <td>0.497 (0.354)</td>\n      <td>4.13 (+2.45)</td>\n      <td>x1.3</td>\n      <td>M</td>\n      <td>8</td>\n    </tr>\n    <tr>\n      <th>4</th>\n      <td>Baneling</td>\n      <td>0.5</td>\n      <td>25</td>\n      <td>25</td>\n      <td>14</td>\n      <td>0.75</td>\n      <td>2</td>\n      <td>0 (+1)</td>\n      <td>30 (+5)</td>\n      <td>B</td>\n      <td>...</td>\n      <td>+19 (+2) L / +64 (+5) S</td>\n      <td>-</td>\n      <td>-</td>\n      <td>-</td>\n      <td>S</td>\n      <td>-</td>\n      <td>3.5 (+0.63)</td>\n      <td>x1.3</td>\n      <td>M</td>\n      <td>8</td>\n    </tr>\n  </tbody>\n</table>\n<p>5 rows × 22 columns</p>\n</div>"
     },
     "execution_count": 17,
     "metadata": {},
     "output_type": "execute_result"
    }
   ],
   "source": [
    "dfs[2].head()"
   ],
   "metadata": {
    "collapsed": false,
    "pycharm": {
     "name": "#%%\n"
    }
   }
  },
  {
   "cell_type": "code",
   "execution_count": 18,
   "outputs": [
    {
     "data": {
      "text/plain": "  Unit name Supply Minerals Gas  Game speed  Size Cargo   Armor Hit Points  \\\n0     Larva      -        -   -          11  0.25     -      10         25   \n1     Drone      1       50   0          12  0.75     1  0 (+1)         40   \n2     Queen      2      150   0          36  1.75     2  1 (+1)        175   \n3  Zergling    0.5       25   0          17  0.75     1  0 (+1)         35   \n4  Baneling    0.5       25  25          14  0.75     2  0 (+1)    30 (+5)   \n\n  Attributes  ...                    Bonus             Ground DPS  \\\n0       L, B  ...                        -                      -   \n1       L, B  ...                        -                    4.7   \n2       B, P  ...                        -           11.3 (+2.82)   \n3       L, B  ...                        -  10 (+2), 14.1 (+2.82)   \n4          B  ...  +19 (+2) L / +64 (+5) S                      -   \n\n        Air DPS Bonus DPS Attack Mod       Cooldown         Speed Creep Bonus  \\\n0             -         -          -              -        (0.79)        x1.0   \n1             -         -          -           1.07          3.94        x1.0   \n2  12.7 (+1.41)         -          P           0.71          1.31        x2.7   \n3             -         -          -  0.497 (0.354)  4.13 (+2.45)        x1.3   \n4             -         -          S              -   3.5 (+0.63)        x1.3   \n\n  Range Sight  \n0     -     5  \n1     M     8  \n2  5, 7     9  \n3     M     8  \n4     M     8  \n\n[5 rows x 22 columns]",
      "text/html": "<div>\n<style scoped>\n    .dataframe tbody tr th:only-of-type {\n        vertical-align: middle;\n    }\n\n    .dataframe tbody tr th {\n        vertical-align: top;\n    }\n\n    .dataframe thead th {\n        text-align: right;\n    }\n</style>\n<table border=\"1\" class=\"dataframe\">\n  <thead>\n    <tr style=\"text-align: right;\">\n      <th></th>\n      <th>Unit name</th>\n      <th>Supply</th>\n      <th>Minerals</th>\n      <th>Gas</th>\n      <th>Game speed</th>\n      <th>Size</th>\n      <th>Cargo</th>\n      <th>Armor</th>\n      <th>Hit Points</th>\n      <th>Attributes</th>\n      <th>...</th>\n      <th>Bonus</th>\n      <th>Ground DPS</th>\n      <th>Air DPS</th>\n      <th>Bonus DPS</th>\n      <th>Attack Mod</th>\n      <th>Cooldown</th>\n      <th>Speed</th>\n      <th>Creep Bonus</th>\n      <th>Range</th>\n      <th>Sight</th>\n    </tr>\n  </thead>\n  <tbody>\n    <tr>\n      <th>0</th>\n      <td>Larva</td>\n      <td>-</td>\n      <td>-</td>\n      <td>-</td>\n      <td>11</td>\n      <td>0.25</td>\n      <td>-</td>\n      <td>10</td>\n      <td>25</td>\n      <td>L, B</td>\n      <td>...</td>\n      <td>-</td>\n      <td>-</td>\n      <td>-</td>\n      <td>-</td>\n      <td>-</td>\n      <td>-</td>\n      <td>(0.79)</td>\n      <td>x1.0</td>\n      <td>-</td>\n      <td>5</td>\n    </tr>\n    <tr>\n      <th>1</th>\n      <td>Drone</td>\n      <td>1</td>\n      <td>50</td>\n      <td>0</td>\n      <td>12</td>\n      <td>0.75</td>\n      <td>1</td>\n      <td>0 (+1)</td>\n      <td>40</td>\n      <td>L, B</td>\n      <td>...</td>\n      <td>-</td>\n      <td>4.7</td>\n      <td>-</td>\n      <td>-</td>\n      <td>-</td>\n      <td>1.07</td>\n      <td>3.94</td>\n      <td>x1.0</td>\n      <td>M</td>\n      <td>8</td>\n    </tr>\n    <tr>\n      <th>2</th>\n      <td>Queen</td>\n      <td>2</td>\n      <td>150</td>\n      <td>0</td>\n      <td>36</td>\n      <td>1.75</td>\n      <td>2</td>\n      <td>1 (+1)</td>\n      <td>175</td>\n      <td>B, P</td>\n      <td>...</td>\n      <td>-</td>\n      <td>11.3 (+2.82)</td>\n      <td>12.7 (+1.41)</td>\n      <td>-</td>\n      <td>P</td>\n      <td>0.71</td>\n      <td>1.31</td>\n      <td>x2.7</td>\n      <td>5, 7</td>\n      <td>9</td>\n    </tr>\n    <tr>\n      <th>3</th>\n      <td>Zergling</td>\n      <td>0.5</td>\n      <td>25</td>\n      <td>0</td>\n      <td>17</td>\n      <td>0.75</td>\n      <td>1</td>\n      <td>0 (+1)</td>\n      <td>35</td>\n      <td>L, B</td>\n      <td>...</td>\n      <td>-</td>\n      <td>10 (+2), 14.1 (+2.82)</td>\n      <td>-</td>\n      <td>-</td>\n      <td>-</td>\n      <td>0.497 (0.354)</td>\n      <td>4.13 (+2.45)</td>\n      <td>x1.3</td>\n      <td>M</td>\n      <td>8</td>\n    </tr>\n    <tr>\n      <th>4</th>\n      <td>Baneling</td>\n      <td>0.5</td>\n      <td>25</td>\n      <td>25</td>\n      <td>14</td>\n      <td>0.75</td>\n      <td>2</td>\n      <td>0 (+1)</td>\n      <td>30 (+5)</td>\n      <td>B</td>\n      <td>...</td>\n      <td>+19 (+2) L / +64 (+5) S</td>\n      <td>-</td>\n      <td>-</td>\n      <td>-</td>\n      <td>S</td>\n      <td>-</td>\n      <td>3.5 (+0.63)</td>\n      <td>x1.3</td>\n      <td>M</td>\n      <td>8</td>\n    </tr>\n  </tbody>\n</table>\n<p>5 rows × 22 columns</p>\n</div>"
     },
     "execution_count": 18,
     "metadata": {},
     "output_type": "execute_result"
    }
   ],
   "source": [
    "zerg_units = dfs[2]\n",
    "zerg_units.columns = ['Unit name', 'Supply', 'Minerals', 'Gas', 'Game speed', 'Size',\n",
    "                      'Cargo', 'Armor', 'Hit Points', 'Attributes', 'Ground Attack',\n",
    "                      'Air Attack', 'Bonus', 'Ground DPS', 'Air DPS', 'Bonus DPS', 'Attack Mod',\n",
    "                      'Cooldown', 'Speed', 'Creep Bonus', 'Range', 'Sight']\n",
    "zerg_units.head()"
   ],
   "metadata": {
    "collapsed": false,
    "pycharm": {
     "name": "#%%\n"
    }
   }
  },
  {
   "cell_type": "code",
   "execution_count": 19,
   "outputs": [
    {
     "name": "stderr",
     "output_type": "stream",
     "text": [
      "/home/plato/mambaforge/envs/nlp/lib/python3.9/site-packages/pandas/core/generic.py:2872: UserWarning: The spaces in these column names will not be changed. In pandas versions < 0.14, spaces were converted to underscores.\n",
      "  sql.to_sql(\n"
     ]
    }
   ],
   "source": [
    "c.execute(\n",
    "    \"\"\"CREATE TABLE IF NOT EXISTS zerg_units ('Unit name' text, 'Supply' integer, 'Minerals' integer, 'Gas' integer, 'Game speed' text, 'Size' real, 'Cargo' integer, 'Armor' text, 'Hit Points' integer, 'Attributes' text, 'Ground Attack' text, 'Air Attack' text, 'Bonus' text, 'Ground DPS' text, 'Air DPS' text, 'Bonus DPS' text, 'Attack Mod' text, 'Cooldown' text, 'Speed' text, 'Creep Bonus' text, 'Range' text, 'Sight' integer)\"\"\")\n",
    "zerg_units.to_sql('zerg_units', conn, if_exists='append', index=False)"
   ],
   "metadata": {
    "collapsed": false,
    "pycharm": {
     "name": "#%%\n"
    }
   }
  },
  {
   "cell_type": "code",
   "execution_count": 19,
   "outputs": [],
   "source": [],
   "metadata": {
    "collapsed": false,
    "pycharm": {
     "name": "#%%\n"
    }
   }
  },
  {
   "cell_type": "code",
   "execution_count": 20,
   "outputs": [],
   "source": [
    "# Commiting changes and closing connection\n",
    "# Zapisywanie zmain i zamykanie połączenia\n",
    "conn.commit()\n",
    "conn.close()"
   ],
   "metadata": {
    "collapsed": false,
    "pycharm": {
     "name": "#%%\n"
    }
   }
  },
  {
   "cell_type": "code",
   "execution_count": 20,
   "outputs": [],
   "source": [],
   "metadata": {
    "collapsed": false,
    "pycharm": {
     "name": "#%%\n"
    }
   }
  }
 ],
 "metadata": {
  "kernelspec": {
   "name": "nlp",
   "language": "python",
   "display_name": "nlp"
  },
  "language_info": {
   "codemirror_mode": {
    "name": "ipython",
    "version": 2
   },
   "file_extension": ".py",
   "mimetype": "text/x-python",
   "name": "python",
   "nbconvert_exporter": "python",
   "pygments_lexer": "ipython2",
   "version": "2.7.6"
  }
 },
 "nbformat": 4,
 "nbformat_minor": 0
}